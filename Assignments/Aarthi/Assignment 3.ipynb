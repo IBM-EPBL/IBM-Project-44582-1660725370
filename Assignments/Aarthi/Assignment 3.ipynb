{
 "cells": [
  {
   "cell_type": "markdown",
   "id": "94009acf",
   "metadata": {},
   "source": [
    "## Loading the Dataset"
   ]
  },
  {
   "cell_type": "code",
   "execution_count": 2,
   "id": "3a3169b4",
   "metadata": {},
   "outputs": [],
   "source": [
    "import pandas as pd"
   ]
  },
  {
   "cell_type": "code",
   "execution_count": 3,
   "id": "08648738",
   "metadata": {},
   "outputs": [],
   "source": [
    "df = pd.read_csv(\"abalone.csv\")"
   ]
  },
  {
   "cell_type": "code",
   "execution_count": 4,
   "id": "57f2e45c",
   "metadata": {},
   "outputs": [
    {
     "data": {
      "text/html": [
       "<div>\n",
       "<style scoped>\n",
       "    .dataframe tbody tr th:only-of-type {\n",
       "        vertical-align: middle;\n",
       "    }\n",
       "\n",
       "    .dataframe tbody tr th {\n",
       "        vertical-align: top;\n",
       "    }\n",
       "\n",
       "    .dataframe thead th {\n",
       "        text-align: right;\n",
       "    }\n",
       "</style>\n",
       "<table border=\"1\" class=\"dataframe\">\n",
       "  <thead>\n",
       "    <tr style=\"text-align: right;\">\n",
       "      <th></th>\n",
       "      <th>Sex</th>\n",
       "      <th>Length</th>\n",
       "      <th>Diameter</th>\n",
       "      <th>Height</th>\n",
       "      <th>Whole weight</th>\n",
       "      <th>Shucked weight</th>\n",
       "      <th>Viscera weight</th>\n",
       "      <th>Shell weight</th>\n",
       "      <th>Rings</th>\n",
       "    </tr>\n",
       "  </thead>\n",
       "  <tbody>\n",
       "    <tr>\n",
       "      <th>0</th>\n",
       "      <td>M</td>\n",
       "      <td>0.455</td>\n",
       "      <td>0.365</td>\n",
       "      <td>0.095</td>\n",
       "      <td>0.5140</td>\n",
       "      <td>0.2245</td>\n",
       "      <td>0.1010</td>\n",
       "      <td>0.1500</td>\n",
       "      <td>15</td>\n",
       "    </tr>\n",
       "    <tr>\n",
       "      <th>1</th>\n",
       "      <td>M</td>\n",
       "      <td>0.350</td>\n",
       "      <td>0.265</td>\n",
       "      <td>0.090</td>\n",
       "      <td>0.2255</td>\n",
       "      <td>0.0995</td>\n",
       "      <td>0.0485</td>\n",
       "      <td>0.0700</td>\n",
       "      <td>7</td>\n",
       "    </tr>\n",
       "    <tr>\n",
       "      <th>2</th>\n",
       "      <td>F</td>\n",
       "      <td>0.530</td>\n",
       "      <td>0.420</td>\n",
       "      <td>0.135</td>\n",
       "      <td>0.6770</td>\n",
       "      <td>0.2565</td>\n",
       "      <td>0.1415</td>\n",
       "      <td>0.2100</td>\n",
       "      <td>9</td>\n",
       "    </tr>\n",
       "    <tr>\n",
       "      <th>3</th>\n",
       "      <td>M</td>\n",
       "      <td>0.440</td>\n",
       "      <td>0.365</td>\n",
       "      <td>0.125</td>\n",
       "      <td>0.5160</td>\n",
       "      <td>0.2155</td>\n",
       "      <td>0.1140</td>\n",
       "      <td>0.1550</td>\n",
       "      <td>10</td>\n",
       "    </tr>\n",
       "    <tr>\n",
       "      <th>4</th>\n",
       "      <td>I</td>\n",
       "      <td>0.330</td>\n",
       "      <td>0.255</td>\n",
       "      <td>0.080</td>\n",
       "      <td>0.2050</td>\n",
       "      <td>0.0895</td>\n",
       "      <td>0.0395</td>\n",
       "      <td>0.0550</td>\n",
       "      <td>7</td>\n",
       "    </tr>\n",
       "    <tr>\n",
       "      <th>...</th>\n",
       "      <td>...</td>\n",
       "      <td>...</td>\n",
       "      <td>...</td>\n",
       "      <td>...</td>\n",
       "      <td>...</td>\n",
       "      <td>...</td>\n",
       "      <td>...</td>\n",
       "      <td>...</td>\n",
       "      <td>...</td>\n",
       "    </tr>\n",
       "    <tr>\n",
       "      <th>4172</th>\n",
       "      <td>F</td>\n",
       "      <td>0.565</td>\n",
       "      <td>0.450</td>\n",
       "      <td>0.165</td>\n",
       "      <td>0.8870</td>\n",
       "      <td>0.3700</td>\n",
       "      <td>0.2390</td>\n",
       "      <td>0.2490</td>\n",
       "      <td>11</td>\n",
       "    </tr>\n",
       "    <tr>\n",
       "      <th>4173</th>\n",
       "      <td>M</td>\n",
       "      <td>0.590</td>\n",
       "      <td>0.440</td>\n",
       "      <td>0.135</td>\n",
       "      <td>0.9660</td>\n",
       "      <td>0.4390</td>\n",
       "      <td>0.2145</td>\n",
       "      <td>0.2605</td>\n",
       "      <td>10</td>\n",
       "    </tr>\n",
       "    <tr>\n",
       "      <th>4174</th>\n",
       "      <td>M</td>\n",
       "      <td>0.600</td>\n",
       "      <td>0.475</td>\n",
       "      <td>0.205</td>\n",
       "      <td>1.1760</td>\n",
       "      <td>0.5255</td>\n",
       "      <td>0.2875</td>\n",
       "      <td>0.3080</td>\n",
       "      <td>9</td>\n",
       "    </tr>\n",
       "    <tr>\n",
       "      <th>4175</th>\n",
       "      <td>F</td>\n",
       "      <td>0.625</td>\n",
       "      <td>0.485</td>\n",
       "      <td>0.150</td>\n",
       "      <td>1.0945</td>\n",
       "      <td>0.5310</td>\n",
       "      <td>0.2610</td>\n",
       "      <td>0.2960</td>\n",
       "      <td>10</td>\n",
       "    </tr>\n",
       "    <tr>\n",
       "      <th>4176</th>\n",
       "      <td>M</td>\n",
       "      <td>0.710</td>\n",
       "      <td>0.555</td>\n",
       "      <td>0.195</td>\n",
       "      <td>1.9485</td>\n",
       "      <td>0.9455</td>\n",
       "      <td>0.3765</td>\n",
       "      <td>0.4950</td>\n",
       "      <td>12</td>\n",
       "    </tr>\n",
       "  </tbody>\n",
       "</table>\n",
       "<p>4177 rows × 9 columns</p>\n",
       "</div>"
      ],
      "text/plain": [
       "     Sex  Length  Diameter  Height  Whole weight  Shucked weight  \\\n",
       "0      M   0.455     0.365   0.095        0.5140          0.2245   \n",
       "1      M   0.350     0.265   0.090        0.2255          0.0995   \n",
       "2      F   0.530     0.420   0.135        0.6770          0.2565   \n",
       "3      M   0.440     0.365   0.125        0.5160          0.2155   \n",
       "4      I   0.330     0.255   0.080        0.2050          0.0895   \n",
       "...   ..     ...       ...     ...           ...             ...   \n",
       "4172   F   0.565     0.450   0.165        0.8870          0.3700   \n",
       "4173   M   0.590     0.440   0.135        0.9660          0.4390   \n",
       "4174   M   0.600     0.475   0.205        1.1760          0.5255   \n",
       "4175   F   0.625     0.485   0.150        1.0945          0.5310   \n",
       "4176   M   0.710     0.555   0.195        1.9485          0.9455   \n",
       "\n",
       "      Viscera weight  Shell weight  Rings  \n",
       "0             0.1010        0.1500     15  \n",
       "1             0.0485        0.0700      7  \n",
       "2             0.1415        0.2100      9  \n",
       "3             0.1140        0.1550     10  \n",
       "4             0.0395        0.0550      7  \n",
       "...              ...           ...    ...  \n",
       "4172          0.2390        0.2490     11  \n",
       "4173          0.2145        0.2605     10  \n",
       "4174          0.2875        0.3080      9  \n",
       "4175          0.2610        0.2960     10  \n",
       "4176          0.3765        0.4950     12  \n",
       "\n",
       "[4177 rows x 9 columns]"
      ]
     },
     "execution_count": 4,
     "metadata": {},
     "output_type": "execute_result"
    }
   ],
   "source": [
    "df"
   ]
  },
  {
   "cell_type": "markdown",
   "id": "5c28d1e4",
   "metadata": {},
   "source": [
    "## Visualization"
   ]
  },
  {
   "cell_type": "markdown",
   "id": "732cf6ef",
   "metadata": {},
   "source": [
    "## Univariant Analysis"
   ]
  },
  {
   "cell_type": "code",
   "execution_count": 5,
   "id": "54ad2dfb",
   "metadata": {},
   "outputs": [],
   "source": [
    "import matplotlib.pyplot as plt\n",
    "from matplotlib import rcParams"
   ]
  },
  {
   "cell_type": "code",
   "execution_count": 6,
   "id": "e00c73b7",
   "metadata": {},
   "outputs": [],
   "source": [
    "import seaborn as sns"
   ]
  },
  {
   "cell_type": "markdown",
   "id": "ac39f13a",
   "metadata": {},
   "source": [
    "## Line plot"
   ]
  },
  {
   "cell_type": "code",
   "execution_count": 7,
   "id": "ddd49774",
   "metadata": {},
   "outputs": [],
   "source": [
    "df1=df.head(100)"
   ]
  },
  {
   "cell_type": "code",
   "execution_count": 8,
   "id": "fbc13b87",
   "metadata": {},
   "outputs": [
    {
     "data": {
      "text/html": [
       "<div>\n",
       "<style scoped>\n",
       "    .dataframe tbody tr th:only-of-type {\n",
       "        vertical-align: middle;\n",
       "    }\n",
       "\n",
       "    .dataframe tbody tr th {\n",
       "        vertical-align: top;\n",
       "    }\n",
       "\n",
       "    .dataframe thead th {\n",
       "        text-align: right;\n",
       "    }\n",
       "</style>\n",
       "<table border=\"1\" class=\"dataframe\">\n",
       "  <thead>\n",
       "    <tr style=\"text-align: right;\">\n",
       "      <th></th>\n",
       "      <th>Sex</th>\n",
       "      <th>Length</th>\n",
       "      <th>Diameter</th>\n",
       "      <th>Height</th>\n",
       "      <th>Whole weight</th>\n",
       "      <th>Shucked weight</th>\n",
       "      <th>Viscera weight</th>\n",
       "      <th>Shell weight</th>\n",
       "      <th>Rings</th>\n",
       "    </tr>\n",
       "  </thead>\n",
       "  <tbody>\n",
       "    <tr>\n",
       "      <th>0</th>\n",
       "      <td>M</td>\n",
       "      <td>0.455</td>\n",
       "      <td>0.365</td>\n",
       "      <td>0.095</td>\n",
       "      <td>0.5140</td>\n",
       "      <td>0.2245</td>\n",
       "      <td>0.1010</td>\n",
       "      <td>0.150</td>\n",
       "      <td>15</td>\n",
       "    </tr>\n",
       "    <tr>\n",
       "      <th>1</th>\n",
       "      <td>M</td>\n",
       "      <td>0.350</td>\n",
       "      <td>0.265</td>\n",
       "      <td>0.090</td>\n",
       "      <td>0.2255</td>\n",
       "      <td>0.0995</td>\n",
       "      <td>0.0485</td>\n",
       "      <td>0.070</td>\n",
       "      <td>7</td>\n",
       "    </tr>\n",
       "    <tr>\n",
       "      <th>2</th>\n",
       "      <td>F</td>\n",
       "      <td>0.530</td>\n",
       "      <td>0.420</td>\n",
       "      <td>0.135</td>\n",
       "      <td>0.6770</td>\n",
       "      <td>0.2565</td>\n",
       "      <td>0.1415</td>\n",
       "      <td>0.210</td>\n",
       "      <td>9</td>\n",
       "    </tr>\n",
       "    <tr>\n",
       "      <th>3</th>\n",
       "      <td>M</td>\n",
       "      <td>0.440</td>\n",
       "      <td>0.365</td>\n",
       "      <td>0.125</td>\n",
       "      <td>0.5160</td>\n",
       "      <td>0.2155</td>\n",
       "      <td>0.1140</td>\n",
       "      <td>0.155</td>\n",
       "      <td>10</td>\n",
       "    </tr>\n",
       "    <tr>\n",
       "      <th>4</th>\n",
       "      <td>I</td>\n",
       "      <td>0.330</td>\n",
       "      <td>0.255</td>\n",
       "      <td>0.080</td>\n",
       "      <td>0.2050</td>\n",
       "      <td>0.0895</td>\n",
       "      <td>0.0395</td>\n",
       "      <td>0.055</td>\n",
       "      <td>7</td>\n",
       "    </tr>\n",
       "    <tr>\n",
       "      <th>...</th>\n",
       "      <td>...</td>\n",
       "      <td>...</td>\n",
       "      <td>...</td>\n",
       "      <td>...</td>\n",
       "      <td>...</td>\n",
       "      <td>...</td>\n",
       "      <td>...</td>\n",
       "      <td>...</td>\n",
       "      <td>...</td>\n",
       "    </tr>\n",
       "    <tr>\n",
       "      <th>95</th>\n",
       "      <td>M</td>\n",
       "      <td>0.665</td>\n",
       "      <td>0.535</td>\n",
       "      <td>0.195</td>\n",
       "      <td>1.6060</td>\n",
       "      <td>0.5755</td>\n",
       "      <td>0.3880</td>\n",
       "      <td>0.480</td>\n",
       "      <td>14</td>\n",
       "    </tr>\n",
       "    <tr>\n",
       "      <th>96</th>\n",
       "      <td>M</td>\n",
       "      <td>0.535</td>\n",
       "      <td>0.435</td>\n",
       "      <td>0.150</td>\n",
       "      <td>0.7250</td>\n",
       "      <td>0.2690</td>\n",
       "      <td>0.1385</td>\n",
       "      <td>0.250</td>\n",
       "      <td>9</td>\n",
       "    </tr>\n",
       "    <tr>\n",
       "      <th>97</th>\n",
       "      <td>M</td>\n",
       "      <td>0.470</td>\n",
       "      <td>0.375</td>\n",
       "      <td>0.130</td>\n",
       "      <td>0.5230</td>\n",
       "      <td>0.2140</td>\n",
       "      <td>0.1320</td>\n",
       "      <td>0.145</td>\n",
       "      <td>8</td>\n",
       "    </tr>\n",
       "    <tr>\n",
       "      <th>98</th>\n",
       "      <td>M</td>\n",
       "      <td>0.470</td>\n",
       "      <td>0.370</td>\n",
       "      <td>0.130</td>\n",
       "      <td>0.5225</td>\n",
       "      <td>0.2010</td>\n",
       "      <td>0.1330</td>\n",
       "      <td>0.165</td>\n",
       "      <td>7</td>\n",
       "    </tr>\n",
       "    <tr>\n",
       "      <th>99</th>\n",
       "      <td>F</td>\n",
       "      <td>0.475</td>\n",
       "      <td>0.375</td>\n",
       "      <td>0.125</td>\n",
       "      <td>0.5785</td>\n",
       "      <td>0.2775</td>\n",
       "      <td>0.0850</td>\n",
       "      <td>0.155</td>\n",
       "      <td>10</td>\n",
       "    </tr>\n",
       "  </tbody>\n",
       "</table>\n",
       "<p>100 rows × 9 columns</p>\n",
       "</div>"
      ],
      "text/plain": [
       "   Sex  Length  Diameter  Height  Whole weight  Shucked weight  \\\n",
       "0    M   0.455     0.365   0.095        0.5140          0.2245   \n",
       "1    M   0.350     0.265   0.090        0.2255          0.0995   \n",
       "2    F   0.530     0.420   0.135        0.6770          0.2565   \n",
       "3    M   0.440     0.365   0.125        0.5160          0.2155   \n",
       "4    I   0.330     0.255   0.080        0.2050          0.0895   \n",
       "..  ..     ...       ...     ...           ...             ...   \n",
       "95   M   0.665     0.535   0.195        1.6060          0.5755   \n",
       "96   M   0.535     0.435   0.150        0.7250          0.2690   \n",
       "97   M   0.470     0.375   0.130        0.5230          0.2140   \n",
       "98   M   0.470     0.370   0.130        0.5225          0.2010   \n",
       "99   F   0.475     0.375   0.125        0.5785          0.2775   \n",
       "\n",
       "    Viscera weight  Shell weight  Rings  \n",
       "0           0.1010         0.150     15  \n",
       "1           0.0485         0.070      7  \n",
       "2           0.1415         0.210      9  \n",
       "3           0.1140         0.155     10  \n",
       "4           0.0395         0.055      7  \n",
       "..             ...           ...    ...  \n",
       "95          0.3880         0.480     14  \n",
       "96          0.1385         0.250      9  \n",
       "97          0.1320         0.145      8  \n",
       "98          0.1330         0.165      7  \n",
       "99          0.0850         0.155     10  \n",
       "\n",
       "[100 rows x 9 columns]"
      ]
     },
     "execution_count": 8,
     "metadata": {},
     "output_type": "execute_result"
    }
   ],
   "source": [
    "df1"
   ]
  },
  {
   "cell_type": "code",
   "execution_count": 9,
   "id": "89f4d277",
   "metadata": {},
   "outputs": [
    {
     "data": {
      "text/plain": [
       "<AxesSubplot:>"
      ]
     },
     "execution_count": 9,
     "metadata": {},
     "output_type": "execute_result"
    },
    {
     "data": {
      "image/png": "[encoded data removed]",
      "text/plain": [
       "<Figure size 432x288 with 1 Axes>"
      ]
     },
     "metadata": {
      "needs_background": "light"
     },
     "output_type": "display_data"
    }
   ],
   "source": [
    "df1.Rings.plot()"
   ]
  },
  {
   "cell_type": "markdown",
   "id": "d957793d",
   "metadata": {},
   "source": [
    "## Dist plot"
   ]
  },
  {
   "cell_type": "code",
   "execution_count": 10,
   "id": "59d3297c",
   "metadata": {},
   "outputs": [
    {
     "name": "stderr",
     "output_type": "stream",
     "text": [
      "C:\\Users\\MAYA\\anaconda3\\lib\\site-packages\\seaborn\\distributions.py:2619: FutureWarning: `distplot` is a deprecated function and will be removed in a future version. Please adapt your code to use either `displot` (a figure-level function with similar flexibility) or `histplot` (an axes-level function for histograms).\n",
      "  warnings.warn(msg, FutureWarning)\n"
     ]
    },
    {
     "data": {
      "text/plain": [
       "<AxesSubplot:xlabel='Rings', ylabel='Density'>"
      ]
     },
     "execution_count": 10,
     "metadata": {},
     "output_type": "execute_result"
    },
    {
     "data": {
      "image/png": "[encoded data removed]",
      "text/plain": [
       "<Figure size 432x288 with 1 Axes>"
      ]
     },
     "metadata": {
      "needs_background": "light"
     },
     "output_type": "display_data"
    }
   ],
   "source": [
    "sns.distplot(df.Rings)"
   ]
  },
  {
   "cell_type": "markdown",
   "id": "6143e695",
   "metadata": {},
   "source": [
    "## Pie Chart"
   ]
  },
  {
   "cell_type": "code",
   "execution_count": 11,
   "id": "c1e5addf",
   "metadata": {},
   "outputs": [
    {
     "data": {
      "image/png": "[encoded data removed]",
      "text/plain": [
       "<Figure size 432x288 with 1 Axes>"
      ]
     },
     "metadata": {},
     "output_type": "display_data"
    }
   ],
   "source": [
    "plt.pie(df1.Sex.value_counts(),[0.1,0,0],colors=['green','red','blue'],labels=['M','F','I'],autopct=\"%1.1f%%\")\n",
    "plt.title('Sex')\n",
    "plt.show()"
   ]
  },
  {
   "cell_type": "markdown",
   "id": "9cd336d5",
   "metadata": {},
   "source": [
    "## Histogram"
   ]
  },
  {
   "cell_type": "code",
   "execution_count": 12,
   "id": "17886c41",
   "metadata": {},
   "outputs": [
    {
     "data": {
      "text/plain": [
       "(array([ 4., 14., 24., 16., 16., 11.,  6.,  3.,  3.,  3.]),\n",
       " array([ 4. ,  5.7,  7.4,  9.1, 10.8, 12.5, 14.2, 15.9, 17.6, 19.3, 21. ]),\n",
       " <BarContainer object of 10 artists>)"
      ]
     },
     "execution_count": 12,
     "metadata": {},
     "output_type": "execute_result"
    },
    {
     "data": {
      "image/png": "[encoded data removed]",
      "text/plain": [
       "<Figure size 432x288 with 1 Axes>"
      ]
     },
     "metadata": {
      "needs_background": "light"
     },
     "output_type": "display_data"
    }
   ],
   "source": [
    "plt.hist(df1.Rings)"
   ]
  },
  {
   "cell_type": "markdown",
   "id": "b091fa3e",
   "metadata": {},
   "source": [
    "## Bivariant Analysis"
   ]
  },
  {
   "cell_type": "markdown",
   "id": "17141a94",
   "metadata": {},
   "source": [
    "## Bar graph"
   ]
  },
  {
   "cell_type": "code",
   "execution_count": 13,
   "id": "77752720",
   "metadata": {},
   "outputs": [
    {
     "name": "stderr",
     "output_type": "stream",
     "text": [
      "C:\\Users\\MAYA\\anaconda3\\lib\\site-packages\\seaborn\\_decorators.py:36: FutureWarning: Pass the following variables as keyword args: x, y. From version 0.12, the only valid positional argument will be `data`, and passing other arguments without an explicit keyword will result in an error or misinterpretation.\n",
      "  warnings.warn(\n"
     ]
    },
    {
     "data": {
      "text/plain": [
       "<AxesSubplot:xlabel='Rings', ylabel='Length'>"
      ]
     },
     "execution_count": 13,
     "metadata": {},
     "output_type": "execute_result"
    },
    {
     "data": {
      "image/png": "[encoded data removed]",
      "text/plain": [
       "<Figure size 432x288 with 1 Axes>"
      ]
     },
     "metadata": {
      "needs_background": "light"
     },
     "output_type": "display_data"
    }
   ],
   "source": [
    "sns.barplot(df1.Rings,df1.Length)\n",
    "\n",
    "\n",
    "\n"
   ]
  },
  {
   "cell_type": "markdown",
   "id": "95fb286a",
   "metadata": {},
   "source": [
    "## Scatterplot"
   ]
  },
  {
   "cell_type": "code",
   "execution_count": 14,
   "id": "0b93bf61",
   "metadata": {},
   "outputs": [
    {
     "name": "stderr",
     "output_type": "stream",
     "text": [
      "C:\\Users\\MAYA\\anaconda3\\lib\\site-packages\\seaborn\\_decorators.py:36: FutureWarning: Pass the following variables as keyword args: x, y. From version 0.12, the only valid positional argument will be `data`, and passing other arguments without an explicit keyword will result in an error or misinterpretation.\n",
      "  warnings.warn(\n"
     ]
    },
    {
     "data": {
      "text/plain": [
       "<AxesSubplot:xlabel='Rings', ylabel='Length'>"
      ]
     },
     "execution_count": 14,
     "metadata": {},
     "output_type": "execute_result"
    },
    {
     "data": {
      "image/png": "[encoded data removed]",
      "text/plain": [
       "<Figure size 432x288 with 1 Axes>"
      ]
     },
     "metadata": {
      "needs_background": "light"
     },
     "output_type": "display_data"
    }
   ],
   "source": [
    "sns.scatterplot(df1.Rings,df1.Length)"
   ]
  },
  {
   "cell_type": "markdown",
   "id": "da6f0817",
   "metadata": {},
   "source": [
    "## Boxplot"
   ]
  },
  {
   "cell_type": "code",
   "execution_count": 15,
   "id": "f2c86e73",
   "metadata": {},
   "outputs": [
    {
     "name": "stderr",
     "output_type": "stream",
     "text": [
      "C:\\Users\\MAYA\\anaconda3\\lib\\site-packages\\seaborn\\_decorators.py:36: FutureWarning: Pass the following variables as keyword args: x, y. From version 0.12, the only valid positional argument will be `data`, and passing other arguments without an explicit keyword will result in an error or misinterpretation.\n",
      "  warnings.warn(\n"
     ]
    },
    {
     "data": {
      "text/plain": [
       "<AxesSubplot:xlabel='Rings', ylabel='Length'>"
      ]
     },
     "execution_count": 15,
     "metadata": {},
     "output_type": "execute_result"
    },
    {
     "data": {
      "image/png": "[encoded data removed]",
      "text/plain": [
       "<Figure size 432x288 with 1 Axes>"
      ]
     },
     "metadata": {
      "needs_background": "light"
     },
     "output_type": "display_data"
    }
   ],
   "source": [
    "sns.boxplot(df1.Rings,df1.Length)"
   ]
  },
  {
   "cell_type": "markdown",
   "id": "70b35ab5",
   "metadata": {},
   "source": [
    "## Multivariant Analysis"
   ]
  },
  {
   "cell_type": "markdown",
   "id": "3e7d6282",
   "metadata": {},
   "source": [
    "## Pairplot"
   ]
  },
  {
   "cell_type": "code",
   "execution_count": 16,
   "id": "d5c633c1",
   "metadata": {},
   "outputs": [],
   "source": [
    "df2=df.head(15)"
   ]
  },
  {
   "cell_type": "code",
   "execution_count": 17,
   "id": "dc6207d8",
   "metadata": {
    "scrolled": true
   },
   "outputs": [
    {
     "data": {
      "text/plain": [
       "<seaborn.axisgrid.PairGrid at 0x23dc317e790>"
      ]
     },
     "execution_count": 17,
     "metadata": {},
     "output_type": "execute_result"
    },
    {
     "data": {
      "image/png": "[encoded data removed]",
      "text/plain": [
       "<Figure size 1440x1440 with 72 Axes>"
      ]
     },
     "metadata": {
      "needs_background": "light"
     },
     "output_type": "display_data"
    }
   ],
   "source": [
    "sns.pairplot(df2)"
   ]
  },
  {
   "cell_type": "markdown",
   "id": "d8b714cc",
   "metadata": {},
   "source": [
    "## Descriptive Statics"
   ]
  },
  {
   "cell_type": "code",
   "execution_count": 196,
   "id": "991e2f8a",
   "metadata": {},
   "outputs": [],
   "source": [
    "import numpy as np"
   ]
  },
  {
   "cell_type": "code",
   "execution_count": 197,
   "id": "88d6f3a2",
   "metadata": {},
   "outputs": [
    {
     "data": {
      "text/html": [
       "<div>\n",
       "<style scoped>\n",
       "    .dataframe tbody tr th:only-of-type {\n",
       "        vertical-align: middle;\n",
       "    }\n",
       "\n",
       "    .dataframe tbody tr th {\n",
       "        vertical-align: top;\n",
       "    }\n",
       "\n",
       "    .dataframe thead th {\n",
       "        text-align: right;\n",
       "    }\n",
       "</style>\n",
       "<table border=\"1\" class=\"dataframe\">\n",
       "  <thead>\n",
       "    <tr style=\"text-align: right;\">\n",
       "      <th></th>\n",
       "      <th>Sex</th>\n",
       "      <th>Length</th>\n",
       "      <th>Diameter</th>\n",
       "      <th>Height</th>\n",
       "      <th>Whole weight</th>\n",
       "      <th>Shucked weight</th>\n",
       "      <th>Viscera weight</th>\n",
       "      <th>Shell weight</th>\n",
       "      <th>Rings</th>\n",
       "    </tr>\n",
       "  </thead>\n",
       "  <tbody>\n",
       "    <tr>\n",
       "      <th>0</th>\n",
       "      <td>M</td>\n",
       "      <td>0.455</td>\n",
       "      <td>0.365</td>\n",
       "      <td>0.095</td>\n",
       "      <td>0.5140</td>\n",
       "      <td>0.2245</td>\n",
       "      <td>0.1010</td>\n",
       "      <td>0.150</td>\n",
       "      <td>15</td>\n",
       "    </tr>\n",
       "    <tr>\n",
       "      <th>1</th>\n",
       "      <td>M</td>\n",
       "      <td>0.350</td>\n",
       "      <td>0.265</td>\n",
       "      <td>0.090</td>\n",
       "      <td>0.2255</td>\n",
       "      <td>0.0995</td>\n",
       "      <td>0.0485</td>\n",
       "      <td>0.070</td>\n",
       "      <td>7</td>\n",
       "    </tr>\n",
       "    <tr>\n",
       "      <th>2</th>\n",
       "      <td>F</td>\n",
       "      <td>0.530</td>\n",
       "      <td>0.420</td>\n",
       "      <td>0.135</td>\n",
       "      <td>0.6770</td>\n",
       "      <td>0.2565</td>\n",
       "      <td>0.1415</td>\n",
       "      <td>0.210</td>\n",
       "      <td>9</td>\n",
       "    </tr>\n",
       "    <tr>\n",
       "      <th>3</th>\n",
       "      <td>M</td>\n",
       "      <td>0.440</td>\n",
       "      <td>0.365</td>\n",
       "      <td>0.125</td>\n",
       "      <td>0.5160</td>\n",
       "      <td>0.2155</td>\n",
       "      <td>0.1140</td>\n",
       "      <td>0.155</td>\n",
       "      <td>10</td>\n",
       "    </tr>\n",
       "    <tr>\n",
       "      <th>4</th>\n",
       "      <td>I</td>\n",
       "      <td>0.330</td>\n",
       "      <td>0.255</td>\n",
       "      <td>0.080</td>\n",
       "      <td>0.2050</td>\n",
       "      <td>0.0895</td>\n",
       "      <td>0.0395</td>\n",
       "      <td>0.055</td>\n",
       "      <td>7</td>\n",
       "    </tr>\n",
       "  </tbody>\n",
       "</table>\n",
       "</div>"
      ],
      "text/plain": [
       "  Sex  Length  Diameter  Height  Whole weight  Shucked weight  Viscera weight  \\\n",
       "0   M   0.455     0.365   0.095        0.5140          0.2245          0.1010   \n",
       "1   M   0.350     0.265   0.090        0.2255          0.0995          0.0485   \n",
       "2   F   0.530     0.420   0.135        0.6770          0.2565          0.1415   \n",
       "3   M   0.440     0.365   0.125        0.5160          0.2155          0.1140   \n",
       "4   I   0.330     0.255   0.080        0.2050          0.0895          0.0395   \n",
       "\n",
       "   Shell weight  Rings  \n",
       "0         0.150     15  \n",
       "1         0.070      7  \n",
       "2         0.210      9  \n",
       "3         0.155     10  \n",
       "4         0.055      7  "
      ]
     },
     "execution_count": 197,
     "metadata": {},
     "output_type": "execute_result"
    }
   ],
   "source": [
    "df.head()"
   ]
  },
  {
   "cell_type": "code",
   "execution_count": 198,
   "id": "e03d2129",
   "metadata": {},
   "outputs": [
    {
     "data": {
      "text/plain": [
       "(4177, 9)"
      ]
     },
     "execution_count": 198,
     "metadata": {},
     "output_type": "execute_result"
    }
   ],
   "source": [
    "df.shape"
   ]
  },
  {
   "cell_type": "code",
   "execution_count": 199,
   "id": "532e90bd",
   "metadata": {},
   "outputs": [
    {
     "data": {
      "text/plain": [
       "<bound method DataFrame.info of      Sex  Length  Diameter  Height  Whole weight  Shucked weight  \\\n",
       "0      M   0.455     0.365   0.095        0.5140          0.2245   \n",
       "1      M   0.350     0.265   0.090        0.2255          0.0995   \n",
       "2      F   0.530     0.420   0.135        0.6770          0.2565   \n",
       "3      M   0.440     0.365   0.125        0.5160          0.2155   \n",
       "4      I   0.330     0.255   0.080        0.2050          0.0895   \n",
       "...   ..     ...       ...     ...           ...             ...   \n",
       "4172   F   0.565     0.450   0.165        0.8870          0.3700   \n",
       "4173   M   0.590     0.440   0.135        0.9660          0.4390   \n",
       "4174   M   0.600     0.475   0.205        1.1760          0.5255   \n",
       "4175   F   0.625     0.485   0.150        1.0945          0.5310   \n",
       "4176   M   0.710     0.555   0.195        1.9485          0.9455   \n",
       "\n",
       "      Viscera weight  Shell weight  Rings  \n",
       "0             0.1010        0.1500     15  \n",
       "1             0.0485        0.0700      7  \n",
       "2             0.1415        0.2100      9  \n",
       "3             0.1140        0.1550     10  \n",
       "4             0.0395        0.0550      7  \n",
       "...              ...           ...    ...  \n",
       "4172          0.2390        0.2490     11  \n",
       "4173          0.2145        0.2605     10  \n",
       "4174          0.2875        0.3080      9  \n",
       "4175          0.2610        0.2960     10  \n",
       "4176          0.3765        0.4950     12  \n",
       "\n",
       "[4177 rows x 9 columns]>"
      ]
     },
     "execution_count": 199,
     "metadata": {},
     "output_type": "execute_result"
    }
   ],
   "source": [
    "df.info"
   ]
  },
  {
   "cell_type": "code",
   "execution_count": 200,
   "id": "8d437016",
   "metadata": {},
   "outputs": [
    {
     "data": {
      "text/plain": [
       "Sex               False\n",
       "Length            False\n",
       "Diameter          False\n",
       "Height            False\n",
       "Whole weight      False\n",
       "Shucked weight    False\n",
       "Viscera weight    False\n",
       "Shell weight      False\n",
       "Rings             False\n",
       "dtype: bool"
      ]
     },
     "execution_count": 200,
     "metadata": {},
     "output_type": "execute_result"
    }
   ],
   "source": [
    "df.isnull().any()"
   ]
  },
  {
   "cell_type": "code",
   "execution_count": 201,
   "id": "4d3b6064",
   "metadata": {},
   "outputs": [
    {
     "data": {
      "text/plain": [
       "9     689\n",
       "10    634\n",
       "8     568\n",
       "11    487\n",
       "7     391\n",
       "12    267\n",
       "6     259\n",
       "13    203\n",
       "14    126\n",
       "5     115\n",
       "15    103\n",
       "16     67\n",
       "17     58\n",
       "4      57\n",
       "18     42\n",
       "19     32\n",
       "20     26\n",
       "3      15\n",
       "21     14\n",
       "23      9\n",
       "22      6\n",
       "27      2\n",
       "24      2\n",
       "1       1\n",
       "26      1\n",
       "29      1\n",
       "2       1\n",
       "25      1\n",
       "Name: Rings, dtype: int64"
      ]
     },
     "execution_count": 201,
     "metadata": {},
     "output_type": "execute_result"
    }
   ],
   "source": [
    "df.Rings.value_counts()"
   ]
  },
  {
   "cell_type": "code",
   "execution_count": 202,
   "id": "ef652cc5",
   "metadata": {},
   "outputs": [
    {
     "data": {
      "text/html": [
       "<div>\n",
       "<style scoped>\n",
       "    .dataframe tbody tr th:only-of-type {\n",
       "        vertical-align: middle;\n",
       "    }\n",
       "\n",
       "    .dataframe tbody tr th {\n",
       "        vertical-align: top;\n",
       "    }\n",
       "\n",
       "    .dataframe thead th {\n",
       "        text-align: right;\n",
       "    }\n",
       "</style>\n",
       "<table border=\"1\" class=\"dataframe\">\n",
       "  <thead>\n",
       "    <tr style=\"text-align: right;\">\n",
       "      <th></th>\n",
       "      <th>Length</th>\n",
       "      <th>Diameter</th>\n",
       "      <th>Height</th>\n",
       "      <th>Whole weight</th>\n",
       "      <th>Shucked weight</th>\n",
       "      <th>Viscera weight</th>\n",
       "      <th>Shell weight</th>\n",
       "      <th>Rings</th>\n",
       "    </tr>\n",
       "  </thead>\n",
       "  <tbody>\n",
       "    <tr>\n",
       "      <th>count</th>\n",
       "      <td>4177.000000</td>\n",
       "      <td>4177.000000</td>\n",
       "      <td>4177.000000</td>\n",
       "      <td>4177.000000</td>\n",
       "      <td>4177.000000</td>\n",
       "      <td>4177.000000</td>\n",
       "      <td>4177.000000</td>\n",
       "      <td>4177.000000</td>\n",
       "    </tr>\n",
       "    <tr>\n",
       "      <th>mean</th>\n",
       "      <td>0.523992</td>\n",
       "      <td>0.407881</td>\n",
       "      <td>0.139516</td>\n",
       "      <td>0.828742</td>\n",
       "      <td>0.359367</td>\n",
       "      <td>0.180594</td>\n",
       "      <td>0.238831</td>\n",
       "      <td>9.933684</td>\n",
       "    </tr>\n",
       "    <tr>\n",
       "      <th>std</th>\n",
       "      <td>0.120093</td>\n",
       "      <td>0.099240</td>\n",
       "      <td>0.041827</td>\n",
       "      <td>0.490389</td>\n",
       "      <td>0.221963</td>\n",
       "      <td>0.109614</td>\n",
       "      <td>0.139203</td>\n",
       "      <td>3.224169</td>\n",
       "    </tr>\n",
       "    <tr>\n",
       "      <th>min</th>\n",
       "      <td>0.075000</td>\n",
       "      <td>0.055000</td>\n",
       "      <td>0.000000</td>\n",
       "      <td>0.002000</td>\n",
       "      <td>0.001000</td>\n",
       "      <td>0.000500</td>\n",
       "      <td>0.001500</td>\n",
       "      <td>1.000000</td>\n",
       "    </tr>\n",
       "    <tr>\n",
       "      <th>25%</th>\n",
       "      <td>0.450000</td>\n",
       "      <td>0.350000</td>\n",
       "      <td>0.115000</td>\n",
       "      <td>0.441500</td>\n",
       "      <td>0.186000</td>\n",
       "      <td>0.093500</td>\n",
       "      <td>0.130000</td>\n",
       "      <td>8.000000</td>\n",
       "    </tr>\n",
       "    <tr>\n",
       "      <th>50%</th>\n",
       "      <td>0.545000</td>\n",
       "      <td>0.425000</td>\n",
       "      <td>0.140000</td>\n",
       "      <td>0.799500</td>\n",
       "      <td>0.336000</td>\n",
       "      <td>0.171000</td>\n",
       "      <td>0.234000</td>\n",
       "      <td>9.000000</td>\n",
       "    </tr>\n",
       "    <tr>\n",
       "      <th>75%</th>\n",
       "      <td>0.615000</td>\n",
       "      <td>0.480000</td>\n",
       "      <td>0.165000</td>\n",
       "      <td>1.153000</td>\n",
       "      <td>0.502000</td>\n",
       "      <td>0.253000</td>\n",
       "      <td>0.329000</td>\n",
       "      <td>11.000000</td>\n",
       "    </tr>\n",
       "    <tr>\n",
       "      <th>max</th>\n",
       "      <td>0.815000</td>\n",
       "      <td>0.650000</td>\n",
       "      <td>1.130000</td>\n",
       "      <td>2.825500</td>\n",
       "      <td>1.488000</td>\n",
       "      <td>0.760000</td>\n",
       "      <td>1.005000</td>\n",
       "      <td>29.000000</td>\n",
       "    </tr>\n",
       "  </tbody>\n",
       "</table>\n",
       "</div>"
      ],
      "text/plain": [
       "            Length     Diameter       Height  Whole weight  Shucked weight  \\\n",
       "count  4177.000000  4177.000000  4177.000000   4177.000000     4177.000000   \n",
       "mean      0.523992     0.407881     0.139516      0.828742        0.359367   \n",
       "std       0.120093     0.099240     0.041827      0.490389        0.221963   \n",
       "min       0.075000     0.055000     0.000000      0.002000        0.001000   \n",
       "25%       0.450000     0.350000     0.115000      0.441500        0.186000   \n",
       "50%       0.545000     0.425000     0.140000      0.799500        0.336000   \n",
       "75%       0.615000     0.480000     0.165000      1.153000        0.502000   \n",
       "max       0.815000     0.650000     1.130000      2.825500        1.488000   \n",
       "\n",
       "       Viscera weight  Shell weight        Rings  \n",
       "count     4177.000000   4177.000000  4177.000000  \n",
       "mean         0.180594      0.238831     9.933684  \n",
       "std          0.109614      0.139203     3.224169  \n",
       "min          0.000500      0.001500     1.000000  \n",
       "25%          0.093500      0.130000     8.000000  \n",
       "50%          0.171000      0.234000     9.000000  \n",
       "75%          0.253000      0.329000    11.000000  \n",
       "max          0.760000      1.005000    29.000000  "
      ]
     },
     "execution_count": 202,
     "metadata": {},
     "output_type": "execute_result"
    }
   ],
   "source": [
    "df.describe()"
   ]
  },
  {
   "cell_type": "markdown",
   "id": "eeb2be35",
   "metadata": {},
   "source": [
    "## Handling missing values"
   ]
  },
  {
   "cell_type": "code",
   "execution_count": 210,
   "id": "6dd83eb9",
   "metadata": {},
   "outputs": [],
   "source": [
    "# for numerical column use mean or median for null value replacement\n",
    "# for categorical columns use mode for null value replacement"
   ]
  },
  {
   "cell_type": "code",
   "execution_count": 211,
   "id": "128589c1",
   "metadata": {},
   "outputs": [],
   "source": [
    "# incase the one of the column contains null values then you cango for this code for the replacementof the null value\n",
    "# df['Rings'].fillna(df['Rings'].median(),inplace=True)\n",
    "# df['Rings'].fillna(df['Rings'].mean(),inplace=True)\n"
   ]
  },
  {
   "cell_type": "markdown",
   "id": "eb571812",
   "metadata": {},
   "source": [
    "## Findings and Replacing the outliers"
   ]
  },
  {
   "cell_type": "markdown",
   "id": "5eac4ac9",
   "metadata": {},
   "source": [
    "## Outlier detection"
   ]
  },
  {
   "cell_type": "code",
   "execution_count": 212,
   "id": "dd5df8fd",
   "metadata": {},
   "outputs": [
    {
     "name": "stderr",
     "output_type": "stream",
     "text": [
      "C:\\Users\\MAYA\\anaconda3\\lib\\site-packages\\seaborn\\_decorators.py:36: FutureWarning: Pass the following variable as a keyword arg: x. From version 0.12, the only valid positional argument will be `data`, and passing other arguments without an explicit keyword will result in an error or misinterpretation.\n",
      "  warnings.warn(\n"
     ]
    },
    {
     "data": {
      "text/plain": [
       "<AxesSubplot:xlabel='Rings'>"
      ]
     },
     "execution_count": 212,
     "metadata": {},
     "output_type": "execute_result"
    },
    {
     "data": {
      "image/png": "[encoded data removed]",
      "text/plain": [
       "<Figure size 432x288 with 1 Axes>"
      ]
     },
     "metadata": {
      "needs_background": "light"
     },
     "output_type": "display_data"
    }
   ],
   "source": [
    "sns.boxplot(df.Rings)"
   ]
  },
  {
   "cell_type": "markdown",
   "id": "bf11d6bb",
   "metadata": {},
   "source": [
    "## Outlier removal-IQR method"
   ]
  },
  {
   "cell_type": "code",
   "execution_count": 213,
   "id": "dd322c43",
   "metadata": {},
   "outputs": [],
   "source": [
    "Q1 = df.Rings.quantile(0.25)\n",
    "Q3 = df.Rings.quantile(0.75)"
   ]
  },
  {
   "cell_type": "code",
   "execution_count": 214,
   "id": "a6f1c97a",
   "metadata": {},
   "outputs": [],
   "source": [
    "IQR = Q3-Q1"
   ]
  },
  {
   "cell_type": "code",
   "execution_count": 215,
   "id": "4e70ff57",
   "metadata": {},
   "outputs": [],
   "source": [
    "upper_limit = Q3 + 1.5*IQR\n",
    "lower_limit = Q1 - 1.5*IQR"
   ]
  },
  {
   "cell_type": "code",
   "execution_count": 216,
   "id": "28062948",
   "metadata": {},
   "outputs": [
    {
     "data": {
      "text/plain": [
       "15.5"
      ]
     },
     "execution_count": 216,
     "metadata": {},
     "output_type": "execute_result"
    }
   ],
   "source": [
    "upper_limit"
   ]
  },
  {
   "cell_type": "code",
   "execution_count": 217,
   "id": "b2b8b196",
   "metadata": {},
   "outputs": [
    {
     "data": {
      "text/plain": [
       "3.5"
      ]
     },
     "execution_count": 217,
     "metadata": {},
     "output_type": "execute_result"
    }
   ],
   "source": [
    "lower_limit"
   ]
  },
  {
   "cell_type": "code",
   "execution_count": 218,
   "id": "419f64e9",
   "metadata": {},
   "outputs": [],
   "source": [
    "df = df[df.Rings<upper_limit]"
   ]
  },
  {
   "cell_type": "code",
   "execution_count": 219,
   "id": "57fdbed1",
   "metadata": {},
   "outputs": [
    {
     "name": "stderr",
     "output_type": "stream",
     "text": [
      "C:\\Users\\MAYA\\anaconda3\\lib\\site-packages\\seaborn\\_decorators.py:36: FutureWarning: Pass the following variable as a keyword arg: x. From version 0.12, the only valid positional argument will be `data`, and passing other arguments without an explicit keyword will result in an error or misinterpretation.\n",
      "  warnings.warn(\n"
     ]
    },
    {
     "data": {
      "text/plain": [
       "<AxesSubplot:xlabel='Rings'>"
      ]
     },
     "execution_count": 219,
     "metadata": {},
     "output_type": "execute_result"
    },
    {
     "data": {
      "image/png": "[encoded data removed]",
      "text/plain": [
       "<Figure size 432x288 with 1 Axes>"
      ]
     },
     "metadata": {
      "needs_background": "light"
     },
     "output_type": "display_data"
    }
   ],
   "source": [
    "sns.boxplot(df.Rings)"
   ]
  },
  {
   "cell_type": "code",
   "execution_count": 220,
   "id": "2c41249f",
   "metadata": {},
   "outputs": [
    {
     "data": {
      "text/plain": [
       "(3916, 9)"
      ]
     },
     "execution_count": 220,
     "metadata": {},
     "output_type": "execute_result"
    }
   ],
   "source": [
    "df.shape"
   ]
  },
  {
   "cell_type": "markdown",
   "id": "ad1bae11",
   "metadata": {},
   "source": [
    "## ## Outlier removal-Percentile method"
   ]
  },
  {
   "cell_type": "code",
   "execution_count": 221,
   "id": "5a3dbbee",
   "metadata": {},
   "outputs": [
    {
     "name": "stderr",
     "output_type": "stream",
     "text": [
      "C:\\Users\\MAYA\\anaconda3\\lib\\site-packages\\seaborn\\_decorators.py:36: FutureWarning: Pass the following variable as a keyword arg: x. From version 0.12, the only valid positional argument will be `data`, and passing other arguments without an explicit keyword will result in an error or misinterpretation.\n",
      "  warnings.warn(\n"
     ]
    },
    {
     "data": {
      "text/plain": [
       "<AxesSubplot:xlabel='Rings'>"
      ]
     },
     "execution_count": 221,
     "metadata": {},
     "output_type": "execute_result"
    },
    {
     "data": {
      "image/png": "[encoded data removed]",
      "text/plain": [
       "<Figure size 432x288 with 1 Axes>"
      ]
     },
     "metadata": {
      "needs_background": "light"
     },
     "output_type": "display_data"
    }
   ],
   "source": [
    "sns.boxplot(df.Rings)"
   ]
  },
  {
   "cell_type": "code",
   "execution_count": 222,
   "id": "8735f984",
   "metadata": {},
   "outputs": [
    {
     "data": {
      "text/plain": [
       "14.0"
      ]
     },
     "execution_count": 222,
     "metadata": {},
     "output_type": "execute_result"
    }
   ],
   "source": [
    "p99 = df.Rings.quantile(0.96)\n",
    "p99"
   ]
  },
  {
   "cell_type": "code",
   "execution_count": 223,
   "id": "2339c611",
   "metadata": {},
   "outputs": [],
   "source": [
    "p99 = df.Rings.quantile(0.96)\n"
   ]
  },
  {
   "cell_type": "code",
   "execution_count": 224,
   "id": "27e23f41",
   "metadata": {},
   "outputs": [
    {
     "name": "stderr",
     "output_type": "stream",
     "text": [
      "C:\\Users\\MAYA\\anaconda3\\lib\\site-packages\\seaborn\\_decorators.py:36: FutureWarning: Pass the following variable as a keyword arg: x. From version 0.12, the only valid positional argument will be `data`, and passing other arguments without an explicit keyword will result in an error or misinterpretation.\n",
      "  warnings.warn(\n"
     ]
    },
    {
     "data": {
      "text/plain": [
       "<AxesSubplot:xlabel='Rings'>"
      ]
     },
     "execution_count": 224,
     "metadata": {},
     "output_type": "execute_result"
    },
    {
     "data": {
      "image/png": "[encoded data removed]",
      "text/plain": [
       "<Figure size 432x288 with 1 Axes>"
      ]
     },
     "metadata": {
      "needs_background": "light"
     },
     "output_type": "display_data"
    }
   ],
   "source": [
    "sns.boxplot(df.Rings)"
   ]
  },
  {
   "cell_type": "markdown",
   "id": "b38f6142",
   "metadata": {},
   "source": [
    "## Check for categorical columns and perform encoding"
   ]
  },
  {
   "cell_type": "markdown",
   "id": "11899091",
   "metadata": {},
   "source": [
    "## Categorical columns"
   ]
  },
  {
   "cell_type": "code",
   "execution_count": 225,
   "id": "cabb443f",
   "metadata": {},
   "outputs": [
    {
     "name": "stdout",
     "output_type": "stream",
     "text": [
      "<class 'pandas.core.frame.DataFrame'>\n",
      "Int64Index: 3916 entries, 0 to 4176\n",
      "Data columns (total 9 columns):\n",
      " #   Column          Non-Null Count  Dtype  \n",
      "---  ------          --------------  -----  \n",
      " 0   Sex             3916 non-null   object \n",
      " 1   Length          3916 non-null   float64\n",
      " 2   Diameter        3916 non-null   float64\n",
      " 3   Height          3916 non-null   float64\n",
      " 4   Whole weight    3916 non-null   float64\n",
      " 5   Shucked weight  3916 non-null   float64\n",
      " 6   Viscera weight  3916 non-null   float64\n",
      " 7   Shell weight    3916 non-null   float64\n",
      " 8   Rings           3916 non-null   int64  \n",
      "dtypes: float64(7), int64(1), object(1)\n",
      "memory usage: 305.9+ KB\n"
     ]
    }
   ],
   "source": [
    "df.info()"
   ]
  },
  {
   "cell_type": "markdown",
   "id": "0082ffe7",
   "metadata": {},
   "source": [
    "## Label Encoding"
   ]
  },
  {
   "cell_type": "code",
   "execution_count": 226,
   "id": "134f08cd",
   "metadata": {},
   "outputs": [],
   "source": [
    "from sklearn.preprocessing import LabelEncoder\n"
   ]
  },
  {
   "cell_type": "code",
   "execution_count": 227,
   "id": "d40dd9e3",
   "metadata": {},
   "outputs": [],
   "source": [
    "le = LabelEncoder()"
   ]
  },
  {
   "cell_type": "code",
   "execution_count": 228,
   "id": "e6e2e5be",
   "metadata": {},
   "outputs": [
    {
     "name": "stderr",
     "output_type": "stream",
     "text": [
      "C:\\Users\\MAYA\\AppData\\Local\\Temp\\ipykernel_3376\\1147878324.py:1: SettingWithCopyWarning: \n",
      "A value is trying to be set on a copy of a slice from a DataFrame.\n",
      "Try using .loc[row_indexer,col_indexer] = value instead\n",
      "\n",
      "See the caveats in the documentation: https://pandas.pydata.org/pandas-docs/stable/user_guide/indexing.html#returning-a-view-versus-a-copy\n",
      "  df.Diameter = le.fit_transform(df.Diameter)\n",
      "C:\\Users\\MAYA\\AppData\\Local\\Temp\\ipykernel_3376\\1147878324.py:2: SettingWithCopyWarning: \n",
      "A value is trying to be set on a copy of a slice from a DataFrame.\n",
      "Try using .loc[row_indexer,col_indexer] = value instead\n",
      "\n",
      "See the caveats in the documentation: https://pandas.pydata.org/pandas-docs/stable/user_guide/indexing.html#returning-a-view-versus-a-copy\n",
      "  df.Length = le.fit_transform(df.Length)\n"
     ]
    }
   ],
   "source": [
    "df.Diameter = le.fit_transform(df.Diameter)\n",
    "df.Length = le.fit_transform(df.Length)\n"
   ]
  },
  {
   "cell_type": "code",
   "execution_count": 229,
   "id": "68adaed9",
   "metadata": {},
   "outputs": [
    {
     "data": {
      "text/html": [
       "<div>\n",
       "<style scoped>\n",
       "    .dataframe tbody tr th:only-of-type {\n",
       "        vertical-align: middle;\n",
       "    }\n",
       "\n",
       "    .dataframe tbody tr th {\n",
       "        vertical-align: top;\n",
       "    }\n",
       "\n",
       "    .dataframe thead th {\n",
       "        text-align: right;\n",
       "    }\n",
       "</style>\n",
       "<table border=\"1\" class=\"dataframe\">\n",
       "  <thead>\n",
       "    <tr style=\"text-align: right;\">\n",
       "      <th></th>\n",
       "      <th>Sex</th>\n",
       "      <th>Length</th>\n",
       "      <th>Diameter</th>\n",
       "      <th>Height</th>\n",
       "      <th>Whole weight</th>\n",
       "      <th>Shucked weight</th>\n",
       "      <th>Viscera weight</th>\n",
       "      <th>Shell weight</th>\n",
       "      <th>Rings</th>\n",
       "    </tr>\n",
       "  </thead>\n",
       "  <tbody>\n",
       "    <tr>\n",
       "      <th>0</th>\n",
       "      <td>M</td>\n",
       "      <td>66</td>\n",
       "      <td>56</td>\n",
       "      <td>0.095</td>\n",
       "      <td>0.5140</td>\n",
       "      <td>0.2245</td>\n",
       "      <td>0.1010</td>\n",
       "      <td>0.150</td>\n",
       "      <td>15</td>\n",
       "    </tr>\n",
       "    <tr>\n",
       "      <th>1</th>\n",
       "      <td>M</td>\n",
       "      <td>45</td>\n",
       "      <td>36</td>\n",
       "      <td>0.090</td>\n",
       "      <td>0.2255</td>\n",
       "      <td>0.0995</td>\n",
       "      <td>0.0485</td>\n",
       "      <td>0.070</td>\n",
       "      <td>7</td>\n",
       "    </tr>\n",
       "    <tr>\n",
       "      <th>2</th>\n",
       "      <td>F</td>\n",
       "      <td>81</td>\n",
       "      <td>67</td>\n",
       "      <td>0.135</td>\n",
       "      <td>0.6770</td>\n",
       "      <td>0.2565</td>\n",
       "      <td>0.1415</td>\n",
       "      <td>0.210</td>\n",
       "      <td>9</td>\n",
       "    </tr>\n",
       "    <tr>\n",
       "      <th>3</th>\n",
       "      <td>M</td>\n",
       "      <td>63</td>\n",
       "      <td>56</td>\n",
       "      <td>0.125</td>\n",
       "      <td>0.5160</td>\n",
       "      <td>0.2155</td>\n",
       "      <td>0.1140</td>\n",
       "      <td>0.155</td>\n",
       "      <td>10</td>\n",
       "    </tr>\n",
       "    <tr>\n",
       "      <th>4</th>\n",
       "      <td>I</td>\n",
       "      <td>41</td>\n",
       "      <td>34</td>\n",
       "      <td>0.080</td>\n",
       "      <td>0.2050</td>\n",
       "      <td>0.0895</td>\n",
       "      <td>0.0395</td>\n",
       "      <td>0.055</td>\n",
       "      <td>7</td>\n",
       "    </tr>\n",
       "  </tbody>\n",
       "</table>\n",
       "</div>"
      ],
      "text/plain": [
       "  Sex  Length  Diameter  Height  Whole weight  Shucked weight  Viscera weight  \\\n",
       "0   M      66        56   0.095        0.5140          0.2245          0.1010   \n",
       "1   M      45        36   0.090        0.2255          0.0995          0.0485   \n",
       "2   F      81        67   0.135        0.6770          0.2565          0.1415   \n",
       "3   M      63        56   0.125        0.5160          0.2155          0.1140   \n",
       "4   I      41        34   0.080        0.2050          0.0895          0.0395   \n",
       "\n",
       "   Shell weight  Rings  \n",
       "0         0.150     15  \n",
       "1         0.070      7  \n",
       "2         0.210      9  \n",
       "3         0.155     10  \n",
       "4         0.055      7  "
      ]
     },
     "execution_count": 229,
     "metadata": {},
     "output_type": "execute_result"
    }
   ],
   "source": [
    "df.head()"
   ]
  },
  {
   "cell_type": "markdown",
   "id": "20cca3ed",
   "metadata": {},
   "source": [
    "## One Hot Encoding"
   ]
  },
  {
   "cell_type": "code",
   "execution_count": 230,
   "id": "21738a85",
   "metadata": {},
   "outputs": [
    {
     "data": {
      "text/html": [
       "<div>\n",
       "<style scoped>\n",
       "    .dataframe tbody tr th:only-of-type {\n",
       "        vertical-align: middle;\n",
       "    }\n",
       "\n",
       "    .dataframe tbody tr th {\n",
       "        vertical-align: top;\n",
       "    }\n",
       "\n",
       "    .dataframe thead th {\n",
       "        text-align: right;\n",
       "    }\n",
       "</style>\n",
       "<table border=\"1\" class=\"dataframe\">\n",
       "  <thead>\n",
       "    <tr style=\"text-align: right;\">\n",
       "      <th></th>\n",
       "      <th>Length</th>\n",
       "      <th>Diameter</th>\n",
       "      <th>Height</th>\n",
       "      <th>Whole weight</th>\n",
       "      <th>Shucked weight</th>\n",
       "      <th>Viscera weight</th>\n",
       "      <th>Shell weight</th>\n",
       "      <th>Rings</th>\n",
       "      <th>Sex_F</th>\n",
       "      <th>Sex_I</th>\n",
       "      <th>Sex_M</th>\n",
       "    </tr>\n",
       "  </thead>\n",
       "  <tbody>\n",
       "    <tr>\n",
       "      <th>0</th>\n",
       "      <td>66</td>\n",
       "      <td>56</td>\n",
       "      <td>0.095</td>\n",
       "      <td>0.5140</td>\n",
       "      <td>0.2245</td>\n",
       "      <td>0.1010</td>\n",
       "      <td>0.150</td>\n",
       "      <td>15</td>\n",
       "      <td>0</td>\n",
       "      <td>0</td>\n",
       "      <td>1</td>\n",
       "    </tr>\n",
       "    <tr>\n",
       "      <th>1</th>\n",
       "      <td>45</td>\n",
       "      <td>36</td>\n",
       "      <td>0.090</td>\n",
       "      <td>0.2255</td>\n",
       "      <td>0.0995</td>\n",
       "      <td>0.0485</td>\n",
       "      <td>0.070</td>\n",
       "      <td>7</td>\n",
       "      <td>0</td>\n",
       "      <td>0</td>\n",
       "      <td>1</td>\n",
       "    </tr>\n",
       "    <tr>\n",
       "      <th>2</th>\n",
       "      <td>81</td>\n",
       "      <td>67</td>\n",
       "      <td>0.135</td>\n",
       "      <td>0.6770</td>\n",
       "      <td>0.2565</td>\n",
       "      <td>0.1415</td>\n",
       "      <td>0.210</td>\n",
       "      <td>9</td>\n",
       "      <td>1</td>\n",
       "      <td>0</td>\n",
       "      <td>0</td>\n",
       "    </tr>\n",
       "    <tr>\n",
       "      <th>3</th>\n",
       "      <td>63</td>\n",
       "      <td>56</td>\n",
       "      <td>0.125</td>\n",
       "      <td>0.5160</td>\n",
       "      <td>0.2155</td>\n",
       "      <td>0.1140</td>\n",
       "      <td>0.155</td>\n",
       "      <td>10</td>\n",
       "      <td>0</td>\n",
       "      <td>0</td>\n",
       "      <td>1</td>\n",
       "    </tr>\n",
       "    <tr>\n",
       "      <th>4</th>\n",
       "      <td>41</td>\n",
       "      <td>34</td>\n",
       "      <td>0.080</td>\n",
       "      <td>0.2050</td>\n",
       "      <td>0.0895</td>\n",
       "      <td>0.0395</td>\n",
       "      <td>0.055</td>\n",
       "      <td>7</td>\n",
       "      <td>0</td>\n",
       "      <td>1</td>\n",
       "      <td>0</td>\n",
       "    </tr>\n",
       "  </tbody>\n",
       "</table>\n",
       "</div>"
      ],
      "text/plain": [
       "   Length  Diameter  Height  Whole weight  Shucked weight  Viscera weight  \\\n",
       "0      66        56   0.095        0.5140          0.2245          0.1010   \n",
       "1      45        36   0.090        0.2255          0.0995          0.0485   \n",
       "2      81        67   0.135        0.6770          0.2565          0.1415   \n",
       "3      63        56   0.125        0.5160          0.2155          0.1140   \n",
       "4      41        34   0.080        0.2050          0.0895          0.0395   \n",
       "\n",
       "   Shell weight  Rings  Sex_F  Sex_I  Sex_M  \n",
       "0         0.150     15      0      0      1  \n",
       "1         0.070      7      0      0      1  \n",
       "2         0.210      9      1      0      0  \n",
       "3         0.155     10      0      0      1  \n",
       "4         0.055      7      0      1      0  "
      ]
     },
     "execution_count": 230,
     "metadata": {},
     "output_type": "execute_result"
    }
   ],
   "source": [
    "df_main = pd.get_dummies(df,columns= ['Sex'])\n",
    "\n",
    "df_main.head()"
   ]
  },
  {
   "cell_type": "code",
   "execution_count": 231,
   "id": "c7f26422",
   "metadata": {},
   "outputs": [
    {
     "data": {
      "text/html": [
       "<div>\n",
       "<style scoped>\n",
       "    .dataframe tbody tr th:only-of-type {\n",
       "        vertical-align: middle;\n",
       "    }\n",
       "\n",
       "    .dataframe tbody tr th {\n",
       "        vertical-align: top;\n",
       "    }\n",
       "\n",
       "    .dataframe thead th {\n",
       "        text-align: right;\n",
       "    }\n",
       "</style>\n",
       "<table border=\"1\" class=\"dataframe\">\n",
       "  <thead>\n",
       "    <tr style=\"text-align: right;\">\n",
       "      <th></th>\n",
       "      <th>Length</th>\n",
       "      <th>Diameter</th>\n",
       "      <th>Height</th>\n",
       "      <th>Whole weight</th>\n",
       "      <th>Shucked weight</th>\n",
       "      <th>Viscera weight</th>\n",
       "      <th>Shell weight</th>\n",
       "      <th>Rings</th>\n",
       "      <th>Sex_F</th>\n",
       "      <th>Sex_I</th>\n",
       "      <th>Sex_M</th>\n",
       "    </tr>\n",
       "  </thead>\n",
       "  <tbody>\n",
       "    <tr>\n",
       "      <th>count</th>\n",
       "      <td>3916.000000</td>\n",
       "      <td>3916.000000</td>\n",
       "      <td>3916.000000</td>\n",
       "      <td>3916.000000</td>\n",
       "      <td>3916.000000</td>\n",
       "      <td>3916.000000</td>\n",
       "      <td>3916.000000</td>\n",
       "      <td>3916.000000</td>\n",
       "      <td>3916.000000</td>\n",
       "      <td>3916.000000</td>\n",
       "      <td>3916.000000</td>\n",
       "    </tr>\n",
       "    <tr>\n",
       "      <th>mean</th>\n",
       "      <td>78.815373</td>\n",
       "      <td>63.690756</td>\n",
       "      <td>0.137256</td>\n",
       "      <td>0.803741</td>\n",
       "      <td>0.353645</td>\n",
       "      <td>0.176191</td>\n",
       "      <td>0.228427</td>\n",
       "      <td>9.381001</td>\n",
       "      <td>0.302605</td>\n",
       "      <td>0.336568</td>\n",
       "      <td>0.360827</td>\n",
       "    </tr>\n",
       "    <tr>\n",
       "      <th>std</th>\n",
       "      <td>24.189374</td>\n",
       "      <td>19.933994</td>\n",
       "      <td>0.041655</td>\n",
       "      <td>0.483867</td>\n",
       "      <td>0.223763</td>\n",
       "      <td>0.109211</td>\n",
       "      <td>0.131867</td>\n",
       "      <td>2.418719</td>\n",
       "      <td>0.459444</td>\n",
       "      <td>0.472596</td>\n",
       "      <td>0.480302</td>\n",
       "    </tr>\n",
       "    <tr>\n",
       "      <th>min</th>\n",
       "      <td>0.000000</td>\n",
       "      <td>0.000000</td>\n",
       "      <td>0.000000</td>\n",
       "      <td>0.002000</td>\n",
       "      <td>0.001000</td>\n",
       "      <td>0.000500</td>\n",
       "      <td>0.001500</td>\n",
       "      <td>1.000000</td>\n",
       "      <td>0.000000</td>\n",
       "      <td>0.000000</td>\n",
       "      <td>0.000000</td>\n",
       "    </tr>\n",
       "    <tr>\n",
       "      <th>25%</th>\n",
       "      <td>64.000000</td>\n",
       "      <td>51.000000</td>\n",
       "      <td>0.110000</td>\n",
       "      <td>0.419125</td>\n",
       "      <td>0.176375</td>\n",
       "      <td>0.088500</td>\n",
       "      <td>0.122875</td>\n",
       "      <td>8.000000</td>\n",
       "      <td>0.000000</td>\n",
       "      <td>0.000000</td>\n",
       "      <td>0.000000</td>\n",
       "    </tr>\n",
       "    <tr>\n",
       "      <th>50%</th>\n",
       "      <td>82.000000</td>\n",
       "      <td>67.000000</td>\n",
       "      <td>0.140000</td>\n",
       "      <td>0.767000</td>\n",
       "      <td>0.327000</td>\n",
       "      <td>0.164250</td>\n",
       "      <td>0.220000</td>\n",
       "      <td>9.000000</td>\n",
       "      <td>0.000000</td>\n",
       "      <td>0.000000</td>\n",
       "      <td>0.000000</td>\n",
       "    </tr>\n",
       "    <tr>\n",
       "      <th>75%</th>\n",
       "      <td>97.000000</td>\n",
       "      <td>79.000000</td>\n",
       "      <td>0.165000</td>\n",
       "      <td>1.131125</td>\n",
       "      <td>0.497500</td>\n",
       "      <td>0.247000</td>\n",
       "      <td>0.315000</td>\n",
       "      <td>11.000000</td>\n",
       "      <td>1.000000</td>\n",
       "      <td>1.000000</td>\n",
       "      <td>1.000000</td>\n",
       "    </tr>\n",
       "    <tr>\n",
       "      <th>max</th>\n",
       "      <td>132.000000</td>\n",
       "      <td>110.000000</td>\n",
       "      <td>1.130000</td>\n",
       "      <td>2.779500</td>\n",
       "      <td>1.488000</td>\n",
       "      <td>0.760000</td>\n",
       "      <td>0.797500</td>\n",
       "      <td>15.000000</td>\n",
       "      <td>1.000000</td>\n",
       "      <td>1.000000</td>\n",
       "      <td>1.000000</td>\n",
       "    </tr>\n",
       "  </tbody>\n",
       "</table>\n",
       "</div>"
      ],
      "text/plain": [
       "            Length     Diameter       Height  Whole weight  Shucked weight  \\\n",
       "count  3916.000000  3916.000000  3916.000000   3916.000000     3916.000000   \n",
       "mean     78.815373    63.690756     0.137256      0.803741        0.353645   \n",
       "std      24.189374    19.933994     0.041655      0.483867        0.223763   \n",
       "min       0.000000     0.000000     0.000000      0.002000        0.001000   \n",
       "25%      64.000000    51.000000     0.110000      0.419125        0.176375   \n",
       "50%      82.000000    67.000000     0.140000      0.767000        0.327000   \n",
       "75%      97.000000    79.000000     0.165000      1.131125        0.497500   \n",
       "max     132.000000   110.000000     1.130000      2.779500        1.488000   \n",
       "\n",
       "       Viscera weight  Shell weight        Rings        Sex_F        Sex_I  \\\n",
       "count     3916.000000   3916.000000  3916.000000  3916.000000  3916.000000   \n",
       "mean         0.176191      0.228427     9.381001     0.302605     0.336568   \n",
       "std          0.109211      0.131867     2.418719     0.459444     0.472596   \n",
       "min          0.000500      0.001500     1.000000     0.000000     0.000000   \n",
       "25%          0.088500      0.122875     8.000000     0.000000     0.000000   \n",
       "50%          0.164250      0.220000     9.000000     0.000000     0.000000   \n",
       "75%          0.247000      0.315000    11.000000     1.000000     1.000000   \n",
       "max          0.760000      0.797500    15.000000     1.000000     1.000000   \n",
       "\n",
       "             Sex_M  \n",
       "count  3916.000000  \n",
       "mean      0.360827  \n",
       "std       0.480302  \n",
       "min       0.000000  \n",
       "25%       0.000000  \n",
       "50%       0.000000  \n",
       "75%       1.000000  \n",
       "max       1.000000  "
      ]
     },
     "execution_count": 231,
     "metadata": {},
     "output_type": "execute_result"
    }
   ],
   "source": [
    "df_main.describe()"
   ]
  },
  {
   "cell_type": "code",
   "execution_count": 232,
   "id": "a158b22a",
   "metadata": {},
   "outputs": [
    {
     "data": {
      "text/html": [
       "<div>\n",
       "<style scoped>\n",
       "    .dataframe tbody tr th:only-of-type {\n",
       "        vertical-align: middle;\n",
       "    }\n",
       "\n",
       "    .dataframe tbody tr th {\n",
       "        vertical-align: top;\n",
       "    }\n",
       "\n",
       "    .dataframe thead th {\n",
       "        text-align: right;\n",
       "    }\n",
       "</style>\n",
       "<table border=\"1\" class=\"dataframe\">\n",
       "  <thead>\n",
       "    <tr style=\"text-align: right;\">\n",
       "      <th></th>\n",
       "      <th>Length</th>\n",
       "      <th>Diameter</th>\n",
       "      <th>Height</th>\n",
       "      <th>Whole weight</th>\n",
       "      <th>Shucked weight</th>\n",
       "      <th>Viscera weight</th>\n",
       "      <th>Shell weight</th>\n",
       "      <th>Rings</th>\n",
       "      <th>Sex_F</th>\n",
       "      <th>Sex_I</th>\n",
       "      <th>Sex_M</th>\n",
       "    </tr>\n",
       "  </thead>\n",
       "  <tbody>\n",
       "    <tr>\n",
       "      <th>Length</th>\n",
       "      <td>1.000000</td>\n",
       "      <td>0.987194</td>\n",
       "      <td>0.825986</td>\n",
       "      <td>0.926858</td>\n",
       "      <td>0.899317</td>\n",
       "      <td>0.904138</td>\n",
       "      <td>0.914107</td>\n",
       "      <td>0.632153</td>\n",
       "      <td>0.313509</td>\n",
       "      <td>-0.550673</td>\n",
       "      <td>0.241944</td>\n",
       "    </tr>\n",
       "    <tr>\n",
       "      <th>Diameter</th>\n",
       "      <td>0.987194</td>\n",
       "      <td>1.000000</td>\n",
       "      <td>0.831083</td>\n",
       "      <td>0.926032</td>\n",
       "      <td>0.894457</td>\n",
       "      <td>0.900154</td>\n",
       "      <td>0.920443</td>\n",
       "      <td>0.646657</td>\n",
       "      <td>0.322220</td>\n",
       "      <td>-0.563482</td>\n",
       "      <td>0.246214</td>\n",
       "    </tr>\n",
       "    <tr>\n",
       "      <th>Height</th>\n",
       "      <td>0.825986</td>\n",
       "      <td>0.831083</td>\n",
       "      <td>1.000000</td>\n",
       "      <td>0.815652</td>\n",
       "      <td>0.778311</td>\n",
       "      <td>0.797918</td>\n",
       "      <td>0.819373</td>\n",
       "      <td>0.592923</td>\n",
       "      <td>0.302920</td>\n",
       "      <td>-0.517300</td>\n",
       "      <td>0.219235</td>\n",
       "    </tr>\n",
       "    <tr>\n",
       "      <th>Whole weight</th>\n",
       "      <td>0.926858</td>\n",
       "      <td>0.926032</td>\n",
       "      <td>0.815652</td>\n",
       "      <td>1.000000</td>\n",
       "      <td>0.975151</td>\n",
       "      <td>0.968939</td>\n",
       "      <td>0.962635</td>\n",
       "      <td>0.582569</td>\n",
       "      <td>0.305328</td>\n",
       "      <td>-0.561950</td>\n",
       "      <td>0.260865</td>\n",
       "    </tr>\n",
       "    <tr>\n",
       "      <th>Shucked weight</th>\n",
       "      <td>0.899317</td>\n",
       "      <td>0.894457</td>\n",
       "      <td>0.778311</td>\n",
       "      <td>0.975151</td>\n",
       "      <td>1.000000</td>\n",
       "      <td>0.934909</td>\n",
       "      <td>0.906289</td>\n",
       "      <td>0.497591</td>\n",
       "      <td>0.271478</td>\n",
       "      <td>-0.527633</td>\n",
       "      <td>0.259479</td>\n",
       "    </tr>\n",
       "    <tr>\n",
       "      <th>Viscera weight</th>\n",
       "      <td>0.904138</td>\n",
       "      <td>0.900154</td>\n",
       "      <td>0.797918</td>\n",
       "      <td>0.968939</td>\n",
       "      <td>0.934909</td>\n",
       "      <td>1.000000</td>\n",
       "      <td>0.924540</td>\n",
       "      <td>0.568828</td>\n",
       "      <td>0.314022</td>\n",
       "      <td>-0.560625</td>\n",
       "      <td>0.251244</td>\n",
       "    </tr>\n",
       "    <tr>\n",
       "      <th>Shell weight</th>\n",
       "      <td>0.914107</td>\n",
       "      <td>0.920443</td>\n",
       "      <td>0.819373</td>\n",
       "      <td>0.962635</td>\n",
       "      <td>0.906289</td>\n",
       "      <td>0.924540</td>\n",
       "      <td>1.000000</td>\n",
       "      <td>0.642269</td>\n",
       "      <td>0.314691</td>\n",
       "      <td>-0.557792</td>\n",
       "      <td>0.247818</td>\n",
       "    </tr>\n",
       "    <tr>\n",
       "      <th>Rings</th>\n",
       "      <td>0.632153</td>\n",
       "      <td>0.646657</td>\n",
       "      <td>0.592923</td>\n",
       "      <td>0.582569</td>\n",
       "      <td>0.497591</td>\n",
       "      <td>0.568828</td>\n",
       "      <td>0.642269</td>\n",
       "      <td>1.000000</td>\n",
       "      <td>0.272264</td>\n",
       "      <td>-0.490522</td>\n",
       "      <td>0.222212</td>\n",
       "    </tr>\n",
       "    <tr>\n",
       "      <th>Sex_F</th>\n",
       "      <td>0.313509</td>\n",
       "      <td>0.322220</td>\n",
       "      <td>0.302920</td>\n",
       "      <td>0.305328</td>\n",
       "      <td>0.271478</td>\n",
       "      <td>0.314022</td>\n",
       "      <td>0.314691</td>\n",
       "      <td>0.272264</td>\n",
       "      <td>1.000000</td>\n",
       "      <td>-0.469177</td>\n",
       "      <td>-0.494925</td>\n",
       "    </tr>\n",
       "    <tr>\n",
       "      <th>Sex_I</th>\n",
       "      <td>-0.550673</td>\n",
       "      <td>-0.563482</td>\n",
       "      <td>-0.517300</td>\n",
       "      <td>-0.561950</td>\n",
       "      <td>-0.527633</td>\n",
       "      <td>-0.560625</td>\n",
       "      <td>-0.557792</td>\n",
       "      <td>-0.490522</td>\n",
       "      <td>-0.469177</td>\n",
       "      <td>1.000000</td>\n",
       "      <td>-0.535154</td>\n",
       "    </tr>\n",
       "    <tr>\n",
       "      <th>Sex_M</th>\n",
       "      <td>0.241944</td>\n",
       "      <td>0.246214</td>\n",
       "      <td>0.219235</td>\n",
       "      <td>0.260865</td>\n",
       "      <td>0.259479</td>\n",
       "      <td>0.251244</td>\n",
       "      <td>0.247818</td>\n",
       "      <td>0.222212</td>\n",
       "      <td>-0.494925</td>\n",
       "      <td>-0.535154</td>\n",
       "      <td>1.000000</td>\n",
       "    </tr>\n",
       "  </tbody>\n",
       "</table>\n",
       "</div>"
      ],
      "text/plain": [
       "                  Length  Diameter    Height  Whole weight  Shucked weight  \\\n",
       "Length          1.000000  0.987194  0.825986      0.926858        0.899317   \n",
       "Diameter        0.987194  1.000000  0.831083      0.926032        0.894457   \n",
       "Height          0.825986  0.831083  1.000000      0.815652        0.778311   \n",
       "Whole weight    0.926858  0.926032  0.815652      1.000000        0.975151   \n",
       "Shucked weight  0.899317  0.894457  0.778311      0.975151        1.000000   \n",
       "Viscera weight  0.904138  0.900154  0.797918      0.968939        0.934909   \n",
       "Shell weight    0.914107  0.920443  0.819373      0.962635        0.906289   \n",
       "Rings           0.632153  0.646657  0.592923      0.582569        0.497591   \n",
       "Sex_F           0.313509  0.322220  0.302920      0.305328        0.271478   \n",
       "Sex_I          -0.550673 -0.563482 -0.517300     -0.561950       -0.527633   \n",
       "Sex_M           0.241944  0.246214  0.219235      0.260865        0.259479   \n",
       "\n",
       "                Viscera weight  Shell weight     Rings     Sex_F     Sex_I  \\\n",
       "Length                0.904138      0.914107  0.632153  0.313509 -0.550673   \n",
       "Diameter              0.900154      0.920443  0.646657  0.322220 -0.563482   \n",
       "Height                0.797918      0.819373  0.592923  0.302920 -0.517300   \n",
       "Whole weight          0.968939      0.962635  0.582569  0.305328 -0.561950   \n",
       "Shucked weight        0.934909      0.906289  0.497591  0.271478 -0.527633   \n",
       "Viscera weight        1.000000      0.924540  0.568828  0.314022 -0.560625   \n",
       "Shell weight          0.924540      1.000000  0.642269  0.314691 -0.557792   \n",
       "Rings                 0.568828      0.642269  1.000000  0.272264 -0.490522   \n",
       "Sex_F                 0.314022      0.314691  0.272264  1.000000 -0.469177   \n",
       "Sex_I                -0.560625     -0.557792 -0.490522 -0.469177  1.000000   \n",
       "Sex_M                 0.251244      0.247818  0.222212 -0.494925 -0.535154   \n",
       "\n",
       "                   Sex_M  \n",
       "Length          0.241944  \n",
       "Diameter        0.246214  \n",
       "Height          0.219235  \n",
       "Whole weight    0.260865  \n",
       "Shucked weight  0.259479  \n",
       "Viscera weight  0.251244  \n",
       "Shell weight    0.247818  \n",
       "Rings           0.222212  \n",
       "Sex_F          -0.494925  \n",
       "Sex_I          -0.535154  \n",
       "Sex_M           1.000000  "
      ]
     },
     "execution_count": 232,
     "metadata": {},
     "output_type": "execute_result"
    }
   ],
   "source": [
    "df_main.corr()"
   ]
  },
  {
   "cell_type": "code",
   "execution_count": 233,
   "id": "055ab4f2",
   "metadata": {},
   "outputs": [
    {
     "data": {
      "text/plain": [
       "<AxesSubplot:>"
      ]
     },
     "execution_count": 233,
     "metadata": {},
     "output_type": "execute_result"
    },
    {
     "data": {
      "image/png": "[encoded data removed]",
      "text/plain": [
       "<Figure size 1080x720 with 2 Axes>"
      ]
     },
     "metadata": {
      "needs_background": "light"
     },
     "output_type": "display_data"
    }
   ],
   "source": [
    "plt.figure(figsize=(15,10))\n",
    "sns.heatmap(df_main.corr(),annot=True)"
   ]
  },
  {
   "cell_type": "markdown",
   "id": "b3fad734",
   "metadata": {},
   "source": [
    "## Independent and dependent variable spilts"
   ]
  },
  {
   "cell_type": "code",
   "execution_count": 234,
   "id": "eec57fe5",
   "metadata": {},
   "outputs": [
    {
     "data": {
      "text/plain": [
       "Diameter          1.000000\n",
       "Length            0.987194\n",
       "Whole weight      0.926032\n",
       "Shell weight      0.920443\n",
       "Viscera weight    0.900154\n",
       "Shucked weight    0.894457\n",
       "Height            0.831083\n",
       "Rings             0.646657\n",
       "Sex_F             0.322220\n",
       "Sex_M             0.246214\n",
       "Sex_I            -0.563482\n",
       "Name: Diameter, dtype: float64"
      ]
     },
     "execution_count": 234,
     "metadata": {},
     "output_type": "execute_result"
    }
   ],
   "source": [
    "# Taking Diameter as the independent variable\n",
    "df_main.corr().Diameter.sort_values(ascending=False)"
   ]
  },
  {
   "cell_type": "code",
   "execution_count": 235,
   "id": "49437eca",
   "metadata": {},
   "outputs": [
    {
     "data": {
      "text/html": [
       "<div>\n",
       "<style scoped>\n",
       "    .dataframe tbody tr th:only-of-type {\n",
       "        vertical-align: middle;\n",
       "    }\n",
       "\n",
       "    .dataframe tbody tr th {\n",
       "        vertical-align: top;\n",
       "    }\n",
       "\n",
       "    .dataframe thead th {\n",
       "        text-align: right;\n",
       "    }\n",
       "</style>\n",
       "<table border=\"1\" class=\"dataframe\">\n",
       "  <thead>\n",
       "    <tr style=\"text-align: right;\">\n",
       "      <th></th>\n",
       "      <th>Length</th>\n",
       "      <th>Diameter</th>\n",
       "      <th>Height</th>\n",
       "      <th>Whole weight</th>\n",
       "      <th>Shucked weight</th>\n",
       "      <th>Viscera weight</th>\n",
       "      <th>Shell weight</th>\n",
       "      <th>Rings</th>\n",
       "      <th>Sex_F</th>\n",
       "      <th>Sex_I</th>\n",
       "      <th>Sex_M</th>\n",
       "    </tr>\n",
       "  </thead>\n",
       "  <tbody>\n",
       "    <tr>\n",
       "      <th>0</th>\n",
       "      <td>66</td>\n",
       "      <td>56</td>\n",
       "      <td>0.095</td>\n",
       "      <td>0.5140</td>\n",
       "      <td>0.2245</td>\n",
       "      <td>0.1010</td>\n",
       "      <td>0.150</td>\n",
       "      <td>15</td>\n",
       "      <td>0</td>\n",
       "      <td>0</td>\n",
       "      <td>1</td>\n",
       "    </tr>\n",
       "    <tr>\n",
       "      <th>1</th>\n",
       "      <td>45</td>\n",
       "      <td>36</td>\n",
       "      <td>0.090</td>\n",
       "      <td>0.2255</td>\n",
       "      <td>0.0995</td>\n",
       "      <td>0.0485</td>\n",
       "      <td>0.070</td>\n",
       "      <td>7</td>\n",
       "      <td>0</td>\n",
       "      <td>0</td>\n",
       "      <td>1</td>\n",
       "    </tr>\n",
       "    <tr>\n",
       "      <th>2</th>\n",
       "      <td>81</td>\n",
       "      <td>67</td>\n",
       "      <td>0.135</td>\n",
       "      <td>0.6770</td>\n",
       "      <td>0.2565</td>\n",
       "      <td>0.1415</td>\n",
       "      <td>0.210</td>\n",
       "      <td>9</td>\n",
       "      <td>1</td>\n",
       "      <td>0</td>\n",
       "      <td>0</td>\n",
       "    </tr>\n",
       "    <tr>\n",
       "      <th>3</th>\n",
       "      <td>63</td>\n",
       "      <td>56</td>\n",
       "      <td>0.125</td>\n",
       "      <td>0.5160</td>\n",
       "      <td>0.2155</td>\n",
       "      <td>0.1140</td>\n",
       "      <td>0.155</td>\n",
       "      <td>10</td>\n",
       "      <td>0</td>\n",
       "      <td>0</td>\n",
       "      <td>1</td>\n",
       "    </tr>\n",
       "    <tr>\n",
       "      <th>4</th>\n",
       "      <td>41</td>\n",
       "      <td>34</td>\n",
       "      <td>0.080</td>\n",
       "      <td>0.2050</td>\n",
       "      <td>0.0895</td>\n",
       "      <td>0.0395</td>\n",
       "      <td>0.055</td>\n",
       "      <td>7</td>\n",
       "      <td>0</td>\n",
       "      <td>1</td>\n",
       "      <td>0</td>\n",
       "    </tr>\n",
       "  </tbody>\n",
       "</table>\n",
       "</div>"
      ],
      "text/plain": [
       "   Length  Diameter  Height  Whole weight  Shucked weight  Viscera weight  \\\n",
       "0      66        56   0.095        0.5140          0.2245          0.1010   \n",
       "1      45        36   0.090        0.2255          0.0995          0.0485   \n",
       "2      81        67   0.135        0.6770          0.2565          0.1415   \n",
       "3      63        56   0.125        0.5160          0.2155          0.1140   \n",
       "4      41        34   0.080        0.2050          0.0895          0.0395   \n",
       "\n",
       "   Shell weight  Rings  Sex_F  Sex_I  Sex_M  \n",
       "0         0.150     15      0      0      1  \n",
       "1         0.070      7      0      0      1  \n",
       "2         0.210      9      1      0      0  \n",
       "3         0.155     10      0      0      1  \n",
       "4         0.055      7      0      1      0  "
      ]
     },
     "execution_count": 235,
     "metadata": {},
     "output_type": "execute_result"
    }
   ],
   "source": [
    "df_main.head()"
   ]
  },
  {
   "cell_type": "markdown",
   "id": "316f52a2",
   "metadata": {},
   "source": [
    "## Independent variables"
   ]
  },
  {
   "cell_type": "code",
   "execution_count": 236,
   "id": "f6e76af9",
   "metadata": {},
   "outputs": [
    {
     "data": {
      "text/html": [
       "<div>\n",
       "<style scoped>\n",
       "    .dataframe tbody tr th:only-of-type {\n",
       "        vertical-align: middle;\n",
       "    }\n",
       "\n",
       "    .dataframe tbody tr th {\n",
       "        vertical-align: top;\n",
       "    }\n",
       "\n",
       "    .dataframe thead th {\n",
       "        text-align: right;\n",
       "    }\n",
       "</style>\n",
       "<table border=\"1\" class=\"dataframe\">\n",
       "  <thead>\n",
       "    <tr style=\"text-align: right;\">\n",
       "      <th></th>\n",
       "      <th>Length</th>\n",
       "      <th>Height</th>\n",
       "      <th>Whole weight</th>\n",
       "      <th>Shucked weight</th>\n",
       "      <th>Viscera weight</th>\n",
       "      <th>Shell weight</th>\n",
       "      <th>Rings</th>\n",
       "      <th>Sex_F</th>\n",
       "      <th>Sex_I</th>\n",
       "      <th>Sex_M</th>\n",
       "    </tr>\n",
       "  </thead>\n",
       "  <tbody>\n",
       "    <tr>\n",
       "      <th>0</th>\n",
       "      <td>66</td>\n",
       "      <td>0.095</td>\n",
       "      <td>0.5140</td>\n",
       "      <td>0.2245</td>\n",
       "      <td>0.1010</td>\n",
       "      <td>0.150</td>\n",
       "      <td>15</td>\n",
       "      <td>0</td>\n",
       "      <td>0</td>\n",
       "      <td>1</td>\n",
       "    </tr>\n",
       "    <tr>\n",
       "      <th>1</th>\n",
       "      <td>45</td>\n",
       "      <td>0.090</td>\n",
       "      <td>0.2255</td>\n",
       "      <td>0.0995</td>\n",
       "      <td>0.0485</td>\n",
       "      <td>0.070</td>\n",
       "      <td>7</td>\n",
       "      <td>0</td>\n",
       "      <td>0</td>\n",
       "      <td>1</td>\n",
       "    </tr>\n",
       "    <tr>\n",
       "      <th>2</th>\n",
       "      <td>81</td>\n",
       "      <td>0.135</td>\n",
       "      <td>0.6770</td>\n",
       "      <td>0.2565</td>\n",
       "      <td>0.1415</td>\n",
       "      <td>0.210</td>\n",
       "      <td>9</td>\n",
       "      <td>1</td>\n",
       "      <td>0</td>\n",
       "      <td>0</td>\n",
       "    </tr>\n",
       "    <tr>\n",
       "      <th>3</th>\n",
       "      <td>63</td>\n",
       "      <td>0.125</td>\n",
       "      <td>0.5160</td>\n",
       "      <td>0.2155</td>\n",
       "      <td>0.1140</td>\n",
       "      <td>0.155</td>\n",
       "      <td>10</td>\n",
       "      <td>0</td>\n",
       "      <td>0</td>\n",
       "      <td>1</td>\n",
       "    </tr>\n",
       "    <tr>\n",
       "      <th>4</th>\n",
       "      <td>41</td>\n",
       "      <td>0.080</td>\n",
       "      <td>0.2050</td>\n",
       "      <td>0.0895</td>\n",
       "      <td>0.0395</td>\n",
       "      <td>0.055</td>\n",
       "      <td>7</td>\n",
       "      <td>0</td>\n",
       "      <td>1</td>\n",
       "      <td>0</td>\n",
       "    </tr>\n",
       "  </tbody>\n",
       "</table>\n",
       "</div>"
      ],
      "text/plain": [
       "   Length  Height  Whole weight  Shucked weight  Viscera weight  Shell weight  \\\n",
       "0      66   0.095        0.5140          0.2245          0.1010         0.150   \n",
       "1      45   0.090        0.2255          0.0995          0.0485         0.070   \n",
       "2      81   0.135        0.6770          0.2565          0.1415         0.210   \n",
       "3      63   0.125        0.5160          0.2155          0.1140         0.155   \n",
       "4      41   0.080        0.2050          0.0895          0.0395         0.055   \n",
       "\n",
       "   Rings  Sex_F  Sex_I  Sex_M  \n",
       "0     15      0      0      1  \n",
       "1      7      0      0      1  \n",
       "2      9      1      0      0  \n",
       "3     10      0      0      1  \n",
       "4      7      0      1      0  "
      ]
     },
     "execution_count": 236,
     "metadata": {},
     "output_type": "execute_result"
    }
   ],
   "source": [
    "X = df_main.drop(columns=['Diameter'],axis=1)\n",
    "X.head()\n"
   ]
  },
  {
   "cell_type": "markdown",
   "id": "d6867fde",
   "metadata": {},
   "source": [
    "## Dependent variables"
   ]
  },
  {
   "cell_type": "code",
   "execution_count": 237,
   "id": "4402af2c",
   "metadata": {},
   "outputs": [
    {
     "data": {
      "text/plain": [
       "0       56\n",
       "1       36\n",
       "2       67\n",
       "3       56\n",
       "4       34\n",
       "        ..\n",
       "4172    73\n",
       "4173    71\n",
       "4174    78\n",
       "4175    80\n",
       "4176    94\n",
       "Name: Diameter, Length: 3916, dtype: int64"
      ]
     },
     "execution_count": 237,
     "metadata": {},
     "output_type": "execute_result"
    }
   ],
   "source": [
    "y =df_main.Diameter\n",
    "y"
   ]
  },
  {
   "cell_type": "code",
   "execution_count": 238,
   "id": "62135009",
   "metadata": {},
   "outputs": [
    {
     "data": {
      "text/html": [
       "<div>\n",
       "<style scoped>\n",
       "    .dataframe tbody tr th:only-of-type {\n",
       "        vertical-align: middle;\n",
       "    }\n",
       "\n",
       "    .dataframe tbody tr th {\n",
       "        vertical-align: top;\n",
       "    }\n",
       "\n",
       "    .dataframe thead th {\n",
       "        text-align: right;\n",
       "    }\n",
       "</style>\n",
       "<table border=\"1\" class=\"dataframe\">\n",
       "  <thead>\n",
       "    <tr style=\"text-align: right;\">\n",
       "      <th></th>\n",
       "      <th>Length</th>\n",
       "      <th>Height</th>\n",
       "      <th>Whole weight</th>\n",
       "      <th>Shucked weight</th>\n",
       "      <th>Viscera weight</th>\n",
       "      <th>Shell weight</th>\n",
       "      <th>Rings</th>\n",
       "      <th>Sex_F</th>\n",
       "      <th>Sex_I</th>\n",
       "      <th>Sex_M</th>\n",
       "    </tr>\n",
       "  </thead>\n",
       "  <tbody>\n",
       "    <tr>\n",
       "      <th>0</th>\n",
       "      <td>66</td>\n",
       "      <td>0.095</td>\n",
       "      <td>0.5140</td>\n",
       "      <td>0.2245</td>\n",
       "      <td>0.1010</td>\n",
       "      <td>0.150</td>\n",
       "      <td>15</td>\n",
       "      <td>0</td>\n",
       "      <td>0</td>\n",
       "      <td>1</td>\n",
       "    </tr>\n",
       "    <tr>\n",
       "      <th>1</th>\n",
       "      <td>45</td>\n",
       "      <td>0.090</td>\n",
       "      <td>0.2255</td>\n",
       "      <td>0.0995</td>\n",
       "      <td>0.0485</td>\n",
       "      <td>0.070</td>\n",
       "      <td>7</td>\n",
       "      <td>0</td>\n",
       "      <td>0</td>\n",
       "      <td>1</td>\n",
       "    </tr>\n",
       "    <tr>\n",
       "      <th>2</th>\n",
       "      <td>81</td>\n",
       "      <td>0.135</td>\n",
       "      <td>0.6770</td>\n",
       "      <td>0.2565</td>\n",
       "      <td>0.1415</td>\n",
       "      <td>0.210</td>\n",
       "      <td>9</td>\n",
       "      <td>1</td>\n",
       "      <td>0</td>\n",
       "      <td>0</td>\n",
       "    </tr>\n",
       "    <tr>\n",
       "      <th>3</th>\n",
       "      <td>63</td>\n",
       "      <td>0.125</td>\n",
       "      <td>0.5160</td>\n",
       "      <td>0.2155</td>\n",
       "      <td>0.1140</td>\n",
       "      <td>0.155</td>\n",
       "      <td>10</td>\n",
       "      <td>0</td>\n",
       "      <td>0</td>\n",
       "      <td>1</td>\n",
       "    </tr>\n",
       "    <tr>\n",
       "      <th>4</th>\n",
       "      <td>41</td>\n",
       "      <td>0.080</td>\n",
       "      <td>0.2050</td>\n",
       "      <td>0.0895</td>\n",
       "      <td>0.0395</td>\n",
       "      <td>0.055</td>\n",
       "      <td>7</td>\n",
       "      <td>0</td>\n",
       "      <td>1</td>\n",
       "      <td>0</td>\n",
       "    </tr>\n",
       "  </tbody>\n",
       "</table>\n",
       "</div>"
      ],
      "text/plain": [
       "   Length  Height  Whole weight  Shucked weight  Viscera weight  Shell weight  \\\n",
       "0      66   0.095        0.5140          0.2245          0.1010         0.150   \n",
       "1      45   0.090        0.2255          0.0995          0.0485         0.070   \n",
       "2      81   0.135        0.6770          0.2565          0.1415         0.210   \n",
       "3      63   0.125        0.5160          0.2155          0.1140         0.155   \n",
       "4      41   0.080        0.2050          0.0895          0.0395         0.055   \n",
       "\n",
       "   Rings  Sex_F  Sex_I  Sex_M  \n",
       "0     15      0      0      1  \n",
       "1      7      0      0      1  \n",
       "2      9      1      0      0  \n",
       "3     10      0      0      1  \n",
       "4      7      0      1      0  "
      ]
     },
     "execution_count": 238,
     "metadata": {},
     "output_type": "execute_result"
    }
   ],
   "source": [
    "X.head()"
   ]
  },
  {
   "cell_type": "markdown",
   "id": "00edfcfd",
   "metadata": {},
   "source": [
    "## Scaling the independent variables"
   ]
  },
  {
   "cell_type": "code",
   "execution_count": 239,
   "id": "b4bb4ba4",
   "metadata": {},
   "outputs": [],
   "source": [
    "from sklearn.preprocessing import scale"
   ]
  },
  {
   "cell_type": "code",
   "execution_count": 240,
   "id": "1bc52e26",
   "metadata": {},
   "outputs": [
    {
     "data": {
      "text/html": [
       "<div>\n",
       "<style scoped>\n",
       "    .dataframe tbody tr th:only-of-type {\n",
       "        vertical-align: middle;\n",
       "    }\n",
       "\n",
       "    .dataframe tbody tr th {\n",
       "        vertical-align: top;\n",
       "    }\n",
       "\n",
       "    .dataframe thead th {\n",
       "        text-align: right;\n",
       "    }\n",
       "</style>\n",
       "<table border=\"1\" class=\"dataframe\">\n",
       "  <thead>\n",
       "    <tr style=\"text-align: right;\">\n",
       "      <th></th>\n",
       "      <th>Length</th>\n",
       "      <th>Height</th>\n",
       "      <th>Whole weight</th>\n",
       "      <th>Shucked weight</th>\n",
       "      <th>Viscera weight</th>\n",
       "      <th>Shell weight</th>\n",
       "      <th>Rings</th>\n",
       "      <th>Sex_F</th>\n",
       "      <th>Sex_I</th>\n",
       "      <th>Sex_M</th>\n",
       "    </tr>\n",
       "  </thead>\n",
       "  <tbody>\n",
       "    <tr>\n",
       "      <th>0</th>\n",
       "      <td>-0.529861</td>\n",
       "      <td>-1.014563</td>\n",
       "      <td>-0.598878</td>\n",
       "      <td>-0.577223</td>\n",
       "      <td>-0.688582</td>\n",
       "      <td>-0.594817</td>\n",
       "      <td>2.323426</td>\n",
       "      <td>-0.658716</td>\n",
       "      <td>-0.712259</td>\n",
       "      <td>1.330943</td>\n",
       "    </tr>\n",
       "    <tr>\n",
       "      <th>1</th>\n",
       "      <td>-1.398122</td>\n",
       "      <td>-1.134612</td>\n",
       "      <td>-1.195192</td>\n",
       "      <td>-1.135921</td>\n",
       "      <td>-1.169364</td>\n",
       "      <td>-1.201565</td>\n",
       "      <td>-0.984531</td>\n",
       "      <td>-0.658716</td>\n",
       "      <td>-0.712259</td>\n",
       "      <td>1.330943</td>\n",
       "    </tr>\n",
       "    <tr>\n",
       "      <th>2</th>\n",
       "      <td>0.090325</td>\n",
       "      <td>-0.054169</td>\n",
       "      <td>-0.261966</td>\n",
       "      <td>-0.434196</td>\n",
       "      <td>-0.317692</td>\n",
       "      <td>-0.139756</td>\n",
       "      <td>-0.157542</td>\n",
       "      <td>1.518105</td>\n",
       "      <td>-0.712259</td>\n",
       "      <td>-0.751347</td>\n",
       "    </tr>\n",
       "    <tr>\n",
       "      <th>3</th>\n",
       "      <td>-0.653898</td>\n",
       "      <td>-0.294268</td>\n",
       "      <td>-0.594745</td>\n",
       "      <td>-0.617449</td>\n",
       "      <td>-0.569531</td>\n",
       "      <td>-0.556895</td>\n",
       "      <td>0.255953</td>\n",
       "      <td>-0.658716</td>\n",
       "      <td>-0.712259</td>\n",
       "      <td>1.330943</td>\n",
       "    </tr>\n",
       "    <tr>\n",
       "      <th>4</th>\n",
       "      <td>-1.563505</td>\n",
       "      <td>-1.374710</td>\n",
       "      <td>-1.237565</td>\n",
       "      <td>-1.180617</td>\n",
       "      <td>-1.251784</td>\n",
       "      <td>-1.315330</td>\n",
       "      <td>-0.984531</td>\n",
       "      <td>-0.658716</td>\n",
       "      <td>1.403983</td>\n",
       "      <td>-0.751347</td>\n",
       "    </tr>\n",
       "  </tbody>\n",
       "</table>\n",
       "</div>"
      ],
      "text/plain": [
       "     Length    Height  Whole weight  Shucked weight  Viscera weight  \\\n",
       "0 -0.529861 -1.014563     -0.598878       -0.577223       -0.688582   \n",
       "1 -1.398122 -1.134612     -1.195192       -1.135921       -1.169364   \n",
       "2  0.090325 -0.054169     -0.261966       -0.434196       -0.317692   \n",
       "3 -0.653898 -0.294268     -0.594745       -0.617449       -0.569531   \n",
       "4 -1.563505 -1.374710     -1.237565       -1.180617       -1.251784   \n",
       "\n",
       "   Shell weight     Rings     Sex_F     Sex_I     Sex_M  \n",
       "0     -0.594817  2.323426 -0.658716 -0.712259  1.330943  \n",
       "1     -1.201565 -0.984531 -0.658716 -0.712259  1.330943  \n",
       "2     -0.139756 -0.157542  1.518105 -0.712259 -0.751347  \n",
       "3     -0.556895  0.255953 -0.658716 -0.712259  1.330943  \n",
       "4     -1.315330 -0.984531 -0.658716  1.403983 -0.751347  "
      ]
     },
     "execution_count": 240,
     "metadata": {},
     "output_type": "execute_result"
    }
   ],
   "source": [
    "X_scaled = pd.DataFrame(scale(X),columns=X.columns)\n",
    "X_scaled.head()"
   ]
  },
  {
   "cell_type": "markdown",
   "id": "6c487d1b",
   "metadata": {},
   "source": [
    "## Spliting the data into training and testing"
   ]
  },
  {
   "cell_type": "code",
   "execution_count": 241,
   "id": "90fe02e2",
   "metadata": {},
   "outputs": [],
   "source": [
    "from sklearn.model_selection import train_test_split\n",
    "X_train,X_test,y_train,y_test = train_test_split(X_scaled,y, test_size=0.3,random_state=0)"
   ]
  },
  {
   "cell_type": "code",
   "execution_count": 242,
   "id": "22c8c59a",
   "metadata": {
    "scrolled": true
   },
   "outputs": [
    {
     "data": {
      "text/html": [
       "<div>\n",
       "<style scoped>\n",
       "    .dataframe tbody tr th:only-of-type {\n",
       "        vertical-align: middle;\n",
       "    }\n",
       "\n",
       "    .dataframe tbody tr th {\n",
       "        vertical-align: top;\n",
       "    }\n",
       "\n",
       "    .dataframe thead th {\n",
       "        text-align: right;\n",
       "    }\n",
       "</style>\n",
       "<table border=\"1\" class=\"dataframe\">\n",
       "  <thead>\n",
       "    <tr style=\"text-align: right;\">\n",
       "      <th></th>\n",
       "      <th>Length</th>\n",
       "      <th>Height</th>\n",
       "      <th>Whole weight</th>\n",
       "      <th>Shucked weight</th>\n",
       "      <th>Viscera weight</th>\n",
       "      <th>Shell weight</th>\n",
       "      <th>Rings</th>\n",
       "      <th>Sex_F</th>\n",
       "      <th>Sex_I</th>\n",
       "      <th>Sex_M</th>\n",
       "    </tr>\n",
       "  </thead>\n",
       "  <tbody>\n",
       "    <tr>\n",
       "      <th>1602</th>\n",
       "      <td>1.206660</td>\n",
       "      <td>0.906224</td>\n",
       "      <td>1.175594</td>\n",
       "      <td>1.127925</td>\n",
       "      <td>1.316969</td>\n",
       "      <td>1.263347</td>\n",
       "      <td>1.082942</td>\n",
       "      <td>-0.658716</td>\n",
       "      <td>-0.712259</td>\n",
       "      <td>1.330943</td>\n",
       "    </tr>\n",
       "    <tr>\n",
       "      <th>3135</th>\n",
       "      <td>-1.563505</td>\n",
       "      <td>-1.134612</td>\n",
       "      <td>-1.324376</td>\n",
       "      <td>-1.305765</td>\n",
       "      <td>-1.302152</td>\n",
       "      <td>-1.315330</td>\n",
       "      <td>0.255953</td>\n",
       "      <td>-0.658716</td>\n",
       "      <td>-0.712259</td>\n",
       "      <td>1.330943</td>\n",
       "    </tr>\n",
       "    <tr>\n",
       "      <th>113</th>\n",
       "      <td>-0.033712</td>\n",
       "      <td>0.065880</td>\n",
       "      <td>-0.078008</td>\n",
       "      <td>-0.221891</td>\n",
       "      <td>-0.033801</td>\n",
       "      <td>0.201539</td>\n",
       "      <td>1.909932</td>\n",
       "      <td>1.518105</td>\n",
       "      <td>-0.712259</td>\n",
       "      <td>-0.751347</td>\n",
       "    </tr>\n",
       "    <tr>\n",
       "      <th>934</th>\n",
       "      <td>-1.811579</td>\n",
       "      <td>-1.374710</td>\n",
       "      <td>-1.401887</td>\n",
       "      <td>-1.334818</td>\n",
       "      <td>-1.370835</td>\n",
       "      <td>-1.436680</td>\n",
       "      <td>-1.398026</td>\n",
       "      <td>-0.658716</td>\n",
       "      <td>1.403983</td>\n",
       "      <td>-0.751347</td>\n",
       "    </tr>\n",
       "    <tr>\n",
       "      <th>454</th>\n",
       "      <td>-0.653898</td>\n",
       "      <td>-0.534366</td>\n",
       "      <td>-0.803506</td>\n",
       "      <td>-0.872215</td>\n",
       "      <td>-0.766423</td>\n",
       "      <td>-0.738920</td>\n",
       "      <td>0.669448</td>\n",
       "      <td>1.518105</td>\n",
       "      <td>-0.712259</td>\n",
       "      <td>-0.751347</td>\n",
       "    </tr>\n",
       "    <tr>\n",
       "      <th>...</th>\n",
       "      <td>...</td>\n",
       "      <td>...</td>\n",
       "      <td>...</td>\n",
       "      <td>...</td>\n",
       "      <td>...</td>\n",
       "      <td>...</td>\n",
       "      <td>...</td>\n",
       "      <td>...</td>\n",
       "      <td>...</td>\n",
       "      <td>...</td>\n",
       "    </tr>\n",
       "    <tr>\n",
       "      <th>835</th>\n",
       "      <td>-0.075058</td>\n",
       "      <td>-0.054169</td>\n",
       "      <td>-0.071807</td>\n",
       "      <td>0.178137</td>\n",
       "      <td>-0.281061</td>\n",
       "      <td>-0.291443</td>\n",
       "      <td>-0.571037</td>\n",
       "      <td>-0.658716</td>\n",
       "      <td>-0.712259</td>\n",
       "      <td>1.330943</td>\n",
       "    </tr>\n",
       "    <tr>\n",
       "      <th>3264</th>\n",
       "      <td>0.999931</td>\n",
       "      <td>0.906224</td>\n",
       "      <td>0.725000</td>\n",
       "      <td>0.593809</td>\n",
       "      <td>1.509282</td>\n",
       "      <td>0.451822</td>\n",
       "      <td>-0.157542</td>\n",
       "      <td>1.518105</td>\n",
       "      <td>-0.712259</td>\n",
       "      <td>-0.751347</td>\n",
       "    </tr>\n",
       "    <tr>\n",
       "      <th>1653</th>\n",
       "      <td>0.048979</td>\n",
       "      <td>-0.294268</td>\n",
       "      <td>-0.317774</td>\n",
       "      <td>-0.226360</td>\n",
       "      <td>-0.194062</td>\n",
       "      <td>-0.526558</td>\n",
       "      <td>-0.984531</td>\n",
       "      <td>-0.658716</td>\n",
       "      <td>-0.712259</td>\n",
       "      <td>1.330943</td>\n",
       "    </tr>\n",
       "    <tr>\n",
       "      <th>2607</th>\n",
       "      <td>1.289352</td>\n",
       "      <td>0.786175</td>\n",
       "      <td>1.875255</td>\n",
       "      <td>2.158164</td>\n",
       "      <td>1.610017</td>\n",
       "      <td>1.870095</td>\n",
       "      <td>-0.157542</td>\n",
       "      <td>1.518105</td>\n",
       "      <td>-0.712259</td>\n",
       "      <td>-0.751347</td>\n",
       "    </tr>\n",
       "    <tr>\n",
       "      <th>2732</th>\n",
       "      <td>0.793203</td>\n",
       "      <td>-0.054169</td>\n",
       "      <td>0.656791</td>\n",
       "      <td>0.855280</td>\n",
       "      <td>0.497349</td>\n",
       "      <td>0.466991</td>\n",
       "      <td>-0.157542</td>\n",
       "      <td>1.518105</td>\n",
       "      <td>-0.712259</td>\n",
       "      <td>-0.751347</td>\n",
       "    </tr>\n",
       "  </tbody>\n",
       "</table>\n",
       "<p>2741 rows × 10 columns</p>\n",
       "</div>"
      ],
      "text/plain": [
       "        Length    Height  Whole weight  Shucked weight  Viscera weight  \\\n",
       "1602  1.206660  0.906224      1.175594        1.127925        1.316969   \n",
       "3135 -1.563505 -1.134612     -1.324376       -1.305765       -1.302152   \n",
       "113  -0.033712  0.065880     -0.078008       -0.221891       -0.033801   \n",
       "934  -1.811579 -1.374710     -1.401887       -1.334818       -1.370835   \n",
       "454  -0.653898 -0.534366     -0.803506       -0.872215       -0.766423   \n",
       "...        ...       ...           ...             ...             ...   \n",
       "835  -0.075058 -0.054169     -0.071807        0.178137       -0.281061   \n",
       "3264  0.999931  0.906224      0.725000        0.593809        1.509282   \n",
       "1653  0.048979 -0.294268     -0.317774       -0.226360       -0.194062   \n",
       "2607  1.289352  0.786175      1.875255        2.158164        1.610017   \n",
       "2732  0.793203 -0.054169      0.656791        0.855280        0.497349   \n",
       "\n",
       "      Shell weight     Rings     Sex_F     Sex_I     Sex_M  \n",
       "1602      1.263347  1.082942 -0.658716 -0.712259  1.330943  \n",
       "3135     -1.315330  0.255953 -0.658716 -0.712259  1.330943  \n",
       "113       0.201539  1.909932  1.518105 -0.712259 -0.751347  \n",
       "934      -1.436680 -1.398026 -0.658716  1.403983 -0.751347  \n",
       "454      -0.738920  0.669448  1.518105 -0.712259 -0.751347  \n",
       "...            ...       ...       ...       ...       ...  \n",
       "835      -0.291443 -0.571037 -0.658716 -0.712259  1.330943  \n",
       "3264      0.451822 -0.157542  1.518105 -0.712259 -0.751347  \n",
       "1653     -0.526558 -0.984531 -0.658716 -0.712259  1.330943  \n",
       "2607      1.870095 -0.157542  1.518105 -0.712259 -0.751347  \n",
       "2732      0.466991 -0.157542  1.518105 -0.712259 -0.751347  \n",
       "\n",
       "[2741 rows x 10 columns]"
      ]
     },
     "execution_count": 242,
     "metadata": {},
     "output_type": "execute_result"
    }
   ],
   "source": [
    "X_train"
   ]
  },
  {
   "cell_type": "code",
   "execution_count": 243,
   "id": "08e3bba7",
   "metadata": {},
   "outputs": [
    {
     "data": {
      "text/plain": [
       "(2741, 10)"
      ]
     },
     "execution_count": 243,
     "metadata": {},
     "output_type": "execute_result"
    }
   ],
   "source": [
    "X_train.shape"
   ]
  },
  {
   "cell_type": "code",
   "execution_count": 244,
   "id": "191a2b68",
   "metadata": {},
   "outputs": [
    {
     "data": {
      "text/plain": [
       "(2741,)"
      ]
     },
     "execution_count": 244,
     "metadata": {},
     "output_type": "execute_result"
    }
   ],
   "source": [
    "y_train.shape"
   ]
  },
  {
   "cell_type": "code",
   "execution_count": 245,
   "id": "dbee6b50",
   "metadata": {},
   "outputs": [
    {
     "data": {
      "text/plain": [
       "(1175, 10)"
      ]
     },
     "execution_count": 245,
     "metadata": {},
     "output_type": "execute_result"
    }
   ],
   "source": [
    "X_test.shape"
   ]
  },
  {
   "cell_type": "markdown",
   "id": "d444b1bb",
   "metadata": {},
   "source": [
    "## Building the model"
   ]
  },
  {
   "cell_type": "code",
   "execution_count": 246,
   "id": "daf066c5",
   "metadata": {},
   "outputs": [],
   "source": [
    "from sklearn.linear_model import Ridge\n",
    "from sklearn.linear_model import Lasso\n"
   ]
  },
  {
   "cell_type": "code",
   "execution_count": 247,
   "id": "6f8e66dc",
   "metadata": {},
   "outputs": [],
   "source": [
    "ridge = Ridge()\n",
    "lasso = Lasso()"
   ]
  },
  {
   "cell_type": "code",
   "execution_count": 248,
   "id": "bc3de3b3",
   "metadata": {},
   "outputs": [
    {
     "data": {
      "text/plain": [
       "Ridge()"
      ]
     },
     "execution_count": 248,
     "metadata": {},
     "output_type": "execute_result"
    }
   ],
   "source": [
    "ridge.fit(X_train,y_train)"
   ]
  },
  {
   "cell_type": "code",
   "execution_count": 249,
   "id": "78c96b20",
   "metadata": {},
   "outputs": [
    {
     "data": {
      "text/plain": [
       "Lasso()"
      ]
     },
     "execution_count": 249,
     "metadata": {},
     "output_type": "execute_result"
    }
   ],
   "source": [
    "lasso.fit(X_train,y_train)"
   ]
  },
  {
   "cell_type": "markdown",
   "id": "7cca8ede",
   "metadata": {},
   "source": [
    "## Training and Testing the model"
   ]
  },
  {
   "cell_type": "code",
   "execution_count": 250,
   "id": "ef47f95b",
   "metadata": {},
   "outputs": [
    {
     "data": {
      "text/plain": [
       "array([87.58008151, 34.20469422, 64.6567637 , ..., 63.07110231,\n",
       "       89.89965145, 78.46944075])"
      ]
     },
     "execution_count": 250,
     "metadata": {},
     "output_type": "execute_result"
    }
   ],
   "source": [
    "y_train_pred = ridge.predict(X_train)\n",
    "y_train_pred"
   ]
  },
  {
   "cell_type": "code",
   "execution_count": 251,
   "id": "e709b91c",
   "metadata": {},
   "outputs": [
    {
     "data": {
      "text/plain": [
       "array([93.33045201, 47.9201384 , 81.16107834, ..., 61.26854593,\n",
       "       70.38238165, 54.71067226])"
      ]
     },
     "execution_count": 251,
     "metadata": {},
     "output_type": "execute_result"
    }
   ],
   "source": [
    "y_test_pred = ridge.predict(X_test)\n",
    "y_test_pred"
   ]
  },
  {
   "cell_type": "code",
   "execution_count": 252,
   "id": "1f73d8a7",
   "metadata": {},
   "outputs": [
    {
     "data": {
      "text/plain": [
       "array([86.47118006, 34.76920553, 63.49356734, ..., 63.56481633,\n",
       "       88.93182726, 77.95263318])"
      ]
     },
     "execution_count": 252,
     "metadata": {},
     "output_type": "execute_result"
    }
   ],
   "source": [
    "y_train_pred1 = lasso.predict(X_train)\n",
    "y_train_pred1"
   ]
  },
  {
   "cell_type": "code",
   "execution_count": 253,
   "id": "b53665ce",
   "metadata": {},
   "outputs": [
    {
     "data": {
      "text/plain": [
       "array([91.52464561, 47.58443443, 80.29960856, ..., 60.88294047,\n",
       "       70.23536696, 55.59480709])"
      ]
     },
     "execution_count": 253,
     "metadata": {},
     "output_type": "execute_result"
    }
   ],
   "source": [
    "y_test_pred1 = lasso.predict(X_test)\n",
    "y_test_pred1\n",
    "                            "
   ]
  },
  {
   "cell_type": "markdown",
   "id": "82435000",
   "metadata": {},
   "source": [
    "## Evaluation Metrics for Regression"
   ]
  },
  {
   "cell_type": "code",
   "execution_count": 254,
   "id": "0099837b",
   "metadata": {},
   "outputs": [],
   "source": [
    "from sklearn import metrics"
   ]
  },
  {
   "cell_type": "code",
   "execution_count": 255,
   "id": "97568e68",
   "metadata": {},
   "outputs": [
    {
     "data": {
      "text/plain": [
       "7.736810976850467"
      ]
     },
     "execution_count": 255,
     "metadata": {},
     "output_type": "execute_result"
    }
   ],
   "source": [
    "# MSE\n",
    "# ridge mse\n",
    "metrics.mean_squared_error(y_test,y_test_pred)"
   ]
  },
  {
   "cell_type": "code",
   "execution_count": 256,
   "id": "725d80ea",
   "metadata": {},
   "outputs": [
    {
     "data": {
      "text/plain": [
       "9.20095731523224"
      ]
     },
     "execution_count": 256,
     "metadata": {},
     "output_type": "execute_result"
    }
   ],
   "source": [
    "# lasso mse\n",
    "metrics.mean_squared_error(y_test,y_test_pred1)"
   ]
  },
  {
   "cell_type": "code",
   "execution_count": 257,
   "id": "41f4a929",
   "metadata": {},
   "outputs": [
    {
     "data": {
      "text/plain": [
       "2.781512354250915"
      ]
     },
     "execution_count": 257,
     "metadata": {},
     "output_type": "execute_result"
    }
   ],
   "source": [
    "# RMSE\n",
    "#ridge rmse\n",
    "np.sqrt(metrics.mean_squared_error(y_test,y_test_pred))"
   ]
  },
  {
   "cell_type": "code",
   "execution_count": 258,
   "id": "92c395a2",
   "metadata": {},
   "outputs": [
    {
     "data": {
      "text/plain": [
       "2.781512354250915"
      ]
     },
     "execution_count": 258,
     "metadata": {},
     "output_type": "execute_result"
    }
   ],
   "source": [
    "# lasso rmse\n",
    "np.sqrt(metrics.mean_squared_error(y_test,y_test_pred))"
   ]
  },
  {
   "cell_type": "code",
   "execution_count": 259,
   "id": "cd3cd188",
   "metadata": {},
   "outputs": [
    {
     "data": {
      "text/plain": [
       "0.9757281804106388"
      ]
     },
     "execution_count": 259,
     "metadata": {},
     "output_type": "execute_result"
    }
   ],
   "source": [
    "# ridge training acc.\n",
    "metrics.r2_score(y_train,y_train_pred)"
   ]
  },
  {
   "cell_type": "code",
   "execution_count": 260,
   "id": "04e531e7",
   "metadata": {},
   "outputs": [
    {
     "data": {
      "text/plain": [
       "0.9810608798840378"
      ]
     },
     "execution_count": 260,
     "metadata": {},
     "output_type": "execute_result"
    }
   ],
   "source": [
    "# testing acc.of ridge\n",
    "metrics.r2_score(y_test,y_test_pred)"
   ]
  },
  {
   "cell_type": "code",
   "execution_count": 261,
   "id": "e02bb854",
   "metadata": {},
   "outputs": [
    {
     "data": {
      "text/plain": [
       "0.9722534594257691"
      ]
     },
     "execution_count": 261,
     "metadata": {},
     "output_type": "execute_result"
    }
   ],
   "source": [
    "# lasso trainming acc\n",
    "metrics.r2_score(y_train,y_train_pred1)"
   ]
  },
  {
   "cell_type": "code",
   "execution_count": 263,
   "id": "90f6382f",
   "metadata": {},
   "outputs": [
    {
     "data": {
      "text/plain": [
       "0.9774767618988719"
      ]
     },
     "execution_count": 263,
     "metadata": {},
     "output_type": "execute_result"
    }
   ],
   "source": [
    "# testing acc.of lasso\n",
    "metrics.r2_score(y_test,y_test_pred1)"
   ]
  },
  {
   "cell_type": "code",
   "execution_count": null,
   "id": "f4686f2e",
   "metadata": {},
   "outputs": [],
   "source": []
  }
 ],
 "metadata": {
  "kernelspec": {
   "display_name": "Python 3 (ipykernel)",
   "language": "python",
   "name": "python3"
  },
  "language_info": {
   "codemirror_mode": {
    "name": "ipython",
    "version": 3
   },
   "file_extension": ".py",
   "mimetype": "text/x-python",
   "name": "python",
   "nbconvert_exporter": "python",
   "pygments_lexer": "ipython3",
   "version": "3.9.12"
  }
 },
 "nbformat": 4,
 "nbformat_minor": 5
}
