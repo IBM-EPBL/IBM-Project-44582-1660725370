{
 "cells": [
  {
   "cell_type": "markdown",
   "id": "e6bb0ddb",
   "metadata": {},
   "source": [
    "# Loading the dataset"
   ]
  },
  {
   "cell_type": "code",
   "execution_count": 1,
   "id": "2cef9331",
   "metadata": {},
   "outputs": [],
   "source": [
    "import pandas as pd"
   ]
  },
  {
   "cell_type": "code",
   "execution_count": 2,
   "id": "7fd877df",
   "metadata": {},
   "outputs": [],
   "source": [
    "df = pd.read_csv(\"Mall_customers.csv\")"
   ]
  },
  {
   "cell_type": "code",
   "execution_count": 3,
   "id": "25d79901",
   "metadata": {},
   "outputs": [
    {
     "data": {
      "text/html": [
       "<div>\n",
       "<style scoped>\n",
       "    .dataframe tbody tr th:only-of-type {\n",
       "        vertical-align: middle;\n",
       "    }\n",
       "\n",
       "    .dataframe tbody tr th {\n",
       "        vertical-align: top;\n",
       "    }\n",
       "\n",
       "    .dataframe thead th {\n",
       "        text-align: right;\n",
       "    }\n",
       "</style>\n",
       "<table border=\"1\" class=\"dataframe\">\n",
       "  <thead>\n",
       "    <tr style=\"text-align: right;\">\n",
       "      <th></th>\n",
       "      <th>CustomerID</th>\n",
       "      <th>Gender</th>\n",
       "      <th>Age</th>\n",
       "      <th>Annual Income (k$)</th>\n",
       "      <th>Spending Score (1-100)</th>\n",
       "    </tr>\n",
       "  </thead>\n",
       "  <tbody>\n",
       "    <tr>\n",
       "      <th>0</th>\n",
       "      <td>1</td>\n",
       "      <td>Male</td>\n",
       "      <td>19</td>\n",
       "      <td>15</td>\n",
       "      <td>39</td>\n",
       "    </tr>\n",
       "    <tr>\n",
       "      <th>1</th>\n",
       "      <td>2</td>\n",
       "      <td>Male</td>\n",
       "      <td>21</td>\n",
       "      <td>15</td>\n",
       "      <td>81</td>\n",
       "    </tr>\n",
       "    <tr>\n",
       "      <th>2</th>\n",
       "      <td>3</td>\n",
       "      <td>Female</td>\n",
       "      <td>20</td>\n",
       "      <td>16</td>\n",
       "      <td>6</td>\n",
       "    </tr>\n",
       "    <tr>\n",
       "      <th>3</th>\n",
       "      <td>4</td>\n",
       "      <td>Female</td>\n",
       "      <td>23</td>\n",
       "      <td>16</td>\n",
       "      <td>77</td>\n",
       "    </tr>\n",
       "    <tr>\n",
       "      <th>4</th>\n",
       "      <td>5</td>\n",
       "      <td>Female</td>\n",
       "      <td>31</td>\n",
       "      <td>17</td>\n",
       "      <td>40</td>\n",
       "    </tr>\n",
       "    <tr>\n",
       "      <th>...</th>\n",
       "      <td>...</td>\n",
       "      <td>...</td>\n",
       "      <td>...</td>\n",
       "      <td>...</td>\n",
       "      <td>...</td>\n",
       "    </tr>\n",
       "    <tr>\n",
       "      <th>195</th>\n",
       "      <td>196</td>\n",
       "      <td>Female</td>\n",
       "      <td>35</td>\n",
       "      <td>120</td>\n",
       "      <td>79</td>\n",
       "    </tr>\n",
       "    <tr>\n",
       "      <th>196</th>\n",
       "      <td>197</td>\n",
       "      <td>Female</td>\n",
       "      <td>45</td>\n",
       "      <td>126</td>\n",
       "      <td>28</td>\n",
       "    </tr>\n",
       "    <tr>\n",
       "      <th>197</th>\n",
       "      <td>198</td>\n",
       "      <td>Male</td>\n",
       "      <td>32</td>\n",
       "      <td>126</td>\n",
       "      <td>74</td>\n",
       "    </tr>\n",
       "    <tr>\n",
       "      <th>198</th>\n",
       "      <td>199</td>\n",
       "      <td>Male</td>\n",
       "      <td>32</td>\n",
       "      <td>137</td>\n",
       "      <td>18</td>\n",
       "    </tr>\n",
       "    <tr>\n",
       "      <th>199</th>\n",
       "      <td>200</td>\n",
       "      <td>Male</td>\n",
       "      <td>30</td>\n",
       "      <td>137</td>\n",
       "      <td>83</td>\n",
       "    </tr>\n",
       "  </tbody>\n",
       "</table>\n",
       "<p>200 rows × 5 columns</p>\n",
       "</div>"
      ],
      "text/plain": [
       "     CustomerID  Gender  Age  Annual Income (k$)  Spending Score (1-100)\n",
       "0             1    Male   19                  15                      39\n",
       "1             2    Male   21                  15                      81\n",
       "2             3  Female   20                  16                       6\n",
       "3             4  Female   23                  16                      77\n",
       "4             5  Female   31                  17                      40\n",
       "..          ...     ...  ...                 ...                     ...\n",
       "195         196  Female   35                 120                      79\n",
       "196         197  Female   45                 126                      28\n",
       "197         198    Male   32                 126                      74\n",
       "198         199    Male   32                 137                      18\n",
       "199         200    Male   30                 137                      83\n",
       "\n",
       "[200 rows x 5 columns]"
      ]
     },
     "execution_count": 3,
     "metadata": {},
     "output_type": "execute_result"
    }
   ],
   "source": [
    "df"
   ]
  },
  {
   "cell_type": "markdown",
   "id": "aa914cb2",
   "metadata": {},
   "source": [
    "# Visualizations"
   ]
  },
  {
   "cell_type": "markdown",
   "id": "30da493f",
   "metadata": {},
   "source": [
    "# Univariate Analysis"
   ]
  },
  {
   "cell_type": "code",
   "execution_count": 4,
   "id": "2ef8ddd5",
   "metadata": {},
   "outputs": [],
   "source": [
    "import matplotlib.pyplot as plt\n",
    "from matplotlib import rcParams"
   ]
  },
  {
   "cell_type": "code",
   "execution_count": 5,
   "id": "3f68089d",
   "metadata": {},
   "outputs": [],
   "source": [
    "import seaborn as sns"
   ]
  },
  {
   "cell_type": "markdown",
   "id": "055a43a4",
   "metadata": {},
   "source": [
    "# Line Plot"
   ]
  },
  {
   "cell_type": "code",
   "execution_count": 6,
   "id": "08f5e1c6",
   "metadata": {},
   "outputs": [],
   "source": [
    "df1=df.head(100)"
   ]
  },
  {
   "cell_type": "code",
   "execution_count": 7,
   "id": "83c911c7",
   "metadata": {},
   "outputs": [
    {
     "data": {
      "text/html": [
       "<div>\n",
       "<style scoped>\n",
       "    .dataframe tbody tr th:only-of-type {\n",
       "        vertical-align: middle;\n",
       "    }\n",
       "\n",
       "    .dataframe tbody tr th {\n",
       "        vertical-align: top;\n",
       "    }\n",
       "\n",
       "    .dataframe thead th {\n",
       "        text-align: right;\n",
       "    }\n",
       "</style>\n",
       "<table border=\"1\" class=\"dataframe\">\n",
       "  <thead>\n",
       "    <tr style=\"text-align: right;\">\n",
       "      <th></th>\n",
       "      <th>CustomerID</th>\n",
       "      <th>Gender</th>\n",
       "      <th>Age</th>\n",
       "      <th>Annual Income (k$)</th>\n",
       "      <th>Spending Score (1-100)</th>\n",
       "    </tr>\n",
       "  </thead>\n",
       "  <tbody>\n",
       "    <tr>\n",
       "      <th>0</th>\n",
       "      <td>1</td>\n",
       "      <td>Male</td>\n",
       "      <td>19</td>\n",
       "      <td>15</td>\n",
       "      <td>39</td>\n",
       "    </tr>\n",
       "    <tr>\n",
       "      <th>1</th>\n",
       "      <td>2</td>\n",
       "      <td>Male</td>\n",
       "      <td>21</td>\n",
       "      <td>15</td>\n",
       "      <td>81</td>\n",
       "    </tr>\n",
       "    <tr>\n",
       "      <th>2</th>\n",
       "      <td>3</td>\n",
       "      <td>Female</td>\n",
       "      <td>20</td>\n",
       "      <td>16</td>\n",
       "      <td>6</td>\n",
       "    </tr>\n",
       "    <tr>\n",
       "      <th>3</th>\n",
       "      <td>4</td>\n",
       "      <td>Female</td>\n",
       "      <td>23</td>\n",
       "      <td>16</td>\n",
       "      <td>77</td>\n",
       "    </tr>\n",
       "    <tr>\n",
       "      <th>4</th>\n",
       "      <td>5</td>\n",
       "      <td>Female</td>\n",
       "      <td>31</td>\n",
       "      <td>17</td>\n",
       "      <td>40</td>\n",
       "    </tr>\n",
       "    <tr>\n",
       "      <th>...</th>\n",
       "      <td>...</td>\n",
       "      <td>...</td>\n",
       "      <td>...</td>\n",
       "      <td>...</td>\n",
       "      <td>...</td>\n",
       "    </tr>\n",
       "    <tr>\n",
       "      <th>95</th>\n",
       "      <td>96</td>\n",
       "      <td>Male</td>\n",
       "      <td>24</td>\n",
       "      <td>60</td>\n",
       "      <td>52</td>\n",
       "    </tr>\n",
       "    <tr>\n",
       "      <th>96</th>\n",
       "      <td>97</td>\n",
       "      <td>Female</td>\n",
       "      <td>47</td>\n",
       "      <td>60</td>\n",
       "      <td>47</td>\n",
       "    </tr>\n",
       "    <tr>\n",
       "      <th>97</th>\n",
       "      <td>98</td>\n",
       "      <td>Female</td>\n",
       "      <td>27</td>\n",
       "      <td>60</td>\n",
       "      <td>50</td>\n",
       "    </tr>\n",
       "    <tr>\n",
       "      <th>98</th>\n",
       "      <td>99</td>\n",
       "      <td>Male</td>\n",
       "      <td>48</td>\n",
       "      <td>61</td>\n",
       "      <td>42</td>\n",
       "    </tr>\n",
       "    <tr>\n",
       "      <th>99</th>\n",
       "      <td>100</td>\n",
       "      <td>Male</td>\n",
       "      <td>20</td>\n",
       "      <td>61</td>\n",
       "      <td>49</td>\n",
       "    </tr>\n",
       "  </tbody>\n",
       "</table>\n",
       "<p>100 rows × 5 columns</p>\n",
       "</div>"
      ],
      "text/plain": [
       "    CustomerID  Gender  Age  Annual Income (k$)  Spending Score (1-100)\n",
       "0            1    Male   19                  15                      39\n",
       "1            2    Male   21                  15                      81\n",
       "2            3  Female   20                  16                       6\n",
       "3            4  Female   23                  16                      77\n",
       "4            5  Female   31                  17                      40\n",
       "..         ...     ...  ...                 ...                     ...\n",
       "95          96    Male   24                  60                      52\n",
       "96          97  Female   47                  60                      47\n",
       "97          98  Female   27                  60                      50\n",
       "98          99    Male   48                  61                      42\n",
       "99         100    Male   20                  61                      49\n",
       "\n",
       "[100 rows x 5 columns]"
      ]
     },
     "execution_count": 7,
     "metadata": {},
     "output_type": "execute_result"
    }
   ],
   "source": [
    "df1"
   ]
  },
  {
   "cell_type": "code",
   "execution_count": 8,
   "id": "021a099c",
   "metadata": {},
   "outputs": [
    {
     "data": {
      "text/plain": [
       "<AxesSubplot:>"
      ]
     },
     "execution_count": 8,
     "metadata": {},
     "output_type": "execute_result"
    },
    {
     "data": {
      "image/png": "[encoded data removed]",
      "text/plain": [
       "<Figure size 432x288 with 1 Axes>"
      ]
     },
     "metadata": {
      "needs_background": "light"
     },
     "output_type": "display_data"
    }
   ],
   "source": [
    "df1.Age.plot()"
   ]
  },
  {
   "cell_type": "markdown",
   "id": "e3a4a42c",
   "metadata": {},
   "source": [
    "# Dist Plot"
   ]
  },
  {
   "cell_type": "code",
   "execution_count": 9,
   "id": "b18d25b7",
   "metadata": {},
   "outputs": [
    {
     "name": "stderr",
     "output_type": "stream",
     "text": [
      "C:\\Users\\zagir\\anaconda3\\lib\\site-packages\\seaborn\\distributions.py:2619: FutureWarning: `distplot` is a deprecated function and will be removed in a future version. Please adapt your code to use either `displot` (a figure-level function with similar flexibility) or `histplot` (an axes-level function for histograms).\n",
      "  warnings.warn(msg, FutureWarning)\n"
     ]
    },
    {
     "data": {
      "text/plain": [
       "<AxesSubplot:xlabel='Age', ylabel='Density'>"
      ]
     },
     "execution_count": 9,
     "metadata": {},
     "output_type": "execute_result"
    },
    {
     "data": {
      "image/png": "[encoded data removed]",
      "text/plain": [
       "<Figure size 432x288 with 1 Axes>"
      ]
     },
     "metadata": {
      "needs_background": "light"
     },
     "output_type": "display_data"
    }
   ],
   "source": [
    "sns.distplot(df.Age)"
   ]
  },
  {
   "cell_type": "markdown",
   "id": "e28ec98f",
   "metadata": {},
   "source": [
    "# Pie Chart"
   ]
  },
  {
   "cell_type": "code",
   "execution_count": 10,
   "id": "cd355ebe",
   "metadata": {},
   "outputs": [
    {
     "data": {
      "image/png": "[encoded data removed]",
      "text/plain": [
       "<Figure size 432x288 with 1 Axes>"
      ]
     },
     "metadata": {},
     "output_type": "display_data"
    }
   ],
   "source": [
    "plt.pie(df1.Gender.value_counts(),[0.1,0,],colors=['green','red'],labels=['M','F'],autopct=\"%1.1f%%\")\n",
    "plt.title('Gender')\n",
    "plt.show()"
   ]
  },
  {
   "cell_type": "markdown",
   "id": "9448fd66",
   "metadata": {},
   "source": [
    "# Histogram"
   ]
  },
  {
   "cell_type": "code",
   "execution_count": 11,
   "id": "088f8a55",
   "metadata": {},
   "outputs": [
    {
     "data": {
      "text/plain": [
       "(array([21.,  9., 12., 10.,  5., 15.,  9.,  5.,  5.,  9.]),\n",
       " array([18. , 23.2, 28.4, 33.6, 38.8, 44. , 49.2, 54.4, 59.6, 64.8, 70. ]),\n",
       " <BarContainer object of 10 artists>)"
      ]
     },
     "execution_count": 11,
     "metadata": {},
     "output_type": "execute_result"
    },
    {
     "data": {
      "image/png": "[encoded data removed]",
      "text/plain": [
       "<Figure size 432x288 with 1 Axes>"
      ]
     },
     "metadata": {
      "needs_background": "light"
     },
     "output_type": "display_data"
    }
   ],
   "source": [
    "plt.hist(df1.Age)"
   ]
  },
  {
   "cell_type": "markdown",
   "id": "f1566f81",
   "metadata": {},
   "source": [
    "# Bivariate Analysis"
   ]
  },
  {
   "cell_type": "markdown",
   "id": "1b8aa7aa",
   "metadata": {},
   "source": [
    "# Bar Graph"
   ]
  },
  {
   "cell_type": "code",
   "execution_count": 12,
   "id": "ccb49588",
   "metadata": {},
   "outputs": [
    {
     "name": "stderr",
     "output_type": "stream",
     "text": [
      "C:\\Users\\zagir\\anaconda3\\lib\\site-packages\\seaborn\\_decorators.py:36: FutureWarning: Pass the following variables as keyword args: x, y. From version 0.12, the only valid positional argument will be `data`, and passing other arguments without an explicit keyword will result in an error or misinterpretation.\n",
      "  warnings.warn(\n"
     ]
    },
    {
     "data": {
      "text/plain": [
       "<AxesSubplot:xlabel='Age', ylabel='Annual Income (k$)'>"
      ]
     },
     "execution_count": 12,
     "metadata": {},
     "output_type": "execute_result"
    },
    {
     "data": {
      "image/png": "[encoded data removed]",
      "text/plain": [
       "<Figure size 864x576 with 1 Axes>"
      ]
     },
     "metadata": {
      "needs_background": "light"
     },
     "output_type": "display_data"
    }
   ],
   "source": [
    "plt.figure(figsize=(12,8))\n",
    "sns.barplot(df1.Age,df1.iloc[:,3])"
   ]
  },
  {
   "cell_type": "markdown",
   "id": "3982c7c6",
   "metadata": {},
   "source": [
    "# Scatter Plot"
   ]
  },
  {
   "cell_type": "code",
   "execution_count": 13,
   "id": "c4309239",
   "metadata": {},
   "outputs": [
    {
     "name": "stderr",
     "output_type": "stream",
     "text": [
      "C:\\Users\\zagir\\anaconda3\\lib\\site-packages\\seaborn\\_decorators.py:36: FutureWarning: Pass the following variables as keyword args: x, y. From version 0.12, the only valid positional argument will be `data`, and passing other arguments without an explicit keyword will result in an error or misinterpretation.\n",
      "  warnings.warn(\n"
     ]
    },
    {
     "data": {
      "text/plain": [
       "<AxesSubplot:xlabel='Age', ylabel='Annual Income (k$)'>"
      ]
     },
     "execution_count": 13,
     "metadata": {},
     "output_type": "execute_result"
    },
    {
     "data": {
      "image/png": "[encoded data removed]",
      "text/plain": [
       "<Figure size 432x288 with 1 Axes>"
      ]
     },
     "metadata": {
      "needs_background": "light"
     },
     "output_type": "display_data"
    }
   ],
   "source": [
    "sns.scatterplot(df1.Age,df1.iloc[:,3])"
   ]
  },
  {
   "cell_type": "markdown",
   "id": "3d76900b",
   "metadata": {},
   "source": [
    "# Box Plot"
   ]
  },
  {
   "cell_type": "code",
   "execution_count": 14,
   "id": "39eca092",
   "metadata": {},
   "outputs": [
    {
     "name": "stderr",
     "output_type": "stream",
     "text": [
      "C:\\Users\\zagir\\anaconda3\\lib\\site-packages\\seaborn\\_decorators.py:36: FutureWarning: Pass the following variables as keyword args: x, y. From version 0.12, the only valid positional argument will be `data`, and passing other arguments without an explicit keyword will result in an error or misinterpretation.\n",
      "  warnings.warn(\n"
     ]
    },
    {
     "data": {
      "text/plain": [
       "<AxesSubplot:xlabel='Age', ylabel='Annual Income (k$)'>"
      ]
     },
     "execution_count": 14,
     "metadata": {},
     "output_type": "execute_result"
    },
    {
     "data": {
      "image/png": "[encoded data removed]",
      "text/plain": [
       "<Figure size 864x576 with 1 Axes>"
      ]
     },
     "metadata": {
      "needs_background": "light"
     },
     "output_type": "display_data"
    }
   ],
   "source": [
    "plt.figure(figsize=(12,8))\n",
    "sns.boxplot(df1.Age,df1.iloc[:,3])"
   ]
  },
  {
   "cell_type": "markdown",
   "id": "929c14f6",
   "metadata": {},
   "source": [
    "# Multivariate Analysis"
   ]
  },
  {
   "cell_type": "markdown",
   "id": "4e3698d1",
   "metadata": {},
   "source": [
    "# Pair Plot"
   ]
  },
  {
   "cell_type": "code",
   "execution_count": 15,
   "id": "595e8241",
   "metadata": {},
   "outputs": [],
   "source": [
    "df2=df.head(15)"
   ]
  },
  {
   "cell_type": "code",
   "execution_count": 16,
   "id": "7fb0e144",
   "metadata": {},
   "outputs": [
    {
     "data": {
      "text/plain": [
       "<seaborn.axisgrid.PairGrid at 0x1c4d4aff0d0>"
      ]
     },
     "execution_count": 16,
     "metadata": {},
     "output_type": "execute_result"
    },
    {
     "data": {
      "image/png": "[encoded data removed]",
      "text/plain": [
       "<Figure size 720x720 with 20 Axes>"
      ]
     },
     "metadata": {
      "needs_background": "light"
     },
     "output_type": "display_data"
    }
   ],
   "source": [
    "sns.pairplot(df2)"
   ]
  },
  {
   "cell_type": "markdown",
   "id": "ef84d709",
   "metadata": {},
   "source": [
    "# Descriptive Statistics"
   ]
  },
  {
   "cell_type": "code",
   "execution_count": 17,
   "id": "52e7aa50",
   "metadata": {},
   "outputs": [],
   "source": [
    "import numpy as np"
   ]
  },
  {
   "cell_type": "code",
   "execution_count": 18,
   "id": "25e34605",
   "metadata": {},
   "outputs": [
    {
     "data": {
      "text/html": [
       "<div>\n",
       "<style scoped>\n",
       "    .dataframe tbody tr th:only-of-type {\n",
       "        vertical-align: middle;\n",
       "    }\n",
       "\n",
       "    .dataframe tbody tr th {\n",
       "        vertical-align: top;\n",
       "    }\n",
       "\n",
       "    .dataframe thead th {\n",
       "        text-align: right;\n",
       "    }\n",
       "</style>\n",
       "<table border=\"1\" class=\"dataframe\">\n",
       "  <thead>\n",
       "    <tr style=\"text-align: right;\">\n",
       "      <th></th>\n",
       "      <th>CustomerID</th>\n",
       "      <th>Gender</th>\n",
       "      <th>Age</th>\n",
       "      <th>Annual Income (k$)</th>\n",
       "      <th>Spending Score (1-100)</th>\n",
       "    </tr>\n",
       "  </thead>\n",
       "  <tbody>\n",
       "    <tr>\n",
       "      <th>0</th>\n",
       "      <td>1</td>\n",
       "      <td>Male</td>\n",
       "      <td>19</td>\n",
       "      <td>15</td>\n",
       "      <td>39</td>\n",
       "    </tr>\n",
       "    <tr>\n",
       "      <th>1</th>\n",
       "      <td>2</td>\n",
       "      <td>Male</td>\n",
       "      <td>21</td>\n",
       "      <td>15</td>\n",
       "      <td>81</td>\n",
       "    </tr>\n",
       "    <tr>\n",
       "      <th>2</th>\n",
       "      <td>3</td>\n",
       "      <td>Female</td>\n",
       "      <td>20</td>\n",
       "      <td>16</td>\n",
       "      <td>6</td>\n",
       "    </tr>\n",
       "    <tr>\n",
       "      <th>3</th>\n",
       "      <td>4</td>\n",
       "      <td>Female</td>\n",
       "      <td>23</td>\n",
       "      <td>16</td>\n",
       "      <td>77</td>\n",
       "    </tr>\n",
       "    <tr>\n",
       "      <th>4</th>\n",
       "      <td>5</td>\n",
       "      <td>Female</td>\n",
       "      <td>31</td>\n",
       "      <td>17</td>\n",
       "      <td>40</td>\n",
       "    </tr>\n",
       "  </tbody>\n",
       "</table>\n",
       "</div>"
      ],
      "text/plain": [
       "   CustomerID  Gender  Age  Annual Income (k$)  Spending Score (1-100)\n",
       "0           1    Male   19                  15                      39\n",
       "1           2    Male   21                  15                      81\n",
       "2           3  Female   20                  16                       6\n",
       "3           4  Female   23                  16                      77\n",
       "4           5  Female   31                  17                      40"
      ]
     },
     "execution_count": 18,
     "metadata": {},
     "output_type": "execute_result"
    }
   ],
   "source": [
    "df.head()"
   ]
  },
  {
   "cell_type": "code",
   "execution_count": 19,
   "id": "0f8a708c",
   "metadata": {},
   "outputs": [
    {
     "data": {
      "text/plain": [
       "(200, 5)"
      ]
     },
     "execution_count": 19,
     "metadata": {},
     "output_type": "execute_result"
    }
   ],
   "source": [
    "df.shape"
   ]
  },
  {
   "cell_type": "code",
   "execution_count": 20,
   "id": "7c6953ea",
   "metadata": {},
   "outputs": [
    {
     "name": "stdout",
     "output_type": "stream",
     "text": [
      "<class 'pandas.core.frame.DataFrame'>\n",
      "RangeIndex: 200 entries, 0 to 199\n",
      "Data columns (total 5 columns):\n",
      " #   Column                  Non-Null Count  Dtype \n",
      "---  ------                  --------------  ----- \n",
      " 0   CustomerID              200 non-null    int64 \n",
      " 1   Gender                  200 non-null    object\n",
      " 2   Age                     200 non-null    int64 \n",
      " 3   Annual Income (k$)      200 non-null    int64 \n",
      " 4   Spending Score (1-100)  200 non-null    int64 \n",
      "dtypes: int64(4), object(1)\n",
      "memory usage: 7.9+ KB\n"
     ]
    }
   ],
   "source": [
    "df.info()"
   ]
  },
  {
   "cell_type": "code",
   "execution_count": 21,
   "id": "84b25e12",
   "metadata": {},
   "outputs": [
    {
     "data": {
      "text/plain": [
       "CustomerID                False\n",
       "Gender                    False\n",
       "Age                       False\n",
       "Annual Income (k$)        False\n",
       "Spending Score (1-100)    False\n",
       "dtype: bool"
      ]
     },
     "execution_count": 21,
     "metadata": {},
     "output_type": "execute_result"
    }
   ],
   "source": [
    "df.isnull().any()"
   ]
  },
  {
   "cell_type": "code",
   "execution_count": 22,
   "id": "7decdb04",
   "metadata": {},
   "outputs": [
    {
     "data": {
      "text/plain": [
       "32    11\n",
       "35     9\n",
       "19     8\n",
       "31     8\n",
       "30     7\n",
       "49     7\n",
       "40     6\n",
       "38     6\n",
       "47     6\n",
       "27     6\n",
       "36     6\n",
       "23     6\n",
       "34     5\n",
       "20     5\n",
       "29     5\n",
       "50     5\n",
       "48     5\n",
       "21     5\n",
       "24     4\n",
       "18     4\n",
       "28     4\n",
       "67     4\n",
       "59     4\n",
       "54     4\n",
       "43     3\n",
       "60     3\n",
       "45     3\n",
       "39     3\n",
       "33     3\n",
       "37     3\n",
       "22     3\n",
       "25     3\n",
       "46     3\n",
       "68     3\n",
       "52     2\n",
       "44     2\n",
       "66     2\n",
       "57     2\n",
       "26     2\n",
       "53     2\n",
       "42     2\n",
       "63     2\n",
       "70     2\n",
       "51     2\n",
       "58     2\n",
       "65     2\n",
       "41     2\n",
       "55     1\n",
       "69     1\n",
       "64     1\n",
       "56     1\n",
       "Name: Age, dtype: int64"
      ]
     },
     "execution_count": 22,
     "metadata": {},
     "output_type": "execute_result"
    }
   ],
   "source": [
    "df.Age.value_counts()"
   ]
  },
  {
   "cell_type": "code",
   "execution_count": 23,
   "id": "f951a0ef",
   "metadata": {},
   "outputs": [
    {
     "data": {
      "text/html": [
       "<div>\n",
       "<style scoped>\n",
       "    .dataframe tbody tr th:only-of-type {\n",
       "        vertical-align: middle;\n",
       "    }\n",
       "\n",
       "    .dataframe tbody tr th {\n",
       "        vertical-align: top;\n",
       "    }\n",
       "\n",
       "    .dataframe thead th {\n",
       "        text-align: right;\n",
       "    }\n",
       "</style>\n",
       "<table border=\"1\" class=\"dataframe\">\n",
       "  <thead>\n",
       "    <tr style=\"text-align: right;\">\n",
       "      <th></th>\n",
       "      <th>CustomerID</th>\n",
       "      <th>Age</th>\n",
       "      <th>Annual Income (k$)</th>\n",
       "      <th>Spending Score (1-100)</th>\n",
       "    </tr>\n",
       "  </thead>\n",
       "  <tbody>\n",
       "    <tr>\n",
       "      <th>count</th>\n",
       "      <td>200.000000</td>\n",
       "      <td>200.000000</td>\n",
       "      <td>200.000000</td>\n",
       "      <td>200.000000</td>\n",
       "    </tr>\n",
       "    <tr>\n",
       "      <th>mean</th>\n",
       "      <td>100.500000</td>\n",
       "      <td>38.850000</td>\n",
       "      <td>60.560000</td>\n",
       "      <td>50.200000</td>\n",
       "    </tr>\n",
       "    <tr>\n",
       "      <th>std</th>\n",
       "      <td>57.879185</td>\n",
       "      <td>13.969007</td>\n",
       "      <td>26.264721</td>\n",
       "      <td>25.823522</td>\n",
       "    </tr>\n",
       "    <tr>\n",
       "      <th>min</th>\n",
       "      <td>1.000000</td>\n",
       "      <td>18.000000</td>\n",
       "      <td>15.000000</td>\n",
       "      <td>1.000000</td>\n",
       "    </tr>\n",
       "    <tr>\n",
       "      <th>25%</th>\n",
       "      <td>50.750000</td>\n",
       "      <td>28.750000</td>\n",
       "      <td>41.500000</td>\n",
       "      <td>34.750000</td>\n",
       "    </tr>\n",
       "    <tr>\n",
       "      <th>50%</th>\n",
       "      <td>100.500000</td>\n",
       "      <td>36.000000</td>\n",
       "      <td>61.500000</td>\n",
       "      <td>50.000000</td>\n",
       "    </tr>\n",
       "    <tr>\n",
       "      <th>75%</th>\n",
       "      <td>150.250000</td>\n",
       "      <td>49.000000</td>\n",
       "      <td>78.000000</td>\n",
       "      <td>73.000000</td>\n",
       "    </tr>\n",
       "    <tr>\n",
       "      <th>max</th>\n",
       "      <td>200.000000</td>\n",
       "      <td>70.000000</td>\n",
       "      <td>137.000000</td>\n",
       "      <td>99.000000</td>\n",
       "    </tr>\n",
       "  </tbody>\n",
       "</table>\n",
       "</div>"
      ],
      "text/plain": [
       "       CustomerID         Age  Annual Income (k$)  Spending Score (1-100)\n",
       "count  200.000000  200.000000          200.000000              200.000000\n",
       "mean   100.500000   38.850000           60.560000               50.200000\n",
       "std     57.879185   13.969007           26.264721               25.823522\n",
       "min      1.000000   18.000000           15.000000                1.000000\n",
       "25%     50.750000   28.750000           41.500000               34.750000\n",
       "50%    100.500000   36.000000           61.500000               50.000000\n",
       "75%    150.250000   49.000000           78.000000               73.000000\n",
       "max    200.000000   70.000000          137.000000               99.000000"
      ]
     },
     "execution_count": 23,
     "metadata": {},
     "output_type": "execute_result"
    }
   ],
   "source": [
    "df.describe()"
   ]
  },
  {
   "cell_type": "markdown",
   "id": "36b188a8",
   "metadata": {},
   "source": [
    "# Handling missing values"
   ]
  },
  {
   "cell_type": "code",
   "execution_count": 24,
   "id": "96df06b4",
   "metadata": {},
   "outputs": [],
   "source": [
    "# for numerical column use mean or median for null value replacement\n",
    "# for categorical columns use mode for null value replacement"
   ]
  },
  {
   "cell_type": "code",
   "execution_count": 25,
   "id": "2819c1dc",
   "metadata": {},
   "outputs": [],
   "source": [
    "# incase the one of the column contains null values then you can go for this code for the replacement of the null value\n",
    "\n",
    "# df['Age'].fillna(df['Age'].median(),inplace=True)\n",
    "        \n",
    "# df['Age'].fillna(df['Age'].mean(),inplace=True)"
   ]
  },
  {
   "cell_type": "markdown",
   "id": "733dbb4d",
   "metadata": {},
   "source": [
    "# Finding and replacing the outliers"
   ]
  },
  {
   "cell_type": "markdown",
   "id": "02256469",
   "metadata": {},
   "source": [
    "# Outlier Detection"
   ]
  },
  {
   "cell_type": "code",
   "execution_count": 26,
   "id": "b649c310",
   "metadata": {},
   "outputs": [
    {
     "name": "stderr",
     "output_type": "stream",
     "text": [
      "C:\\Users\\zagir\\anaconda3\\lib\\site-packages\\seaborn\\_decorators.py:36: FutureWarning: Pass the following variable as a keyword arg: x. From version 0.12, the only valid positional argument will be `data`, and passing other arguments without an explicit keyword will result in an error or misinterpretation.\n",
      "  warnings.warn(\n"
     ]
    },
    {
     "data": {
      "text/plain": [
       "<AxesSubplot:xlabel='Age'>"
      ]
     },
     "execution_count": 26,
     "metadata": {},
     "output_type": "execute_result"
    },
    {
     "data": {
      "image/png": "[encoded data removed]",
      "text/plain": [
       "<Figure size 432x288 with 1 Axes>"
      ]
     },
     "metadata": {
      "needs_background": "light"
     },
     "output_type": "display_data"
    }
   ],
   "source": [
    "sns.boxplot(df.Age)"
   ]
  },
  {
   "cell_type": "markdown",
   "id": "ed8870d1",
   "metadata": {},
   "source": [
    "# Outlier removal-IQR Method"
   ]
  },
  {
   "cell_type": "code",
   "execution_count": 27,
   "id": "1d8889cb",
   "metadata": {},
   "outputs": [],
   "source": [
    "Q1 = df.Age.quantile(0.25)\n",
    "Q3 = df.Age.quantile(0.75)"
   ]
  },
  {
   "cell_type": "code",
   "execution_count": 28,
   "id": "b5e4d0c4",
   "metadata": {},
   "outputs": [],
   "source": [
    "IQR = Q3-Q1"
   ]
  },
  {
   "cell_type": "code",
   "execution_count": 29,
   "id": "0de080bf",
   "metadata": {},
   "outputs": [],
   "source": [
    "upper_limit = Q3 + 1.5*IQR\n",
    "lower_limit = Q3 - 1.5*IQR"
   ]
  },
  {
   "cell_type": "code",
   "execution_count": 30,
   "id": "7e5da6d2",
   "metadata": {},
   "outputs": [
    {
     "data": {
      "text/plain": [
       "79.375"
      ]
     },
     "execution_count": 30,
     "metadata": {},
     "output_type": "execute_result"
    }
   ],
   "source": [
    "upper_limit"
   ]
  },
  {
   "cell_type": "code",
   "execution_count": 31,
   "id": "e73b748f",
   "metadata": {},
   "outputs": [
    {
     "data": {
      "text/plain": [
       "18.625"
      ]
     },
     "execution_count": 31,
     "metadata": {},
     "output_type": "execute_result"
    }
   ],
   "source": [
    "lower_limit"
   ]
  },
  {
   "cell_type": "code",
   "execution_count": 32,
   "id": "efa53cf4",
   "metadata": {},
   "outputs": [],
   "source": [
    "df = df[df.Age<upper_limit]"
   ]
  },
  {
   "cell_type": "code",
   "execution_count": 33,
   "id": "4d76117e",
   "metadata": {},
   "outputs": [
    {
     "name": "stderr",
     "output_type": "stream",
     "text": [
      "C:\\Users\\zagir\\anaconda3\\lib\\site-packages\\seaborn\\_decorators.py:36: FutureWarning: Pass the following variable as a keyword arg: x. From version 0.12, the only valid positional argument will be `data`, and passing other arguments without an explicit keyword will result in an error or misinterpretation.\n",
      "  warnings.warn(\n"
     ]
    },
    {
     "data": {
      "text/plain": [
       "<AxesSubplot:xlabel='Age'>"
      ]
     },
     "execution_count": 33,
     "metadata": {},
     "output_type": "execute_result"
    },
    {
     "data": {
      "image/png": "[encoded data removed]",
      "text/plain": [
       "<Figure size 432x288 with 1 Axes>"
      ]
     },
     "metadata": {
      "needs_background": "light"
     },
     "output_type": "display_data"
    }
   ],
   "source": [
    "sns.boxplot(df.Age)"
   ]
  },
  {
   "cell_type": "code",
   "execution_count": 34,
   "id": "03131213",
   "metadata": {},
   "outputs": [
    {
     "data": {
      "text/plain": [
       "(200, 5)"
      ]
     },
     "execution_count": 34,
     "metadata": {},
     "output_type": "execute_result"
    }
   ],
   "source": [
    "df.shape"
   ]
  },
  {
   "cell_type": "markdown",
   "id": "bf30d4b4",
   "metadata": {},
   "source": [
    "# Replacing the outliers using median"
   ]
  },
  {
   "cell_type": "code",
   "execution_count": 35,
   "id": "30ebf567",
   "metadata": {},
   "outputs": [
    {
     "name": "stderr",
     "output_type": "stream",
     "text": [
      "C:\\Users\\zagir\\anaconda3\\lib\\site-packages\\seaborn\\_decorators.py:36: FutureWarning: Pass the following variable as a keyword arg: x. From version 0.12, the only valid positional argument will be `data`, and passing other arguments without an explicit keyword will result in an error or misinterpretation.\n",
      "  warnings.warn(\n"
     ]
    },
    {
     "data": {
      "text/plain": [
       "<AxesSubplot:xlabel='Annual Income (k$)'>"
      ]
     },
     "execution_count": 35,
     "metadata": {},
     "output_type": "execute_result"
    },
    {
     "data": {
      "image/png": "[encoded data removed]",
      "text/plain": [
       "<Figure size 432x288 with 1 Axes>"
      ]
     },
     "metadata": {
      "needs_background": "light"
     },
     "output_type": "display_data"
    }
   ],
   "source": [
    "sns.boxplot(df.iloc[:,3])"
   ]
  },
  {
   "cell_type": "code",
   "execution_count": 36,
   "id": "d4d70e73",
   "metadata": {},
   "outputs": [
    {
     "name": "stderr",
     "output_type": "stream",
     "text": [
      "C:\\Users\\zagir\\AppData\\Local\\Temp\\ipykernel_16244\\530051474.py:1: FutureWarning: Dropping of nuisance columns in DataFrame reductions (with 'numeric_only=None') is deprecated; in a future version this will raise TypeError.  Select only valid columns before calling the reduction.\n",
      "  df.median()\n"
     ]
    },
    {
     "data": {
      "text/plain": [
       "CustomerID                100.5\n",
       "Age                        36.0\n",
       "Annual Income (k$)         61.5\n",
       "Spending Score (1-100)     50.0\n",
       "dtype: float64"
      ]
     },
     "execution_count": 36,
     "metadata": {},
     "output_type": "execute_result"
    }
   ],
   "source": [
    "df.median()"
   ]
  },
  {
   "cell_type": "code",
   "execution_count": 37,
   "id": "2b9b9ec0",
   "metadata": {},
   "outputs": [],
   "source": [
    "Q1 = df.iloc[:,3].quantile(0.25)\n",
    "Q3 = df.iloc[:,3].quantile(0.75)"
   ]
  },
  {
   "cell_type": "code",
   "execution_count": 38,
   "id": "882f20da",
   "metadata": {},
   "outputs": [],
   "source": [
    "IQR = Q3-Q1"
   ]
  },
  {
   "cell_type": "code",
   "execution_count": 39,
   "id": "a028969c",
   "metadata": {},
   "outputs": [],
   "source": [
    "upper_limit = Q3 + 1.5*IQR\n",
    "lower_limit = Q1 - 1.5*IQR"
   ]
  },
  {
   "cell_type": "code",
   "execution_count": 40,
   "id": "af41ce31",
   "metadata": {},
   "outputs": [],
   "source": [
    "df.iloc[:,3] = np.where(df.iloc[:,3]>upper_limit,30,df.iloc[:,3])"
   ]
  },
  {
   "cell_type": "code",
   "execution_count": 41,
   "id": "8cecfc1d",
   "metadata": {},
   "outputs": [
    {
     "name": "stderr",
     "output_type": "stream",
     "text": [
      "C:\\Users\\zagir\\anaconda3\\lib\\site-packages\\seaborn\\_decorators.py:36: FutureWarning: Pass the following variable as a keyword arg: x. From version 0.12, the only valid positional argument will be `data`, and passing other arguments without an explicit keyword will result in an error or misinterpretation.\n",
      "  warnings.warn(\n"
     ]
    },
    {
     "data": {
      "text/plain": [
       "<AxesSubplot:xlabel='Annual Income (k$)'>"
      ]
     },
     "execution_count": 41,
     "metadata": {},
     "output_type": "execute_result"
    },
    {
     "data": {
      "image/png": "[encoded data removed]",
      "text/plain": [
       "<Figure size 432x288 with 1 Axes>"
      ]
     },
     "metadata": {
      "needs_background": "light"
     },
     "output_type": "display_data"
    }
   ],
   "source": [
    "sns.boxplot(df.iloc[:,3])"
   ]
  },
  {
   "cell_type": "code",
   "execution_count": 42,
   "id": "468f5c5d",
   "metadata": {},
   "outputs": [
    {
     "data": {
      "text/plain": [
       "(200, 5)"
      ]
     },
     "execution_count": 42,
     "metadata": {},
     "output_type": "execute_result"
    }
   ],
   "source": [
    "df.shape"
   ]
  },
  {
   "cell_type": "markdown",
   "id": "4cf71234",
   "metadata": {},
   "source": [
    "# Outlier removal - Percentile method"
   ]
  },
  {
   "cell_type": "code",
   "execution_count": 43,
   "id": "bab41818",
   "metadata": {},
   "outputs": [
    {
     "name": "stderr",
     "output_type": "stream",
     "text": [
      "C:\\Users\\zagir\\anaconda3\\lib\\site-packages\\seaborn\\_decorators.py:36: FutureWarning: Pass the following variable as a keyword arg: x. From version 0.12, the only valid positional argument will be `data`, and passing other arguments without an explicit keyword will result in an error or misinterpretation.\n",
      "  warnings.warn(\n"
     ]
    },
    {
     "data": {
      "text/plain": [
       "<AxesSubplot:xlabel='Age'>"
      ]
     },
     "execution_count": 43,
     "metadata": {},
     "output_type": "execute_result"
    },
    {
     "data": {
      "image/png": "[encoded data removed]",
      "text/plain": [
       "<Figure size 432x288 with 1 Axes>"
      ]
     },
     "metadata": {
      "needs_background": "light"
     },
     "output_type": "display_data"
    }
   ],
   "source": [
    "sns.boxplot(df.Age)"
   ]
  },
  {
   "cell_type": "code",
   "execution_count": 44,
   "id": "071e7df6",
   "metadata": {},
   "outputs": [
    {
     "data": {
      "text/plain": [
       "67.0"
      ]
     },
     "execution_count": 44,
     "metadata": {},
     "output_type": "execute_result"
    }
   ],
   "source": [
    "p99 = df.Age.quantile(0.96)\n",
    "p99"
   ]
  },
  {
   "cell_type": "code",
   "execution_count": 45,
   "id": "f9daf8a2",
   "metadata": {},
   "outputs": [],
   "source": [
    "df = df[df.Age<=p99]"
   ]
  },
  {
   "cell_type": "code",
   "execution_count": 46,
   "id": "362ac271",
   "metadata": {},
   "outputs": [
    {
     "name": "stderr",
     "output_type": "stream",
     "text": [
      "C:\\Users\\zagir\\anaconda3\\lib\\site-packages\\seaborn\\_decorators.py:36: FutureWarning: Pass the following variable as a keyword arg: x. From version 0.12, the only valid positional argument will be `data`, and passing other arguments without an explicit keyword will result in an error or misinterpretation.\n",
      "  warnings.warn(\n"
     ]
    },
    {
     "data": {
      "text/plain": [
       "<AxesSubplot:xlabel='Age'>"
      ]
     },
     "execution_count": 46,
     "metadata": {},
     "output_type": "execute_result"
    },
    {
     "data": {
      "image/png": "[encoded data removed]",
      "text/plain": [
       "<Figure size 432x288 with 1 Axes>"
      ]
     },
     "metadata": {
      "needs_background": "light"
     },
     "output_type": "display_data"
    }
   ],
   "source": [
    "sns.boxplot(df.Age)"
   ]
  },
  {
   "cell_type": "markdown",
   "id": "8e215563",
   "metadata": {},
   "source": [
    "# Check for categorical columns and perform encoding"
   ]
  },
  {
   "cell_type": "markdown",
   "id": "05c5294a",
   "metadata": {},
   "source": [
    "# Categorical Columns"
   ]
  },
  {
   "cell_type": "code",
   "execution_count": 47,
   "id": "1f673808",
   "metadata": {},
   "outputs": [
    {
     "name": "stdout",
     "output_type": "stream",
     "text": [
      "<class 'pandas.core.frame.DataFrame'>\n",
      "Int64Index: 194 entries, 0 to 199\n",
      "Data columns (total 5 columns):\n",
      " #   Column                  Non-Null Count  Dtype \n",
      "---  ------                  --------------  ----- \n",
      " 0   CustomerID              194 non-null    int64 \n",
      " 1   Gender                  194 non-null    object\n",
      " 2   Age                     194 non-null    int64 \n",
      " 3   Annual Income (k$)      194 non-null    int64 \n",
      " 4   Spending Score (1-100)  194 non-null    int64 \n",
      "dtypes: int64(4), object(1)\n",
      "memory usage: 9.1+ KB\n"
     ]
    }
   ],
   "source": [
    "df.info()"
   ]
  },
  {
   "cell_type": "markdown",
   "id": "5b1ea31a",
   "metadata": {},
   "source": [
    "# Label Encoding"
   ]
  },
  {
   "cell_type": "code",
   "execution_count": 48,
   "id": "87cee57d",
   "metadata": {},
   "outputs": [],
   "source": [
    "from sklearn.preprocessing import LabelEncoder"
   ]
  },
  {
   "cell_type": "code",
   "execution_count": 49,
   "id": "a159788e",
   "metadata": {},
   "outputs": [],
   "source": [
    "le = LabelEncoder()"
   ]
  },
  {
   "cell_type": "code",
   "execution_count": 50,
   "id": "452cce01",
   "metadata": {},
   "outputs": [],
   "source": [
    "df.Gender = le.fit_transform(df.Gender)"
   ]
  },
  {
   "cell_type": "code",
   "execution_count": 51,
   "id": "a768b34e",
   "metadata": {},
   "outputs": [
    {
     "data": {
      "text/html": [
       "<div>\n",
       "<style scoped>\n",
       "    .dataframe tbody tr th:only-of-type {\n",
       "        vertical-align: middle;\n",
       "    }\n",
       "\n",
       "    .dataframe tbody tr th {\n",
       "        vertical-align: top;\n",
       "    }\n",
       "\n",
       "    .dataframe thead th {\n",
       "        text-align: right;\n",
       "    }\n",
       "</style>\n",
       "<table border=\"1\" class=\"dataframe\">\n",
       "  <thead>\n",
       "    <tr style=\"text-align: right;\">\n",
       "      <th></th>\n",
       "      <th>CustomerID</th>\n",
       "      <th>Gender</th>\n",
       "      <th>Age</th>\n",
       "      <th>Annual Income (k$)</th>\n",
       "      <th>Spending Score (1-100)</th>\n",
       "    </tr>\n",
       "  </thead>\n",
       "  <tbody>\n",
       "    <tr>\n",
       "      <th>0</th>\n",
       "      <td>1</td>\n",
       "      <td>1</td>\n",
       "      <td>19</td>\n",
       "      <td>15</td>\n",
       "      <td>39</td>\n",
       "    </tr>\n",
       "    <tr>\n",
       "      <th>1</th>\n",
       "      <td>2</td>\n",
       "      <td>1</td>\n",
       "      <td>21</td>\n",
       "      <td>15</td>\n",
       "      <td>81</td>\n",
       "    </tr>\n",
       "    <tr>\n",
       "      <th>2</th>\n",
       "      <td>3</td>\n",
       "      <td>0</td>\n",
       "      <td>20</td>\n",
       "      <td>16</td>\n",
       "      <td>6</td>\n",
       "    </tr>\n",
       "    <tr>\n",
       "      <th>3</th>\n",
       "      <td>4</td>\n",
       "      <td>0</td>\n",
       "      <td>23</td>\n",
       "      <td>16</td>\n",
       "      <td>77</td>\n",
       "    </tr>\n",
       "    <tr>\n",
       "      <th>4</th>\n",
       "      <td>5</td>\n",
       "      <td>0</td>\n",
       "      <td>31</td>\n",
       "      <td>17</td>\n",
       "      <td>40</td>\n",
       "    </tr>\n",
       "  </tbody>\n",
       "</table>\n",
       "</div>"
      ],
      "text/plain": [
       "   CustomerID  Gender  Age  Annual Income (k$)  Spending Score (1-100)\n",
       "0           1       1   19                  15                      39\n",
       "1           2       1   21                  15                      81\n",
       "2           3       0   20                  16                       6\n",
       "3           4       0   23                  16                      77\n",
       "4           5       0   31                  17                      40"
      ]
     },
     "execution_count": 51,
     "metadata": {},
     "output_type": "execute_result"
    }
   ],
   "source": [
    "df.head()"
   ]
  },
  {
   "cell_type": "markdown",
   "id": "798c3ace",
   "metadata": {},
   "source": [
    "# One hot Encoding"
   ]
  },
  {
   "cell_type": "code",
   "execution_count": 52,
   "id": "9caa9fec",
   "metadata": {},
   "outputs": [
    {
     "data": {
      "text/html": [
       "<div>\n",
       "<style scoped>\n",
       "    .dataframe tbody tr th:only-of-type {\n",
       "        vertical-align: middle;\n",
       "    }\n",
       "\n",
       "    .dataframe tbody tr th {\n",
       "        vertical-align: top;\n",
       "    }\n",
       "\n",
       "    .dataframe thead th {\n",
       "        text-align: right;\n",
       "    }\n",
       "</style>\n",
       "<table border=\"1\" class=\"dataframe\">\n",
       "  <thead>\n",
       "    <tr style=\"text-align: right;\">\n",
       "      <th></th>\n",
       "      <th>CustomerID</th>\n",
       "      <th>Age</th>\n",
       "      <th>Annual Income (k$)</th>\n",
       "      <th>Spending Score (1-100)</th>\n",
       "      <th>Gender_0</th>\n",
       "      <th>Gender_1</th>\n",
       "    </tr>\n",
       "  </thead>\n",
       "  <tbody>\n",
       "    <tr>\n",
       "      <th>0</th>\n",
       "      <td>1</td>\n",
       "      <td>19</td>\n",
       "      <td>15</td>\n",
       "      <td>39</td>\n",
       "      <td>0</td>\n",
       "      <td>1</td>\n",
       "    </tr>\n",
       "    <tr>\n",
       "      <th>1</th>\n",
       "      <td>2</td>\n",
       "      <td>21</td>\n",
       "      <td>15</td>\n",
       "      <td>81</td>\n",
       "      <td>0</td>\n",
       "      <td>1</td>\n",
       "    </tr>\n",
       "    <tr>\n",
       "      <th>2</th>\n",
       "      <td>3</td>\n",
       "      <td>20</td>\n",
       "      <td>16</td>\n",
       "      <td>6</td>\n",
       "      <td>1</td>\n",
       "      <td>0</td>\n",
       "    </tr>\n",
       "    <tr>\n",
       "      <th>3</th>\n",
       "      <td>4</td>\n",
       "      <td>23</td>\n",
       "      <td>16</td>\n",
       "      <td>77</td>\n",
       "      <td>1</td>\n",
       "      <td>0</td>\n",
       "    </tr>\n",
       "    <tr>\n",
       "      <th>4</th>\n",
       "      <td>5</td>\n",
       "      <td>31</td>\n",
       "      <td>17</td>\n",
       "      <td>40</td>\n",
       "      <td>1</td>\n",
       "      <td>0</td>\n",
       "    </tr>\n",
       "  </tbody>\n",
       "</table>\n",
       "</div>"
      ],
      "text/plain": [
       "   CustomerID  Age  Annual Income (k$)  Spending Score (1-100)  Gender_0  \\\n",
       "0           1   19                  15                      39         0   \n",
       "1           2   21                  15                      81         0   \n",
       "2           3   20                  16                       6         1   \n",
       "3           4   23                  16                      77         1   \n",
       "4           5   31                  17                      40         1   \n",
       "\n",
       "   Gender_1  \n",
       "0         1  \n",
       "1         1  \n",
       "2         0  \n",
       "3         0  \n",
       "4         0  "
      ]
     },
     "execution_count": 52,
     "metadata": {},
     "output_type": "execute_result"
    }
   ],
   "source": [
    "df_main = pd.get_dummies(df,columns=['Gender'])\n",
    "df_main.head()"
   ]
  },
  {
   "cell_type": "code",
   "execution_count": 53,
   "id": "469f1422",
   "metadata": {},
   "outputs": [
    {
     "data": {
      "text/html": [
       "<div>\n",
       "<style scoped>\n",
       "    .dataframe tbody tr th:only-of-type {\n",
       "        vertical-align: middle;\n",
       "    }\n",
       "\n",
       "    .dataframe tbody tr th {\n",
       "        vertical-align: top;\n",
       "    }\n",
       "\n",
       "    .dataframe thead th {\n",
       "        text-align: right;\n",
       "    }\n",
       "</style>\n",
       "<table border=\"1\" class=\"dataframe\">\n",
       "  <thead>\n",
       "    <tr style=\"text-align: right;\">\n",
       "      <th></th>\n",
       "      <th>CustomerID</th>\n",
       "      <th>Age</th>\n",
       "      <th>Annual Income (k$)</th>\n",
       "      <th>Spending Score (1-100)</th>\n",
       "      <th>Gender_0</th>\n",
       "      <th>Gender_1</th>\n",
       "    </tr>\n",
       "  </thead>\n",
       "  <tbody>\n",
       "    <tr>\n",
       "      <th>count</th>\n",
       "      <td>194.000000</td>\n",
       "      <td>194.000000</td>\n",
       "      <td>194.000000</td>\n",
       "      <td>194.000000</td>\n",
       "      <td>194.000000</td>\n",
       "      <td>194.000000</td>\n",
       "    </tr>\n",
       "    <tr>\n",
       "      <th>mean</th>\n",
       "      <td>101.247423</td>\n",
       "      <td>37.922680</td>\n",
       "      <td>59.737113</td>\n",
       "      <td>50.190722</td>\n",
       "      <td>0.567010</td>\n",
       "      <td>0.432990</td>\n",
       "    </tr>\n",
       "    <tr>\n",
       "      <th>std</th>\n",
       "      <td>58.526205</td>\n",
       "      <td>13.128666</td>\n",
       "      <td>25.605779</td>\n",
       "      <td>26.206626</td>\n",
       "      <td>0.496771</td>\n",
       "      <td>0.496771</td>\n",
       "    </tr>\n",
       "    <tr>\n",
       "      <th>min</th>\n",
       "      <td>1.000000</td>\n",
       "      <td>18.000000</td>\n",
       "      <td>15.000000</td>\n",
       "      <td>1.000000</td>\n",
       "      <td>0.000000</td>\n",
       "      <td>0.000000</td>\n",
       "    </tr>\n",
       "    <tr>\n",
       "      <th>25%</th>\n",
       "      <td>49.250000</td>\n",
       "      <td>28.000000</td>\n",
       "      <td>40.000000</td>\n",
       "      <td>32.500000</td>\n",
       "      <td>0.000000</td>\n",
       "      <td>0.000000</td>\n",
       "    </tr>\n",
       "    <tr>\n",
       "      <th>50%</th>\n",
       "      <td>102.500000</td>\n",
       "      <td>35.000000</td>\n",
       "      <td>61.500000</td>\n",
       "      <td>50.000000</td>\n",
       "      <td>1.000000</td>\n",
       "      <td>0.000000</td>\n",
       "    </tr>\n",
       "    <tr>\n",
       "      <th>75%</th>\n",
       "      <td>151.750000</td>\n",
       "      <td>48.000000</td>\n",
       "      <td>78.000000</td>\n",
       "      <td>73.000000</td>\n",
       "      <td>1.000000</td>\n",
       "      <td>1.000000</td>\n",
       "    </tr>\n",
       "    <tr>\n",
       "      <th>max</th>\n",
       "      <td>200.000000</td>\n",
       "      <td>67.000000</td>\n",
       "      <td>126.000000</td>\n",
       "      <td>99.000000</td>\n",
       "      <td>1.000000</td>\n",
       "      <td>1.000000</td>\n",
       "    </tr>\n",
       "  </tbody>\n",
       "</table>\n",
       "</div>"
      ],
      "text/plain": [
       "       CustomerID         Age  Annual Income (k$)  Spending Score (1-100)  \\\n",
       "count  194.000000  194.000000          194.000000              194.000000   \n",
       "mean   101.247423   37.922680           59.737113               50.190722   \n",
       "std     58.526205   13.128666           25.605779               26.206626   \n",
       "min      1.000000   18.000000           15.000000                1.000000   \n",
       "25%     49.250000   28.000000           40.000000               32.500000   \n",
       "50%    102.500000   35.000000           61.500000               50.000000   \n",
       "75%    151.750000   48.000000           78.000000               73.000000   \n",
       "max    200.000000   67.000000          126.000000               99.000000   \n",
       "\n",
       "         Gender_0    Gender_1  \n",
       "count  194.000000  194.000000  \n",
       "mean     0.567010    0.432990  \n",
       "std      0.496771    0.496771  \n",
       "min      0.000000    0.000000  \n",
       "25%      0.000000    0.000000  \n",
       "50%      1.000000    0.000000  \n",
       "75%      1.000000    1.000000  \n",
       "max      1.000000    1.000000  "
      ]
     },
     "execution_count": 53,
     "metadata": {},
     "output_type": "execute_result"
    }
   ],
   "source": [
    "df_main.describe()"
   ]
  },
  {
   "cell_type": "code",
   "execution_count": 54,
   "id": "6b0bda1d",
   "metadata": {},
   "outputs": [
    {
     "data": {
      "text/html": [
       "<div>\n",
       "<style scoped>\n",
       "    .dataframe tbody tr th:only-of-type {\n",
       "        vertical-align: middle;\n",
       "    }\n",
       "\n",
       "    .dataframe tbody tr th {\n",
       "        vertical-align: top;\n",
       "    }\n",
       "\n",
       "    .dataframe thead th {\n",
       "        text-align: right;\n",
       "    }\n",
       "</style>\n",
       "<table border=\"1\" class=\"dataframe\">\n",
       "  <thead>\n",
       "    <tr style=\"text-align: right;\">\n",
       "      <th></th>\n",
       "      <th>CustomerID</th>\n",
       "      <th>Age</th>\n",
       "      <th>Annual Income (k$)</th>\n",
       "      <th>Spending Score (1-100)</th>\n",
       "      <th>Gender_0</th>\n",
       "      <th>Gender_1</th>\n",
       "    </tr>\n",
       "  </thead>\n",
       "  <tbody>\n",
       "    <tr>\n",
       "      <th>CustomerID</th>\n",
       "      <td>1.000000</td>\n",
       "      <td>0.001589</td>\n",
       "      <td>0.942475</td>\n",
       "      <td>0.014674</td>\n",
       "      <td>-0.065799</td>\n",
       "      <td>0.065799</td>\n",
       "    </tr>\n",
       "    <tr>\n",
       "      <th>Age</th>\n",
       "      <td>0.001589</td>\n",
       "      <td>1.000000</td>\n",
       "      <td>0.035142</td>\n",
       "      <td>-0.354819</td>\n",
       "      <td>-0.032171</td>\n",
       "      <td>0.032171</td>\n",
       "    </tr>\n",
       "    <tr>\n",
       "      <th>Annual Income (k$)</th>\n",
       "      <td>0.942475</td>\n",
       "      <td>0.035142</td>\n",
       "      <td>1.000000</td>\n",
       "      <td>0.010337</td>\n",
       "      <td>-0.017142</td>\n",
       "      <td>0.017142</td>\n",
       "    </tr>\n",
       "    <tr>\n",
       "      <th>Spending Score (1-100)</th>\n",
       "      <td>0.014674</td>\n",
       "      <td>-0.354819</td>\n",
       "      <td>0.010337</td>\n",
       "      <td>1.000000</td>\n",
       "      <td>0.058513</td>\n",
       "      <td>-0.058513</td>\n",
       "    </tr>\n",
       "    <tr>\n",
       "      <th>Gender_0</th>\n",
       "      <td>-0.065799</td>\n",
       "      <td>-0.032171</td>\n",
       "      <td>-0.017142</td>\n",
       "      <td>0.058513</td>\n",
       "      <td>1.000000</td>\n",
       "      <td>-1.000000</td>\n",
       "    </tr>\n",
       "    <tr>\n",
       "      <th>Gender_1</th>\n",
       "      <td>0.065799</td>\n",
       "      <td>0.032171</td>\n",
       "      <td>0.017142</td>\n",
       "      <td>-0.058513</td>\n",
       "      <td>-1.000000</td>\n",
       "      <td>1.000000</td>\n",
       "    </tr>\n",
       "  </tbody>\n",
       "</table>\n",
       "</div>"
      ],
      "text/plain": [
       "                        CustomerID       Age  Annual Income (k$)  \\\n",
       "CustomerID                1.000000  0.001589            0.942475   \n",
       "Age                       0.001589  1.000000            0.035142   \n",
       "Annual Income (k$)        0.942475  0.035142            1.000000   \n",
       "Spending Score (1-100)    0.014674 -0.354819            0.010337   \n",
       "Gender_0                 -0.065799 -0.032171           -0.017142   \n",
       "Gender_1                  0.065799  0.032171            0.017142   \n",
       "\n",
       "                        Spending Score (1-100)  Gender_0  Gender_1  \n",
       "CustomerID                            0.014674 -0.065799  0.065799  \n",
       "Age                                  -0.354819 -0.032171  0.032171  \n",
       "Annual Income (k$)                    0.010337 -0.017142  0.017142  \n",
       "Spending Score (1-100)                1.000000  0.058513 -0.058513  \n",
       "Gender_0                              0.058513  1.000000 -1.000000  \n",
       "Gender_1                             -0.058513 -1.000000  1.000000  "
      ]
     },
     "execution_count": 54,
     "metadata": {},
     "output_type": "execute_result"
    }
   ],
   "source": [
    "df_main.corr()"
   ]
  },
  {
   "cell_type": "code",
   "execution_count": 55,
   "id": "c2d248c2",
   "metadata": {},
   "outputs": [
    {
     "data": {
      "text/plain": [
       "<AxesSubplot:>"
      ]
     },
     "execution_count": 55,
     "metadata": {},
     "output_type": "execute_result"
    },
    {
     "data": {
      "image/png": "[encoded data removed]",
      "text/plain": [
       "<Figure size 576x576 with 2 Axes>"
      ]
     },
     "metadata": {
      "needs_background": "light"
     },
     "output_type": "display_data"
    }
   ],
   "source": [
    "plt.figure(figsize=(8,8))\n",
    "sns.heatmap(df_main.corr(),annot=True)"
   ]
  },
  {
   "cell_type": "markdown",
   "id": "656a9817",
   "metadata": {},
   "source": [
    "# Scaling the data"
   ]
  },
  {
   "cell_type": "code",
   "execution_count": 56,
   "id": "2d3acbe0",
   "metadata": {},
   "outputs": [
    {
     "data": {
      "text/plain": [
       "array([[0.        , 1.        , 0.02040816, 0.        , 0.3877551 ],\n",
       "       [0.00502513, 1.        , 0.06122449, 0.        , 0.81632653],\n",
       "       [0.01005025, 0.        , 0.04081633, 0.00900901, 0.05102041],\n",
       "       [0.01507538, 0.        , 0.10204082, 0.00900901, 0.7755102 ],\n",
       "       [0.0201005 , 0.        , 0.26530612, 0.01801802, 0.39795918]])"
      ]
     },
     "execution_count": 56,
     "metadata": {},
     "output_type": "execute_result"
    }
   ],
   "source": [
    "from sklearn.preprocessing import MinMaxScaler\n",
    "scaler = MinMaxScaler()\n",
    "data_scaled = scaler.fit_transform(df)\n",
    "data_scaled[0:5]"
   ]
  },
  {
   "cell_type": "markdown",
   "id": "ec9020d9",
   "metadata": {},
   "source": [
    "# Clustering Algorithms"
   ]
  },
  {
   "cell_type": "code",
   "execution_count": 57,
   "id": "23305147",
   "metadata": {},
   "outputs": [],
   "source": [
    "from sklearn import cluster"
   ]
  },
  {
   "cell_type": "code",
   "execution_count": 58,
   "id": "1e376781",
   "metadata": {},
   "outputs": [
    {
     "data": {
      "text/plain": [
       "array([4, 4, 2, 2, 2, 2, 5, 2, 1, 2, 1, 2, 5, 2, 1, 4, 2, 4, 1, 2, 4, 4,\n",
       "       5, 4, 5, 4, 5, 4, 5, 2, 1, 2, 1, 4, 5, 2, 5, 2, 5, 2, 5, 4, 1, 2,\n",
       "       5, 2, 5, 2, 2, 2, 5, 4, 2, 1, 5, 1, 5, 2, 1, 4, 5, 5, 1, 4, 5, 4,\n",
       "       2, 5, 5, 5, 1, 4, 5, 1, 2, 5, 1, 4, 1, 5, 2, 1, 5, 2, 2, 5, 4, 1,\n",
       "       5, 2, 4, 5, 2, 1, 4, 2, 5, 1, 4, 1, 2, 5, 1, 1, 1, 2, 0, 4, 2, 2,\n",
       "       5, 5, 5, 5, 3, 0, 6, 3, 0, 6, 7, 3, 7, 3, 7, 3, 0, 6, 7, 6, 0, 3,\n",
       "       7, 6, 0, 3, 0, 6, 7, 3, 7, 6, 0, 3, 7, 3, 0, 6, 0, 6, 7, 6, 7, 6,\n",
       "       0, 6, 7, 6, 7, 6, 7, 6, 0, 3, 7, 3, 7, 3, 0, 6, 7, 3, 7, 3, 0, 6,\n",
       "       7, 6, 0, 3, 0, 3, 0, 6, 0, 6, 7, 6, 0, 6, 0, 3, 7, 3])"
      ]
     },
     "execution_count": 58,
     "metadata": {},
     "output_type": "execute_result"
    }
   ],
   "source": [
    "from sklearn.cluster import KMeans\n",
    "km = KMeans()\n",
    "res = km.fit_predict(data_scaled)\n",
    "res"
   ]
  },
  {
   "cell_type": "code",
   "execution_count": 59,
   "id": "1ce47692",
   "metadata": {},
   "outputs": [
    {
     "data": {
      "text/html": [
       "<div>\n",
       "<style scoped>\n",
       "    .dataframe tbody tr th:only-of-type {\n",
       "        vertical-align: middle;\n",
       "    }\n",
       "\n",
       "    .dataframe tbody tr th {\n",
       "        vertical-align: top;\n",
       "    }\n",
       "\n",
       "    .dataframe thead th {\n",
       "        text-align: right;\n",
       "    }\n",
       "</style>\n",
       "<table border=\"1\" class=\"dataframe\">\n",
       "  <thead>\n",
       "    <tr style=\"text-align: right;\">\n",
       "      <th></th>\n",
       "      <th>CustomerID</th>\n",
       "      <th>Gender</th>\n",
       "      <th>Age</th>\n",
       "      <th>Annual Income (k$)</th>\n",
       "      <th>Spending Score (1-100)</th>\n",
       "    </tr>\n",
       "  </thead>\n",
       "  <tbody>\n",
       "    <tr>\n",
       "      <th>0</th>\n",
       "      <td>0.000000</td>\n",
       "      <td>1.0</td>\n",
       "      <td>0.020408</td>\n",
       "      <td>0.000000</td>\n",
       "      <td>0.387755</td>\n",
       "    </tr>\n",
       "    <tr>\n",
       "      <th>1</th>\n",
       "      <td>0.005025</td>\n",
       "      <td>1.0</td>\n",
       "      <td>0.061224</td>\n",
       "      <td>0.000000</td>\n",
       "      <td>0.816327</td>\n",
       "    </tr>\n",
       "    <tr>\n",
       "      <th>2</th>\n",
       "      <td>0.010050</td>\n",
       "      <td>0.0</td>\n",
       "      <td>0.040816</td>\n",
       "      <td>0.009009</td>\n",
       "      <td>0.051020</td>\n",
       "    </tr>\n",
       "    <tr>\n",
       "      <th>3</th>\n",
       "      <td>0.015075</td>\n",
       "      <td>0.0</td>\n",
       "      <td>0.102041</td>\n",
       "      <td>0.009009</td>\n",
       "      <td>0.775510</td>\n",
       "    </tr>\n",
       "    <tr>\n",
       "      <th>4</th>\n",
       "      <td>0.020101</td>\n",
       "      <td>0.0</td>\n",
       "      <td>0.265306</td>\n",
       "      <td>0.018018</td>\n",
       "      <td>0.397959</td>\n",
       "    </tr>\n",
       "  </tbody>\n",
       "</table>\n",
       "</div>"
      ],
      "text/plain": [
       "   CustomerID  Gender       Age  Annual Income (k$)  Spending Score (1-100)\n",
       "0    0.000000     1.0  0.020408            0.000000                0.387755\n",
       "1    0.005025     1.0  0.061224            0.000000                0.816327\n",
       "2    0.010050     0.0  0.040816            0.009009                0.051020\n",
       "3    0.015075     0.0  0.102041            0.009009                0.775510\n",
       "4    0.020101     0.0  0.265306            0.018018                0.397959"
      ]
     },
     "execution_count": 59,
     "metadata": {},
     "output_type": "execute_result"
    }
   ],
   "source": [
    "data = pd.DataFrame(data_scaled,columns = df.columns)\n",
    "data.head()"
   ]
  },
  {
   "cell_type": "code",
   "execution_count": 60,
   "id": "b4c43f29",
   "metadata": {},
   "outputs": [
    {
     "data": {
      "text/html": [
       "<div>\n",
       "<style scoped>\n",
       "    .dataframe tbody tr th:only-of-type {\n",
       "        vertical-align: middle;\n",
       "    }\n",
       "\n",
       "    .dataframe tbody tr th {\n",
       "        vertical-align: top;\n",
       "    }\n",
       "\n",
       "    .dataframe thead th {\n",
       "        text-align: right;\n",
       "    }\n",
       "</style>\n",
       "<table border=\"1\" class=\"dataframe\">\n",
       "  <thead>\n",
       "    <tr style=\"text-align: right;\">\n",
       "      <th></th>\n",
       "      <th>CustomerID</th>\n",
       "      <th>Gender</th>\n",
       "      <th>Age</th>\n",
       "      <th>Annual Income (k$)</th>\n",
       "      <th>Spending Score (1-100)</th>\n",
       "      <th>kclus</th>\n",
       "    </tr>\n",
       "  </thead>\n",
       "  <tbody>\n",
       "    <tr>\n",
       "      <th>0</th>\n",
       "      <td>0.000000</td>\n",
       "      <td>1.0</td>\n",
       "      <td>0.020408</td>\n",
       "      <td>0.000000</td>\n",
       "      <td>0.387755</td>\n",
       "      <td>4</td>\n",
       "    </tr>\n",
       "    <tr>\n",
       "      <th>1</th>\n",
       "      <td>0.005025</td>\n",
       "      <td>1.0</td>\n",
       "      <td>0.061224</td>\n",
       "      <td>0.000000</td>\n",
       "      <td>0.816327</td>\n",
       "      <td>4</td>\n",
       "    </tr>\n",
       "    <tr>\n",
       "      <th>2</th>\n",
       "      <td>0.010050</td>\n",
       "      <td>0.0</td>\n",
       "      <td>0.040816</td>\n",
       "      <td>0.009009</td>\n",
       "      <td>0.051020</td>\n",
       "      <td>2</td>\n",
       "    </tr>\n",
       "    <tr>\n",
       "      <th>3</th>\n",
       "      <td>0.015075</td>\n",
       "      <td>0.0</td>\n",
       "      <td>0.102041</td>\n",
       "      <td>0.009009</td>\n",
       "      <td>0.775510</td>\n",
       "      <td>2</td>\n",
       "    </tr>\n",
       "    <tr>\n",
       "      <th>4</th>\n",
       "      <td>0.020101</td>\n",
       "      <td>0.0</td>\n",
       "      <td>0.265306</td>\n",
       "      <td>0.018018</td>\n",
       "      <td>0.397959</td>\n",
       "      <td>2</td>\n",
       "    </tr>\n",
       "  </tbody>\n",
       "</table>\n",
       "</div>"
      ],
      "text/plain": [
       "   CustomerID  Gender       Age  Annual Income (k$)  Spending Score (1-100)  \\\n",
       "0    0.000000     1.0  0.020408            0.000000                0.387755   \n",
       "1    0.005025     1.0  0.061224            0.000000                0.816327   \n",
       "2    0.010050     0.0  0.040816            0.009009                0.051020   \n",
       "3    0.015075     0.0  0.102041            0.009009                0.775510   \n",
       "4    0.020101     0.0  0.265306            0.018018                0.397959   \n",
       "\n",
       "   kclus  \n",
       "0      4  \n",
       "1      4  \n",
       "2      2  \n",
       "3      2  \n",
       "4      2  "
      ]
     },
     "execution_count": 60,
     "metadata": {},
     "output_type": "execute_result"
    }
   ],
   "source": [
    "data['kclus'] = pd.Series(res)\n",
    "data.head()"
   ]
  },
  {
   "cell_type": "code",
   "execution_count": 61,
   "id": "6c88dba2",
   "metadata": {},
   "outputs": [
    {
     "data": {
      "text/plain": [
       "array([4, 2, 5, 1, 0, 3, 6, 7])"
      ]
     },
     "execution_count": 61,
     "metadata": {},
     "output_type": "execute_result"
    }
   ],
   "source": [
    "data['kclus'].unique()"
   ]
  },
  {
   "cell_type": "code",
   "execution_count": 62,
   "id": "5bf550dc",
   "metadata": {},
   "outputs": [
    {
     "data": {
      "text/plain": [
       "2    34\n",
       "5    34\n",
       "1    23\n",
       "4    22\n",
       "6    22\n",
       "0    20\n",
       "7    20\n",
       "3    19\n",
       "Name: kclus, dtype: int64"
      ]
     },
     "execution_count": 62,
     "metadata": {},
     "output_type": "execute_result"
    }
   ],
   "source": [
    "data['kclus'].value_counts()"
   ]
  },
  {
   "cell_type": "code",
   "execution_count": 63,
   "id": "c513bc6a",
   "metadata": {},
   "outputs": [
    {
     "data": {
      "image/png": "[encoded data removed]",
      "text/plain": [
       "<Figure size 1080x576 with 1 Axes>"
      ]
     },
     "metadata": {
      "needs_background": "light"
     },
     "output_type": "display_data"
    }
   ],
   "source": [
    "import matplotlib.pyplot as plt\n",
    "\n",
    "fig,ax = plt.subplots(figsize=(15,8))\n",
    "sns.scatterplot(x=data['Annual Income (k$)'],\n",
    "                y=data['Spending Score (1-100)'],\n",
    "                hue=data['kclus'],\n",
    "                palette='PuBuGn')\n",
    "plt.show()"
   ]
  },
  {
   "cell_type": "code",
   "execution_count": 64,
   "id": "1f805f07",
   "metadata": {},
   "outputs": [
    {
     "data": {
      "text/html": [
       "<div>\n",
       "<style scoped>\n",
       "    .dataframe tbody tr th:only-of-type {\n",
       "        vertical-align: middle;\n",
       "    }\n",
       "\n",
       "    .dataframe tbody tr th {\n",
       "        vertical-align: top;\n",
       "    }\n",
       "\n",
       "    .dataframe thead th {\n",
       "        text-align: right;\n",
       "    }\n",
       "</style>\n",
       "<table border=\"1\" class=\"dataframe\">\n",
       "  <thead>\n",
       "    <tr style=\"text-align: right;\">\n",
       "      <th></th>\n",
       "      <th>CustomerID</th>\n",
       "      <th>Gender</th>\n",
       "      <th>Age</th>\n",
       "      <th>Annual Income (k$)</th>\n",
       "      <th>Spending Score (1-100)</th>\n",
       "    </tr>\n",
       "  </thead>\n",
       "  <tbody>\n",
       "    <tr>\n",
       "      <th>0</th>\n",
       "      <td>0.000000</td>\n",
       "      <td>1.0</td>\n",
       "      <td>0.020408</td>\n",
       "      <td>0.000000</td>\n",
       "      <td>0.387755</td>\n",
       "    </tr>\n",
       "    <tr>\n",
       "      <th>1</th>\n",
       "      <td>0.005025</td>\n",
       "      <td>1.0</td>\n",
       "      <td>0.061224</td>\n",
       "      <td>0.000000</td>\n",
       "      <td>0.816327</td>\n",
       "    </tr>\n",
       "    <tr>\n",
       "      <th>2</th>\n",
       "      <td>0.010050</td>\n",
       "      <td>0.0</td>\n",
       "      <td>0.040816</td>\n",
       "      <td>0.009009</td>\n",
       "      <td>0.051020</td>\n",
       "    </tr>\n",
       "    <tr>\n",
       "      <th>3</th>\n",
       "      <td>0.015075</td>\n",
       "      <td>0.0</td>\n",
       "      <td>0.102041</td>\n",
       "      <td>0.009009</td>\n",
       "      <td>0.775510</td>\n",
       "    </tr>\n",
       "    <tr>\n",
       "      <th>4</th>\n",
       "      <td>0.020101</td>\n",
       "      <td>0.0</td>\n",
       "      <td>0.265306</td>\n",
       "      <td>0.018018</td>\n",
       "      <td>0.397959</td>\n",
       "    </tr>\n",
       "  </tbody>\n",
       "</table>\n",
       "</div>"
      ],
      "text/plain": [
       "   CustomerID  Gender       Age  Annual Income (k$)  Spending Score (1-100)\n",
       "0    0.000000     1.0  0.020408            0.000000                0.387755\n",
       "1    0.005025     1.0  0.061224            0.000000                0.816327\n",
       "2    0.010050     0.0  0.040816            0.009009                0.051020\n",
       "3    0.015075     0.0  0.102041            0.009009                0.775510\n",
       "4    0.020101     0.0  0.265306            0.018018                0.397959"
      ]
     },
     "execution_count": 64,
     "metadata": {},
     "output_type": "execute_result"
    }
   ],
   "source": [
    "ind = data.iloc[:,0:5]\n",
    "ind.head()"
   ]
  },
  {
   "cell_type": "code",
   "execution_count": 65,
   "id": "ff5b1c67",
   "metadata": {},
   "outputs": [
    {
     "data": {
      "text/html": [
       "<div>\n",
       "<style scoped>\n",
       "    .dataframe tbody tr th:only-of-type {\n",
       "        vertical-align: middle;\n",
       "    }\n",
       "\n",
       "    .dataframe tbody tr th {\n",
       "        vertical-align: top;\n",
       "    }\n",
       "\n",
       "    .dataframe thead th {\n",
       "        text-align: right;\n",
       "    }\n",
       "</style>\n",
       "<table border=\"1\" class=\"dataframe\">\n",
       "  <thead>\n",
       "    <tr style=\"text-align: right;\">\n",
       "      <th></th>\n",
       "      <th>kclus</th>\n",
       "    </tr>\n",
       "  </thead>\n",
       "  <tbody>\n",
       "    <tr>\n",
       "      <th>0</th>\n",
       "      <td>4</td>\n",
       "    </tr>\n",
       "    <tr>\n",
       "      <th>1</th>\n",
       "      <td>4</td>\n",
       "    </tr>\n",
       "    <tr>\n",
       "      <th>2</th>\n",
       "      <td>2</td>\n",
       "    </tr>\n",
       "    <tr>\n",
       "      <th>3</th>\n",
       "      <td>2</td>\n",
       "    </tr>\n",
       "    <tr>\n",
       "      <th>4</th>\n",
       "      <td>2</td>\n",
       "    </tr>\n",
       "  </tbody>\n",
       "</table>\n",
       "</div>"
      ],
      "text/plain": [
       "   kclus\n",
       "0      4\n",
       "1      4\n",
       "2      2\n",
       "3      2\n",
       "4      2"
      ]
     },
     "execution_count": 65,
     "metadata": {},
     "output_type": "execute_result"
    }
   ],
   "source": [
    "dep = data.iloc[:,5:]\n",
    "dep.head()"
   ]
  },
  {
   "cell_type": "markdown",
   "id": "4faa899d",
   "metadata": {},
   "source": [
    "# Independent and Dependent variables splits"
   ]
  },
  {
   "cell_type": "markdown",
   "id": "c27dc0f6",
   "metadata": {},
   "source": [
    "# Independent variables"
   ]
  },
  {
   "cell_type": "code",
   "execution_count": 66,
   "id": "d7b32ee5",
   "metadata": {},
   "outputs": [
    {
     "data": {
      "text/html": [
       "<div>\n",
       "<style scoped>\n",
       "    .dataframe tbody tr th:only-of-type {\n",
       "        vertical-align: middle;\n",
       "    }\n",
       "\n",
       "    .dataframe tbody tr th {\n",
       "        vertical-align: top;\n",
       "    }\n",
       "\n",
       "    .dataframe thead th {\n",
       "        text-align: right;\n",
       "    }\n",
       "</style>\n",
       "<table border=\"1\" class=\"dataframe\">\n",
       "  <thead>\n",
       "    <tr style=\"text-align: right;\">\n",
       "      <th></th>\n",
       "      <th>CustomerID</th>\n",
       "      <th>Gender</th>\n",
       "      <th>Age</th>\n",
       "      <th>Annual Income (k$)</th>\n",
       "      <th>Spending Score (1-100)</th>\n",
       "    </tr>\n",
       "  </thead>\n",
       "  <tbody>\n",
       "    <tr>\n",
       "      <th>0</th>\n",
       "      <td>0.000000</td>\n",
       "      <td>1.0</td>\n",
       "      <td>0.020408</td>\n",
       "      <td>0.000000</td>\n",
       "      <td>0.387755</td>\n",
       "    </tr>\n",
       "    <tr>\n",
       "      <th>1</th>\n",
       "      <td>0.005025</td>\n",
       "      <td>1.0</td>\n",
       "      <td>0.061224</td>\n",
       "      <td>0.000000</td>\n",
       "      <td>0.816327</td>\n",
       "    </tr>\n",
       "    <tr>\n",
       "      <th>2</th>\n",
       "      <td>0.010050</td>\n",
       "      <td>0.0</td>\n",
       "      <td>0.040816</td>\n",
       "      <td>0.009009</td>\n",
       "      <td>0.051020</td>\n",
       "    </tr>\n",
       "    <tr>\n",
       "      <th>3</th>\n",
       "      <td>0.015075</td>\n",
       "      <td>0.0</td>\n",
       "      <td>0.102041</td>\n",
       "      <td>0.009009</td>\n",
       "      <td>0.775510</td>\n",
       "    </tr>\n",
       "    <tr>\n",
       "      <th>4</th>\n",
       "      <td>0.020101</td>\n",
       "      <td>0.0</td>\n",
       "      <td>0.265306</td>\n",
       "      <td>0.018018</td>\n",
       "      <td>0.397959</td>\n",
       "    </tr>\n",
       "  </tbody>\n",
       "</table>\n",
       "</div>"
      ],
      "text/plain": [
       "   CustomerID  Gender       Age  Annual Income (k$)  Spending Score (1-100)\n",
       "0    0.000000     1.0  0.020408            0.000000                0.387755\n",
       "1    0.005025     1.0  0.061224            0.000000                0.816327\n",
       "2    0.010050     0.0  0.040816            0.009009                0.051020\n",
       "3    0.015075     0.0  0.102041            0.009009                0.775510\n",
       "4    0.020101     0.0  0.265306            0.018018                0.397959"
      ]
     },
     "execution_count": 66,
     "metadata": {},
     "output_type": "execute_result"
    }
   ],
   "source": [
    "X = data.iloc[:,:-1]\n",
    "X.head()"
   ]
  },
  {
   "cell_type": "markdown",
   "id": "f257ccdc",
   "metadata": {},
   "source": [
    "# Dependent variables"
   ]
  },
  {
   "cell_type": "code",
   "execution_count": 67,
   "id": "98847c6f",
   "metadata": {},
   "outputs": [
    {
     "data": {
      "text/plain": [
       "0      4\n",
       "1      4\n",
       "2      2\n",
       "3      2\n",
       "4      2\n",
       "      ..\n",
       "189    6\n",
       "190    0\n",
       "191    3\n",
       "192    7\n",
       "193    3\n",
       "Name: kclus, Length: 194, dtype: int32"
      ]
     },
     "execution_count": 67,
     "metadata": {},
     "output_type": "execute_result"
    }
   ],
   "source": [
    "y = data.kclus\n",
    "y"
   ]
  },
  {
   "cell_type": "code",
   "execution_count": 68,
   "id": "4b44623f",
   "metadata": {},
   "outputs": [
    {
     "data": {
      "text/html": [
       "<div>\n",
       "<style scoped>\n",
       "    .dataframe tbody tr th:only-of-type {\n",
       "        vertical-align: middle;\n",
       "    }\n",
       "\n",
       "    .dataframe tbody tr th {\n",
       "        vertical-align: top;\n",
       "    }\n",
       "\n",
       "    .dataframe thead th {\n",
       "        text-align: right;\n",
       "    }\n",
       "</style>\n",
       "<table border=\"1\" class=\"dataframe\">\n",
       "  <thead>\n",
       "    <tr style=\"text-align: right;\">\n",
       "      <th></th>\n",
       "      <th>CustomerID</th>\n",
       "      <th>Gender</th>\n",
       "      <th>Age</th>\n",
       "      <th>Annual Income (k$)</th>\n",
       "      <th>Spending Score (1-100)</th>\n",
       "    </tr>\n",
       "  </thead>\n",
       "  <tbody>\n",
       "    <tr>\n",
       "      <th>0</th>\n",
       "      <td>0.000000</td>\n",
       "      <td>1.0</td>\n",
       "      <td>0.020408</td>\n",
       "      <td>0.000000</td>\n",
       "      <td>0.387755</td>\n",
       "    </tr>\n",
       "    <tr>\n",
       "      <th>1</th>\n",
       "      <td>0.005025</td>\n",
       "      <td>1.0</td>\n",
       "      <td>0.061224</td>\n",
       "      <td>0.000000</td>\n",
       "      <td>0.816327</td>\n",
       "    </tr>\n",
       "    <tr>\n",
       "      <th>2</th>\n",
       "      <td>0.010050</td>\n",
       "      <td>0.0</td>\n",
       "      <td>0.040816</td>\n",
       "      <td>0.009009</td>\n",
       "      <td>0.051020</td>\n",
       "    </tr>\n",
       "    <tr>\n",
       "      <th>3</th>\n",
       "      <td>0.015075</td>\n",
       "      <td>0.0</td>\n",
       "      <td>0.102041</td>\n",
       "      <td>0.009009</td>\n",
       "      <td>0.775510</td>\n",
       "    </tr>\n",
       "    <tr>\n",
       "      <th>4</th>\n",
       "      <td>0.020101</td>\n",
       "      <td>0.0</td>\n",
       "      <td>0.265306</td>\n",
       "      <td>0.018018</td>\n",
       "      <td>0.397959</td>\n",
       "    </tr>\n",
       "  </tbody>\n",
       "</table>\n",
       "</div>"
      ],
      "text/plain": [
       "   CustomerID  Gender       Age  Annual Income (k$)  Spending Score (1-100)\n",
       "0    0.000000     1.0  0.020408            0.000000                0.387755\n",
       "1    0.005025     1.0  0.061224            0.000000                0.816327\n",
       "2    0.010050     0.0  0.040816            0.009009                0.051020\n",
       "3    0.015075     0.0  0.102041            0.009009                0.775510\n",
       "4    0.020101     0.0  0.265306            0.018018                0.397959"
      ]
     },
     "execution_count": 68,
     "metadata": {},
     "output_type": "execute_result"
    }
   ],
   "source": [
    "X.head()"
   ]
  },
  {
   "cell_type": "markdown",
   "id": "85f35ad0",
   "metadata": {},
   "source": [
    "# Scaling the independent variables"
   ]
  },
  {
   "cell_type": "code",
   "execution_count": 69,
   "id": "291c2817",
   "metadata": {},
   "outputs": [],
   "source": [
    "from sklearn.preprocessing import scale"
   ]
  },
  {
   "cell_type": "code",
   "execution_count": 70,
   "id": "e6575490",
   "metadata": {},
   "outputs": [
    {
     "data": {
      "text/html": [
       "<div>\n",
       "<style scoped>\n",
       "    .dataframe tbody tr th:only-of-type {\n",
       "        vertical-align: middle;\n",
       "    }\n",
       "\n",
       "    .dataframe tbody tr th {\n",
       "        vertical-align: top;\n",
       "    }\n",
       "\n",
       "    .dataframe thead th {\n",
       "        text-align: right;\n",
       "    }\n",
       "</style>\n",
       "<table border=\"1\" class=\"dataframe\">\n",
       "  <thead>\n",
       "    <tr style=\"text-align: right;\">\n",
       "      <th></th>\n",
       "      <th>CustomerID</th>\n",
       "      <th>Gender</th>\n",
       "      <th>Age</th>\n",
       "      <th>Annual Income (k$)</th>\n",
       "      <th>Spending Score (1-100)</th>\n",
       "    </tr>\n",
       "  </thead>\n",
       "  <tbody>\n",
       "    <tr>\n",
       "      <th>0</th>\n",
       "      <td>-1.717296</td>\n",
       "      <td>1.144344</td>\n",
       "      <td>-1.445055</td>\n",
       "      <td>-1.751670</td>\n",
       "      <td>-0.428124</td>\n",
       "    </tr>\n",
       "    <tr>\n",
       "      <th>1</th>\n",
       "      <td>-1.700165</td>\n",
       "      <td>1.144344</td>\n",
       "      <td>-1.292322</td>\n",
       "      <td>-1.751670</td>\n",
       "      <td>1.178671</td>\n",
       "    </tr>\n",
       "    <tr>\n",
       "      <th>2</th>\n",
       "      <td>-1.683034</td>\n",
       "      <td>-0.873863</td>\n",
       "      <td>-1.368688</td>\n",
       "      <td>-1.712515</td>\n",
       "      <td>-1.690605</td>\n",
       "    </tr>\n",
       "    <tr>\n",
       "      <th>3</th>\n",
       "      <td>-1.665904</td>\n",
       "      <td>-0.873863</td>\n",
       "      <td>-1.139590</td>\n",
       "      <td>-1.712515</td>\n",
       "      <td>1.025643</td>\n",
       "    </tr>\n",
       "    <tr>\n",
       "      <th>4</th>\n",
       "      <td>-1.648773</td>\n",
       "      <td>-0.873863</td>\n",
       "      <td>-0.528659</td>\n",
       "      <td>-1.673360</td>\n",
       "      <td>-0.389867</td>\n",
       "    </tr>\n",
       "  </tbody>\n",
       "</table>\n",
       "</div>"
      ],
      "text/plain": [
       "   CustomerID    Gender       Age  Annual Income (k$)  Spending Score (1-100)\n",
       "0   -1.717296  1.144344 -1.445055           -1.751670               -0.428124\n",
       "1   -1.700165  1.144344 -1.292322           -1.751670                1.178671\n",
       "2   -1.683034 -0.873863 -1.368688           -1.712515               -1.690605\n",
       "3   -1.665904 -0.873863 -1.139590           -1.712515                1.025643\n",
       "4   -1.648773 -0.873863 -0.528659           -1.673360               -0.389867"
      ]
     },
     "execution_count": 70,
     "metadata": {},
     "output_type": "execute_result"
    }
   ],
   "source": [
    "X_scaled = pd.DataFrame(scale(X),columns=X.columns)\n",
    "X_scaled.head()"
   ]
  },
  {
   "cell_type": "markdown",
   "id": "67dadc6e",
   "metadata": {},
   "source": [
    "# Splitting the data into training and testing"
   ]
  },
  {
   "cell_type": "code",
   "execution_count": 71,
   "id": "00069545",
   "metadata": {},
   "outputs": [],
   "source": [
    "from sklearn.model_selection import train_test_split\n",
    "X_train,X_test,y_train,y_test =train_test_split(X_scaled,y, test_size=0.3,random_state=0)"
   ]
  },
  {
   "cell_type": "code",
   "execution_count": 72,
   "id": "135b7fcf",
   "metadata": {},
   "outputs": [
    {
     "data": {
      "text/html": [
       "<div>\n",
       "<style scoped>\n",
       "    .dataframe tbody tr th:only-of-type {\n",
       "        vertical-align: middle;\n",
       "    }\n",
       "\n",
       "    .dataframe tbody tr th {\n",
       "        vertical-align: top;\n",
       "    }\n",
       "\n",
       "    .dataframe thead th {\n",
       "        text-align: right;\n",
       "    }\n",
       "</style>\n",
       "<table border=\"1\" class=\"dataframe\">\n",
       "  <thead>\n",
       "    <tr style=\"text-align: right;\">\n",
       "      <th></th>\n",
       "      <th>CustomerID</th>\n",
       "      <th>Gender</th>\n",
       "      <th>Age</th>\n",
       "      <th>Annual Income (k$)</th>\n",
       "      <th>Spending Score (1-100)</th>\n",
       "    </tr>\n",
       "  </thead>\n",
       "  <tbody>\n",
       "    <tr>\n",
       "      <th>86</th>\n",
       "      <td>-0.158414</td>\n",
       "      <td>1.144344</td>\n",
       "      <td>-1.521421</td>\n",
       "      <td>-0.028861</td>\n",
       "      <td>-0.351610</td>\n",
       "    </tr>\n",
       "    <tr>\n",
       "      <th>54</th>\n",
       "      <td>-0.792245</td>\n",
       "      <td>-0.873863</td>\n",
       "      <td>0.922300</td>\n",
       "      <td>-0.655337</td>\n",
       "      <td>-0.198582</td>\n",
       "    </tr>\n",
       "    <tr>\n",
       "      <th>158</th>\n",
       "      <td>1.092118</td>\n",
       "      <td>1.144344</td>\n",
       "      <td>0.922300</td>\n",
       "      <td>0.989161</td>\n",
       "      <td>-0.925465</td>\n",
       "    </tr>\n",
       "    <tr>\n",
       "      <th>16</th>\n",
       "      <td>-1.443206</td>\n",
       "      <td>-0.873863</td>\n",
       "      <td>-0.223194</td>\n",
       "      <td>-1.516741</td>\n",
       "      <td>-0.581152</td>\n",
       "    </tr>\n",
       "    <tr>\n",
       "      <th>51</th>\n",
       "      <td>-0.843636</td>\n",
       "      <td>1.144344</td>\n",
       "      <td>-0.375927</td>\n",
       "      <td>-0.694492</td>\n",
       "      <td>0.375274</td>\n",
       "    </tr>\n",
       "    <tr>\n",
       "      <th>...</th>\n",
       "      <td>...</td>\n",
       "      <td>...</td>\n",
       "      <td>...</td>\n",
       "      <td>...</td>\n",
       "      <td>...</td>\n",
       "    </tr>\n",
       "    <tr>\n",
       "      <th>103</th>\n",
       "      <td>0.149937</td>\n",
       "      <td>1.144344</td>\n",
       "      <td>2.144160</td>\n",
       "      <td>0.127757</td>\n",
       "      <td>-0.083810</td>\n",
       "    </tr>\n",
       "    <tr>\n",
       "      <th>67</th>\n",
       "      <td>-0.501025</td>\n",
       "      <td>-0.873863</td>\n",
       "      <td>0.693201</td>\n",
       "      <td>-0.420409</td>\n",
       "      <td>-0.313353</td>\n",
       "    </tr>\n",
       "    <tr>\n",
       "      <th>117</th>\n",
       "      <td>0.389765</td>\n",
       "      <td>1.144344</td>\n",
       "      <td>0.082271</td>\n",
       "      <td>0.362686</td>\n",
       "      <td>1.561241</td>\n",
       "    </tr>\n",
       "    <tr>\n",
       "      <th>47</th>\n",
       "      <td>-0.912159</td>\n",
       "      <td>-0.873863</td>\n",
       "      <td>-0.834124</td>\n",
       "      <td>-0.772801</td>\n",
       "      <td>-0.122067</td>\n",
       "    </tr>\n",
       "    <tr>\n",
       "      <th>172</th>\n",
       "      <td>1.331946</td>\n",
       "      <td>1.144344</td>\n",
       "      <td>1.609596</td>\n",
       "      <td>1.302399</td>\n",
       "      <td>-1.384549</td>\n",
       "    </tr>\n",
       "  </tbody>\n",
       "</table>\n",
       "<p>135 rows × 5 columns</p>\n",
       "</div>"
      ],
      "text/plain": [
       "     CustomerID    Gender       Age  Annual Income (k$)  \\\n",
       "86    -0.158414  1.144344 -1.521421           -0.028861   \n",
       "54    -0.792245 -0.873863  0.922300           -0.655337   \n",
       "158    1.092118  1.144344  0.922300            0.989161   \n",
       "16    -1.443206 -0.873863 -0.223194           -1.516741   \n",
       "51    -0.843636  1.144344 -0.375927           -0.694492   \n",
       "..          ...       ...       ...                 ...   \n",
       "103    0.149937  1.144344  2.144160            0.127757   \n",
       "67    -0.501025 -0.873863  0.693201           -0.420409   \n",
       "117    0.389765  1.144344  0.082271            0.362686   \n",
       "47    -0.912159 -0.873863 -0.834124           -0.772801   \n",
       "172    1.331946  1.144344  1.609596            1.302399   \n",
       "\n",
       "     Spending Score (1-100)  \n",
       "86                -0.351610  \n",
       "54                -0.198582  \n",
       "158               -0.925465  \n",
       "16                -0.581152  \n",
       "51                 0.375274  \n",
       "..                      ...  \n",
       "103               -0.083810  \n",
       "67                -0.313353  \n",
       "117                1.561241  \n",
       "47                -0.122067  \n",
       "172               -1.384549  \n",
       "\n",
       "[135 rows x 5 columns]"
      ]
     },
     "execution_count": 72,
     "metadata": {},
     "output_type": "execute_result"
    }
   ],
   "source": [
    "X_train"
   ]
  },
  {
   "cell_type": "code",
   "execution_count": 73,
   "id": "7af50afc",
   "metadata": {},
   "outputs": [
    {
     "data": {
      "text/plain": [
       "(135, 5)"
      ]
     },
     "execution_count": 73,
     "metadata": {},
     "output_type": "execute_result"
    }
   ],
   "source": [
    "X_train.shape"
   ]
  },
  {
   "cell_type": "code",
   "execution_count": 74,
   "id": "708b69e5",
   "metadata": {},
   "outputs": [
    {
     "data": {
      "text/plain": [
       "(135,)"
      ]
     },
     "execution_count": 74,
     "metadata": {},
     "output_type": "execute_result"
    }
   ],
   "source": [
    "y_train.shape"
   ]
  },
  {
   "cell_type": "code",
   "execution_count": 75,
   "id": "71229259",
   "metadata": {},
   "outputs": [
    {
     "data": {
      "text/html": [
       "<div>\n",
       "<style scoped>\n",
       "    .dataframe tbody tr th:only-of-type {\n",
       "        vertical-align: middle;\n",
       "    }\n",
       "\n",
       "    .dataframe tbody tr th {\n",
       "        vertical-align: top;\n",
       "    }\n",
       "\n",
       "    .dataframe thead th {\n",
       "        text-align: right;\n",
       "    }\n",
       "</style>\n",
       "<table border=\"1\" class=\"dataframe\">\n",
       "  <thead>\n",
       "    <tr style=\"text-align: right;\">\n",
       "      <th></th>\n",
       "      <th>CustomerID</th>\n",
       "      <th>Gender</th>\n",
       "      <th>Age</th>\n",
       "      <th>Annual Income (k$)</th>\n",
       "      <th>Spending Score (1-100)</th>\n",
       "    </tr>\n",
       "  </thead>\n",
       "  <tbody>\n",
       "    <tr>\n",
       "      <th>113</th>\n",
       "      <td>0.321242</td>\n",
       "      <td>-0.873863</td>\n",
       "      <td>0.922300</td>\n",
       "      <td>0.284376</td>\n",
       "      <td>0.260503</td>\n",
       "    </tr>\n",
       "    <tr>\n",
       "      <th>184</th>\n",
       "      <td>1.537513</td>\n",
       "      <td>-0.873863</td>\n",
       "      <td>-0.299560</td>\n",
       "      <td>1.693947</td>\n",
       "      <td>-1.040236</td>\n",
       "    </tr>\n",
       "    <tr>\n",
       "      <th>56</th>\n",
       "      <td>-0.757984</td>\n",
       "      <td>-0.873863</td>\n",
       "      <td>0.998666</td>\n",
       "      <td>-0.616182</td>\n",
       "      <td>-0.007296</td>\n",
       "    </tr>\n",
       "    <tr>\n",
       "      <th>89</th>\n",
       "      <td>-0.107022</td>\n",
       "      <td>-0.873863</td>\n",
       "      <td>-0.452293</td>\n",
       "      <td>0.010293</td>\n",
       "      <td>-0.313353</td>\n",
       "    </tr>\n",
       "    <tr>\n",
       "      <th>12</th>\n",
       "      <td>-1.511729</td>\n",
       "      <td>-0.873863</td>\n",
       "      <td>1.533230</td>\n",
       "      <td>-1.555896</td>\n",
       "      <td>-1.346292</td>\n",
       "    </tr>\n",
       "    <tr>\n",
       "      <th>37</th>\n",
       "      <td>-1.083464</td>\n",
       "      <td>-0.873863</td>\n",
       "      <td>-0.605026</td>\n",
       "      <td>-1.007730</td>\n",
       "      <td>0.872615</td>\n",
       "    </tr>\n",
       "    <tr>\n",
       "      <th>18</th>\n",
       "      <td>-1.408945</td>\n",
       "      <td>1.144344</td>\n",
       "      <td>1.075032</td>\n",
       "      <td>-1.438432</td>\n",
       "      <td>-0.810694</td>\n",
       "    </tr>\n",
       "    <tr>\n",
       "      <th>125</th>\n",
       "      <td>0.526809</td>\n",
       "      <td>1.144344</td>\n",
       "      <td>0.082271</td>\n",
       "      <td>0.440995</td>\n",
       "      <td>0.949129</td>\n",
       "    </tr>\n",
       "    <tr>\n",
       "      <th>163</th>\n",
       "      <td>1.177771</td>\n",
       "      <td>1.144344</td>\n",
       "      <td>-0.452293</td>\n",
       "      <td>1.067471</td>\n",
       "      <td>0.490045</td>\n",
       "    </tr>\n",
       "    <tr>\n",
       "      <th>7</th>\n",
       "      <td>-1.597382</td>\n",
       "      <td>-0.873863</td>\n",
       "      <td>-1.139590</td>\n",
       "      <td>-1.634205</td>\n",
       "      <td>1.676012</td>\n",
       "    </tr>\n",
       "    <tr>\n",
       "      <th>5</th>\n",
       "      <td>-1.631643</td>\n",
       "      <td>-0.873863</td>\n",
       "      <td>-1.215956</td>\n",
       "      <td>-1.673360</td>\n",
       "      <td>0.987386</td>\n",
       "    </tr>\n",
       "    <tr>\n",
       "      <th>123</th>\n",
       "      <td>0.492548</td>\n",
       "      <td>1.144344</td>\n",
       "      <td>0.005905</td>\n",
       "      <td>0.440995</td>\n",
       "      <td>0.949129</td>\n",
       "    </tr>\n",
       "    <tr>\n",
       "      <th>160</th>\n",
       "      <td>1.126379</td>\n",
       "      <td>1.144344</td>\n",
       "      <td>0.311370</td>\n",
       "      <td>1.028316</td>\n",
       "      <td>-1.155007</td>\n",
       "    </tr>\n",
       "    <tr>\n",
       "      <th>175</th>\n",
       "      <td>1.383338</td>\n",
       "      <td>-0.873863</td>\n",
       "      <td>-0.452293</td>\n",
       "      <td>1.459018</td>\n",
       "      <td>1.369956</td>\n",
       "    </tr>\n",
       "    <tr>\n",
       "      <th>74</th>\n",
       "      <td>-0.381111</td>\n",
       "      <td>-0.873863</td>\n",
       "      <td>-1.139590</td>\n",
       "      <td>-0.224635</td>\n",
       "      <td>0.069218</td>\n",
       "    </tr>\n",
       "    <tr>\n",
       "      <th>33</th>\n",
       "      <td>-1.151987</td>\n",
       "      <td>1.144344</td>\n",
       "      <td>-1.521421</td>\n",
       "      <td>-1.046884</td>\n",
       "      <td>1.599498</td>\n",
       "    </tr>\n",
       "    <tr>\n",
       "      <th>176</th>\n",
       "      <td>1.400468</td>\n",
       "      <td>1.144344</td>\n",
       "      <td>0.616835</td>\n",
       "      <td>1.498173</td>\n",
       "      <td>-1.346292</td>\n",
       "    </tr>\n",
       "    <tr>\n",
       "      <th>180</th>\n",
       "      <td>1.468991</td>\n",
       "      <td>-0.873863</td>\n",
       "      <td>1.227765</td>\n",
       "      <td>1.615637</td>\n",
       "      <td>-1.001979</td>\n",
       "    </tr>\n",
       "    <tr>\n",
       "      <th>182</th>\n",
       "      <td>1.503252</td>\n",
       "      <td>-0.873863</td>\n",
       "      <td>0.235003</td>\n",
       "      <td>1.693947</td>\n",
       "      <td>-1.269778</td>\n",
       "    </tr>\n",
       "    <tr>\n",
       "      <th>71</th>\n",
       "      <td>-0.432503</td>\n",
       "      <td>1.144344</td>\n",
       "      <td>-0.910491</td>\n",
       "      <td>-0.224635</td>\n",
       "      <td>0.145732</td>\n",
       "    </tr>\n",
       "    <tr>\n",
       "      <th>149</th>\n",
       "      <td>0.937943</td>\n",
       "      <td>-0.873863</td>\n",
       "      <td>-0.834124</td>\n",
       "      <td>0.715078</td>\n",
       "      <td>1.484727</td>\n",
       "    </tr>\n",
       "    <tr>\n",
       "      <th>155</th>\n",
       "      <td>1.040726</td>\n",
       "      <td>-0.873863</td>\n",
       "      <td>-0.681392</td>\n",
       "      <td>0.754233</td>\n",
       "      <td>1.255185</td>\n",
       "    </tr>\n",
       "    <tr>\n",
       "      <th>177</th>\n",
       "      <td>1.417599</td>\n",
       "      <td>-0.873863</td>\n",
       "      <td>-0.681392</td>\n",
       "      <td>1.498173</td>\n",
       "      <td>1.446470</td>\n",
       "    </tr>\n",
       "    <tr>\n",
       "      <th>108</th>\n",
       "      <td>0.235590</td>\n",
       "      <td>-0.873863</td>\n",
       "      <td>-1.521421</td>\n",
       "      <td>0.206067</td>\n",
       "      <td>-0.083810</td>\n",
       "    </tr>\n",
       "    <tr>\n",
       "      <th>131</th>\n",
       "      <td>0.629593</td>\n",
       "      <td>1.144344</td>\n",
       "      <td>-0.452293</td>\n",
       "      <td>0.519305</td>\n",
       "      <td>0.872615</td>\n",
       "    </tr>\n",
       "    <tr>\n",
       "      <th>179</th>\n",
       "      <td>1.451860</td>\n",
       "      <td>1.144344</td>\n",
       "      <td>-0.605026</td>\n",
       "      <td>1.537328</td>\n",
       "      <td>1.790783</td>\n",
       "    </tr>\n",
       "    <tr>\n",
       "      <th>178</th>\n",
       "      <td>1.434729</td>\n",
       "      <td>-0.873863</td>\n",
       "      <td>0.235003</td>\n",
       "      <td>1.537328</td>\n",
       "      <td>-0.428124</td>\n",
       "    </tr>\n",
       "    <tr>\n",
       "      <th>45</th>\n",
       "      <td>-0.946420</td>\n",
       "      <td>-0.873863</td>\n",
       "      <td>-1.063223</td>\n",
       "      <td>-0.811956</td>\n",
       "      <td>0.566559</td>\n",
       "    </tr>\n",
       "    <tr>\n",
       "      <th>22</th>\n",
       "      <td>-1.340423</td>\n",
       "      <td>-0.873863</td>\n",
       "      <td>0.616835</td>\n",
       "      <td>-1.360122</td>\n",
       "      <td>-1.728862</td>\n",
       "    </tr>\n",
       "    <tr>\n",
       "      <th>154</th>\n",
       "      <td>1.023596</td>\n",
       "      <td>-0.873863</td>\n",
       "      <td>1.380498</td>\n",
       "      <td>0.754233</td>\n",
       "      <td>-0.581152</td>\n",
       "    </tr>\n",
       "    <tr>\n",
       "      <th>98</th>\n",
       "      <td>0.047153</td>\n",
       "      <td>1.144344</td>\n",
       "      <td>-0.910491</td>\n",
       "      <td>0.088603</td>\n",
       "      <td>0.183989</td>\n",
       "    </tr>\n",
       "    <tr>\n",
       "      <th>44</th>\n",
       "      <td>-0.963550</td>\n",
       "      <td>-0.873863</td>\n",
       "      <td>0.845934</td>\n",
       "      <td>-0.811956</td>\n",
       "      <td>-0.848951</td>\n",
       "    </tr>\n",
       "    <tr>\n",
       "      <th>122</th>\n",
       "      <td>0.475418</td>\n",
       "      <td>1.144344</td>\n",
       "      <td>1.609596</td>\n",
       "      <td>0.440995</td>\n",
       "      <td>-1.499320</td>\n",
       "    </tr>\n",
       "    <tr>\n",
       "      <th>4</th>\n",
       "      <td>-1.648773</td>\n",
       "      <td>-0.873863</td>\n",
       "      <td>-0.528659</td>\n",
       "      <td>-1.673360</td>\n",
       "      <td>-0.389867</td>\n",
       "    </tr>\n",
       "    <tr>\n",
       "      <th>61</th>\n",
       "      <td>-0.638070</td>\n",
       "      <td>-0.873863</td>\n",
       "      <td>1.227765</td>\n",
       "      <td>-0.498718</td>\n",
       "      <td>0.337017</td>\n",
       "    </tr>\n",
       "    <tr>\n",
       "      <th>193</th>\n",
       "      <td>1.691688</td>\n",
       "      <td>1.144344</td>\n",
       "      <td>-0.605026</td>\n",
       "      <td>-1.164349</td>\n",
       "      <td>1.255185</td>\n",
       "    </tr>\n",
       "    <tr>\n",
       "      <th>92</th>\n",
       "      <td>-0.055630</td>\n",
       "      <td>-0.873863</td>\n",
       "      <td>-0.834124</td>\n",
       "      <td>0.010293</td>\n",
       "      <td>-0.007296</td>\n",
       "    </tr>\n",
       "    <tr>\n",
       "      <th>169</th>\n",
       "      <td>1.280554</td>\n",
       "      <td>-0.873863</td>\n",
       "      <td>-0.605026</td>\n",
       "      <td>1.106626</td>\n",
       "      <td>1.369956</td>\n",
       "    </tr>\n",
       "    <tr>\n",
       "      <th>26</th>\n",
       "      <td>-1.271901</td>\n",
       "      <td>-0.873863</td>\n",
       "      <td>0.540469</td>\n",
       "      <td>-1.242658</td>\n",
       "      <td>-0.695923</td>\n",
       "    </tr>\n",
       "    <tr>\n",
       "      <th>55</th>\n",
       "      <td>-0.775114</td>\n",
       "      <td>1.144344</td>\n",
       "      <td>0.693201</td>\n",
       "      <td>-0.655337</td>\n",
       "      <td>-0.351610</td>\n",
       "    </tr>\n",
       "    <tr>\n",
       "      <th>162</th>\n",
       "      <td>1.160640</td>\n",
       "      <td>-0.873863</td>\n",
       "      <td>-0.146828</td>\n",
       "      <td>1.067471</td>\n",
       "      <td>-0.887208</td>\n",
       "    </tr>\n",
       "    <tr>\n",
       "      <th>138</th>\n",
       "      <td>0.749507</td>\n",
       "      <td>1.144344</td>\n",
       "      <td>-0.986857</td>\n",
       "      <td>0.675924</td>\n",
       "      <td>-1.461063</td>\n",
       "    </tr>\n",
       "    <tr>\n",
       "      <th>8</th>\n",
       "      <td>-1.580251</td>\n",
       "      <td>1.144344</td>\n",
       "      <td>1.991428</td>\n",
       "      <td>-1.595051</td>\n",
       "      <td>-1.805376</td>\n",
       "    </tr>\n",
       "    <tr>\n",
       "      <th>129</th>\n",
       "      <td>0.595332</td>\n",
       "      <td>-0.873863</td>\n",
       "      <td>-0.681392</td>\n",
       "      <td>0.519305</td>\n",
       "      <td>1.446470</td>\n",
       "    </tr>\n",
       "    <tr>\n",
       "      <th>141</th>\n",
       "      <td>0.800898</td>\n",
       "      <td>-0.873863</td>\n",
       "      <td>-0.452293</td>\n",
       "      <td>0.675924</td>\n",
       "      <td>0.910872</td>\n",
       "    </tr>\n",
       "    <tr>\n",
       "      <th>66</th>\n",
       "      <td>-0.535286</td>\n",
       "      <td>-0.873863</td>\n",
       "      <td>-0.452293</td>\n",
       "      <td>-0.459563</td>\n",
       "      <td>-0.122067</td>\n",
       "    </tr>\n",
       "    <tr>\n",
       "      <th>93</th>\n",
       "      <td>-0.038500</td>\n",
       "      <td>1.144344</td>\n",
       "      <td>0.769567</td>\n",
       "      <td>0.049448</td>\n",
       "      <td>-0.313353</td>\n",
       "    </tr>\n",
       "    <tr>\n",
       "      <th>60</th>\n",
       "      <td>-0.655200</td>\n",
       "      <td>-0.873863</td>\n",
       "      <td>2.220527</td>\n",
       "      <td>-0.498718</td>\n",
       "      <td>0.069218</td>\n",
       "    </tr>\n",
       "    <tr>\n",
       "      <th>145</th>\n",
       "      <td>0.869421</td>\n",
       "      <td>1.144344</td>\n",
       "      <td>0.082271</td>\n",
       "      <td>0.715078</td>\n",
       "      <td>1.446470</td>\n",
       "    </tr>\n",
       "    <tr>\n",
       "      <th>191</th>\n",
       "      <td>1.657427</td>\n",
       "      <td>1.144344</td>\n",
       "      <td>-0.452293</td>\n",
       "      <td>2.594505</td>\n",
       "      <td>0.910872</td>\n",
       "    </tr>\n",
       "    <tr>\n",
       "      <th>24</th>\n",
       "      <td>-1.306162</td>\n",
       "      <td>-0.873863</td>\n",
       "      <td>1.227765</td>\n",
       "      <td>-1.242658</td>\n",
       "      <td>-1.384549</td>\n",
       "    </tr>\n",
       "    <tr>\n",
       "      <th>30</th>\n",
       "      <td>-1.203378</td>\n",
       "      <td>1.144344</td>\n",
       "      <td>1.685963</td>\n",
       "      <td>-1.164349</td>\n",
       "      <td>-1.767119</td>\n",
       "    </tr>\n",
       "    <tr>\n",
       "      <th>107</th>\n",
       "      <td>0.218459</td>\n",
       "      <td>1.144344</td>\n",
       "      <td>-1.445055</td>\n",
       "      <td>0.166912</td>\n",
       "      <td>-0.160325</td>\n",
       "    </tr>\n",
       "    <tr>\n",
       "      <th>40</th>\n",
       "      <td>-1.032073</td>\n",
       "      <td>-0.873863</td>\n",
       "      <td>2.067794</td>\n",
       "      <td>-0.851111</td>\n",
       "      <td>-0.581152</td>\n",
       "    </tr>\n",
       "    <tr>\n",
       "      <th>63</th>\n",
       "      <td>-0.603808</td>\n",
       "      <td>1.144344</td>\n",
       "      <td>-1.521421</td>\n",
       "      <td>-0.459563</td>\n",
       "      <td>0.337017</td>\n",
       "    </tr>\n",
       "    <tr>\n",
       "      <th>90</th>\n",
       "      <td>-0.089891</td>\n",
       "      <td>1.144344</td>\n",
       "      <td>-1.063223</td>\n",
       "      <td>0.010293</td>\n",
       "      <td>0.069218</td>\n",
       "    </tr>\n",
       "    <tr>\n",
       "      <th>118</th>\n",
       "      <td>0.406895</td>\n",
       "      <td>-0.873863</td>\n",
       "      <td>-1.139590</td>\n",
       "      <td>0.401841</td>\n",
       "      <td>-0.810694</td>\n",
       "    </tr>\n",
       "    <tr>\n",
       "      <th>19</th>\n",
       "      <td>-1.391815</td>\n",
       "      <td>-0.873863</td>\n",
       "      <td>-0.223194</td>\n",
       "      <td>-1.438432</td>\n",
       "      <td>1.829040</td>\n",
       "    </tr>\n",
       "    <tr>\n",
       "      <th>170</th>\n",
       "      <td>1.297685</td>\n",
       "      <td>1.144344</td>\n",
       "      <td>1.533230</td>\n",
       "      <td>1.106626</td>\n",
       "      <td>-1.346292</td>\n",
       "    </tr>\n",
       "  </tbody>\n",
       "</table>\n",
       "</div>"
      ],
      "text/plain": [
       "     CustomerID    Gender       Age  Annual Income (k$)  \\\n",
       "113    0.321242 -0.873863  0.922300            0.284376   \n",
       "184    1.537513 -0.873863 -0.299560            1.693947   \n",
       "56    -0.757984 -0.873863  0.998666           -0.616182   \n",
       "89    -0.107022 -0.873863 -0.452293            0.010293   \n",
       "12    -1.511729 -0.873863  1.533230           -1.555896   \n",
       "37    -1.083464 -0.873863 -0.605026           -1.007730   \n",
       "18    -1.408945  1.144344  1.075032           -1.438432   \n",
       "125    0.526809  1.144344  0.082271            0.440995   \n",
       "163    1.177771  1.144344 -0.452293            1.067471   \n",
       "7     -1.597382 -0.873863 -1.139590           -1.634205   \n",
       "5     -1.631643 -0.873863 -1.215956           -1.673360   \n",
       "123    0.492548  1.144344  0.005905            0.440995   \n",
       "160    1.126379  1.144344  0.311370            1.028316   \n",
       "175    1.383338 -0.873863 -0.452293            1.459018   \n",
       "74    -0.381111 -0.873863 -1.139590           -0.224635   \n",
       "33    -1.151987  1.144344 -1.521421           -1.046884   \n",
       "176    1.400468  1.144344  0.616835            1.498173   \n",
       "180    1.468991 -0.873863  1.227765            1.615637   \n",
       "182    1.503252 -0.873863  0.235003            1.693947   \n",
       "71    -0.432503  1.144344 -0.910491           -0.224635   \n",
       "149    0.937943 -0.873863 -0.834124            0.715078   \n",
       "155    1.040726 -0.873863 -0.681392            0.754233   \n",
       "177    1.417599 -0.873863 -0.681392            1.498173   \n",
       "108    0.235590 -0.873863 -1.521421            0.206067   \n",
       "131    0.629593  1.144344 -0.452293            0.519305   \n",
       "179    1.451860  1.144344 -0.605026            1.537328   \n",
       "178    1.434729 -0.873863  0.235003            1.537328   \n",
       "45    -0.946420 -0.873863 -1.063223           -0.811956   \n",
       "22    -1.340423 -0.873863  0.616835           -1.360122   \n",
       "154    1.023596 -0.873863  1.380498            0.754233   \n",
       "98     0.047153  1.144344 -0.910491            0.088603   \n",
       "44    -0.963550 -0.873863  0.845934           -0.811956   \n",
       "122    0.475418  1.144344  1.609596            0.440995   \n",
       "4     -1.648773 -0.873863 -0.528659           -1.673360   \n",
       "61    -0.638070 -0.873863  1.227765           -0.498718   \n",
       "193    1.691688  1.144344 -0.605026           -1.164349   \n",
       "92    -0.055630 -0.873863 -0.834124            0.010293   \n",
       "169    1.280554 -0.873863 -0.605026            1.106626   \n",
       "26    -1.271901 -0.873863  0.540469           -1.242658   \n",
       "55    -0.775114  1.144344  0.693201           -0.655337   \n",
       "162    1.160640 -0.873863 -0.146828            1.067471   \n",
       "138    0.749507  1.144344 -0.986857            0.675924   \n",
       "8     -1.580251  1.144344  1.991428           -1.595051   \n",
       "129    0.595332 -0.873863 -0.681392            0.519305   \n",
       "141    0.800898 -0.873863 -0.452293            0.675924   \n",
       "66    -0.535286 -0.873863 -0.452293           -0.459563   \n",
       "93    -0.038500  1.144344  0.769567            0.049448   \n",
       "60    -0.655200 -0.873863  2.220527           -0.498718   \n",
       "145    0.869421  1.144344  0.082271            0.715078   \n",
       "191    1.657427  1.144344 -0.452293            2.594505   \n",
       "24    -1.306162 -0.873863  1.227765           -1.242658   \n",
       "30    -1.203378  1.144344  1.685963           -1.164349   \n",
       "107    0.218459  1.144344 -1.445055            0.166912   \n",
       "40    -1.032073 -0.873863  2.067794           -0.851111   \n",
       "63    -0.603808  1.144344 -1.521421           -0.459563   \n",
       "90    -0.089891  1.144344 -1.063223            0.010293   \n",
       "118    0.406895 -0.873863 -1.139590            0.401841   \n",
       "19    -1.391815 -0.873863 -0.223194           -1.438432   \n",
       "170    1.297685  1.144344  1.533230            1.106626   \n",
       "\n",
       "     Spending Score (1-100)  \n",
       "113                0.260503  \n",
       "184               -1.040236  \n",
       "56                -0.007296  \n",
       "89                -0.313353  \n",
       "12                -1.346292  \n",
       "37                 0.872615  \n",
       "18                -0.810694  \n",
       "125                0.949129  \n",
       "163                0.490045  \n",
       "7                  1.676012  \n",
       "5                  0.987386  \n",
       "123                0.949129  \n",
       "160               -1.155007  \n",
       "175                1.369956  \n",
       "74                 0.069218  \n",
       "33                 1.599498  \n",
       "176               -1.346292  \n",
       "180               -1.001979  \n",
       "182               -1.269778  \n",
       "71                 0.145732  \n",
       "149                1.484727  \n",
       "155                1.255185  \n",
       "177                1.446470  \n",
       "108               -0.083810  \n",
       "131                0.872615  \n",
       "179                1.790783  \n",
       "178               -0.428124  \n",
       "45                 0.566559  \n",
       "22                -1.728862  \n",
       "154               -0.581152  \n",
       "98                 0.183989  \n",
       "44                -0.848951  \n",
       "122               -1.499320  \n",
       "4                 -0.389867  \n",
       "61                 0.337017  \n",
       "193                1.255185  \n",
       "92                -0.007296  \n",
       "169                1.369956  \n",
       "26                -0.695923  \n",
       "55                -0.351610  \n",
       "162               -0.887208  \n",
       "138               -1.461063  \n",
       "8                 -1.805376  \n",
       "129                1.446470  \n",
       "141                0.910872  \n",
       "66                -0.122067  \n",
       "93                -0.313353  \n",
       "60                 0.069218  \n",
       "145                1.446470  \n",
       "191                0.910872  \n",
       "24                -1.384549  \n",
       "30                -1.767119  \n",
       "107               -0.160325  \n",
       "40                -0.581152  \n",
       "63                 0.337017  \n",
       "90                 0.069218  \n",
       "118               -0.810694  \n",
       "19                 1.829040  \n",
       "170               -1.346292  "
      ]
     },
     "execution_count": 75,
     "metadata": {},
     "output_type": "execute_result"
    }
   ],
   "source": [
    "X_test"
   ]
  },
  {
   "cell_type": "markdown",
   "id": "67e3ed44",
   "metadata": {},
   "source": [
    "# Building the model"
   ]
  },
  {
   "cell_type": "code",
   "execution_count": 76,
   "id": "95f958f0",
   "metadata": {},
   "outputs": [],
   "source": [
    "from sklearn.linear_model import Ridge\n",
    "from sklearn.linear_model import Lasso"
   ]
  },
  {
   "cell_type": "code",
   "execution_count": 77,
   "id": "7d0d329a",
   "metadata": {},
   "outputs": [],
   "source": [
    "ridge = Ridge()\n",
    "lasso = Lasso()"
   ]
  },
  {
   "cell_type": "code",
   "execution_count": 78,
   "id": "f6f613d5",
   "metadata": {},
   "outputs": [
    {
     "data": {
      "text/plain": [
       "Ridge()"
      ]
     },
     "execution_count": 78,
     "metadata": {},
     "output_type": "execute_result"
    }
   ],
   "source": [
    "ridge.fit(X_train,y_train)"
   ]
  },
  {
   "cell_type": "code",
   "execution_count": 79,
   "id": "eb3ed1e2",
   "metadata": {},
   "outputs": [
    {
     "data": {
      "text/plain": [
       "Lasso()"
      ]
     },
     "execution_count": 79,
     "metadata": {},
     "output_type": "execute_result"
    }
   ],
   "source": [
    "lasso.fit(X_train,y_train)"
   ]
  },
  {
   "cell_type": "markdown",
   "id": "587765c5",
   "metadata": {},
   "source": [
    "# Training and Testing the model"
   ]
  },
  {
   "cell_type": "code",
   "execution_count": 80,
   "id": "f25cfb54",
   "metadata": {},
   "outputs": [
    {
     "data": {
      "text/plain": [
       "array([3.7826983 , 2.7326186 , 4.08400926, 2.83597222, 3.15624685,\n",
       "       3.58075939, 3.56096867, 4.03633851, 3.61003224, 3.10526438,\n",
       "       4.31175306, 3.53049982, 4.08941851, 2.94080981, 3.02996245,\n",
       "       3.51306631, 3.42640992, 2.64764898, 3.35149848, 3.01917924,\n",
       "       2.73973155, 2.91895581, 3.49854084, 3.97915576, 3.24059872,\n",
       "       2.94049186, 2.36106978, 3.22579945, 3.24105615, 3.87949265,\n",
       "       4.45259075, 4.20800432, 4.21404763, 4.10676531, 4.41016616,\n",
       "       4.07002473, 2.69072795, 3.0976855 , 3.87530968, 3.73022806,\n",
       "       3.64783602, 2.97152558, 4.06342716, 3.22205259, 2.78001622,\n",
       "       3.04330553, 3.05361655, 3.05676861, 3.00508596, 3.97744659,\n",
       "       3.11181901, 4.47884133, 3.75930048, 2.98973891, 3.25061807,\n",
       "       2.89306241, 3.29590618, 3.0159374 , 3.8039498 , 3.02133191,\n",
       "       2.91986957, 3.64943646, 7.13853667, 3.79452608, 2.68688214,\n",
       "       2.75297308, 2.96994676, 3.31451093, 4.26728223, 3.87724905,\n",
       "       4.3493786 , 4.44334456, 4.70240156, 3.20869834, 4.50049025,\n",
       "       2.81041539, 3.85025206, 3.41079254, 3.1371441 , 3.12433865,\n",
       "       3.59985778, 3.1042319 , 3.77711656, 4.39297025, 2.77431273,\n",
       "       3.95375045, 4.36753504, 4.01997966, 3.29345028, 2.78883818,\n",
       "       3.97857898, 2.72067253, 4.44966262, 4.28628338, 2.60239463,\n",
       "       2.75911412, 4.05634759, 4.36370587, 3.14188413, 4.28135394,\n",
       "       3.9717889 , 4.70868199, 2.64254229, 4.05403803, 4.32699235,\n",
       "       4.12779051, 3.09945329, 3.46342874, 2.93748459, 3.11950064,\n",
       "       3.72244636, 3.97249136, 3.4734408 , 2.97075029, 3.37534458,\n",
       "       3.09355781, 4.58337825, 3.29594357, 4.1643122 , 4.11743579,\n",
       "       4.27544663, 3.10909549, 2.85920333, 3.96605729, 3.25409415,\n",
       "       2.83978046, 3.25701217, 2.73801019, 3.2019474 , 2.83747283,\n",
       "       3.25279485, 2.98543154, 3.86590511, 3.06593442, 3.98331816])"
      ]
     },
     "execution_count": 80,
     "metadata": {},
     "output_type": "execute_result"
    }
   ],
   "source": [
    "y_train_pred = ridge.predict(X_train)\n",
    "y_train_pred"
   ]
  },
  {
   "cell_type": "code",
   "execution_count": 81,
   "id": "62c8f4f3",
   "metadata": {},
   "outputs": [
    {
     "data": {
      "text/plain": [
       "array([3.47353492, 4.19820557, 2.73085853, 3.41730881, 2.36870954,\n",
       "       2.99198788, 2.68019628, 3.98342826, 4.46100553, 2.95370359,\n",
       "       2.95024589, 3.95223343, 4.23328481, 4.24970468, 3.39880657,\n",
       "       3.30662656, 4.13038493, 3.82615024, 4.02642417, 3.43680937,\n",
       "       4.37147067, 4.44495752, 4.31582969, 3.97139176, 4.17900951,\n",
       "       4.47739275, 4.07816696, 3.11147053, 2.63949036, 3.93510632,\n",
       "       3.83605662, 2.64057897, 3.53959413, 2.75611243, 2.74740367,\n",
       "       7.2234037 , 3.57958193, 4.45350356, 2.65964861, 2.96878124,\n",
       "       4.19151589, 4.30522016, 2.36000449, 4.02666212, 4.1201819 ,\n",
       "       3.23301743, 3.36464225, 2.49582069, 4.22858514, 3.78045245,\n",
       "       2.44850621, 2.57805432, 4.12576256, 2.30505928, 3.54442938,\n",
       "       3.74545208, 3.94493123, 2.86403558, 4.1273334 ])"
      ]
     },
     "execution_count": 81,
     "metadata": {},
     "output_type": "execute_result"
    }
   ],
   "source": [
    "y_test_pred = ridge.predict(X_test)\n",
    "y_test_pred"
   ]
  },
  {
   "cell_type": "code",
   "execution_count": 82,
   "id": "5bad1c5d",
   "metadata": {},
   "outputs": [
    {
     "data": {
      "text/plain": [
       "array([3.52592593, 3.52592593, 3.52592593, 3.52592593, 3.52592593,\n",
       "       3.52592593, 3.52592593, 3.52592593, 3.52592593, 3.52592593,\n",
       "       3.52592593, 3.52592593, 3.52592593, 3.52592593, 3.52592593,\n",
       "       3.52592593, 3.52592593, 3.52592593, 3.52592593, 3.52592593,\n",
       "       3.52592593, 3.52592593, 3.52592593, 3.52592593, 3.52592593,\n",
       "       3.52592593, 3.52592593, 3.52592593, 3.52592593, 3.52592593,\n",
       "       3.52592593, 3.52592593, 3.52592593, 3.52592593, 3.52592593,\n",
       "       3.52592593, 3.52592593, 3.52592593, 3.52592593, 3.52592593,\n",
       "       3.52592593, 3.52592593, 3.52592593, 3.52592593, 3.52592593,\n",
       "       3.52592593, 3.52592593, 3.52592593, 3.52592593, 3.52592593,\n",
       "       3.52592593, 3.52592593, 3.52592593, 3.52592593, 3.52592593,\n",
       "       3.52592593, 3.52592593, 3.52592593, 3.52592593, 3.52592593,\n",
       "       3.52592593, 3.52592593, 3.52592593, 3.52592593, 3.52592593,\n",
       "       3.52592593, 3.52592593, 3.52592593, 3.52592593, 3.52592593,\n",
       "       3.52592593, 3.52592593, 3.52592593, 3.52592593, 3.52592593,\n",
       "       3.52592593, 3.52592593, 3.52592593, 3.52592593, 3.52592593,\n",
       "       3.52592593, 3.52592593, 3.52592593, 3.52592593, 3.52592593,\n",
       "       3.52592593, 3.52592593, 3.52592593, 3.52592593, 3.52592593,\n",
       "       3.52592593, 3.52592593, 3.52592593, 3.52592593, 3.52592593,\n",
       "       3.52592593, 3.52592593, 3.52592593, 3.52592593, 3.52592593,\n",
       "       3.52592593, 3.52592593, 3.52592593, 3.52592593, 3.52592593,\n",
       "       3.52592593, 3.52592593, 3.52592593, 3.52592593, 3.52592593,\n",
       "       3.52592593, 3.52592593, 3.52592593, 3.52592593, 3.52592593,\n",
       "       3.52592593, 3.52592593, 3.52592593, 3.52592593, 3.52592593,\n",
       "       3.52592593, 3.52592593, 3.52592593, 3.52592593, 3.52592593,\n",
       "       3.52592593, 3.52592593, 3.52592593, 3.52592593, 3.52592593,\n",
       "       3.52592593, 3.52592593, 3.52592593, 3.52592593, 3.52592593])"
      ]
     },
     "execution_count": 82,
     "metadata": {},
     "output_type": "execute_result"
    }
   ],
   "source": [
    "y_train_pred1 = lasso.predict(X_train)\n",
    "y_train_pred1"
   ]
  },
  {
   "cell_type": "code",
   "execution_count": 83,
   "id": "5c874252",
   "metadata": {},
   "outputs": [
    {
     "data": {
      "text/plain": [
       "array([3.52592593, 3.52592593, 3.52592593, 3.52592593, 3.52592593,\n",
       "       3.52592593, 3.52592593, 3.52592593, 3.52592593, 3.52592593,\n",
       "       3.52592593, 3.52592593, 3.52592593, 3.52592593, 3.52592593,\n",
       "       3.52592593, 3.52592593, 3.52592593, 3.52592593, 3.52592593,\n",
       "       3.52592593, 3.52592593, 3.52592593, 3.52592593, 3.52592593,\n",
       "       3.52592593, 3.52592593, 3.52592593, 3.52592593, 3.52592593,\n",
       "       3.52592593, 3.52592593, 3.52592593, 3.52592593, 3.52592593,\n",
       "       3.52592593, 3.52592593, 3.52592593, 3.52592593, 3.52592593,\n",
       "       3.52592593, 3.52592593, 3.52592593, 3.52592593, 3.52592593,\n",
       "       3.52592593, 3.52592593, 3.52592593, 3.52592593, 3.52592593,\n",
       "       3.52592593, 3.52592593, 3.52592593, 3.52592593, 3.52592593,\n",
       "       3.52592593, 3.52592593, 3.52592593, 3.52592593])"
      ]
     },
     "execution_count": 83,
     "metadata": {},
     "output_type": "execute_result"
    }
   ],
   "source": [
    "y_test_pred1 = lasso.predict(X_test)\n",
    "y_test_pred1"
   ]
  },
  {
   "cell_type": "markdown",
   "id": "13f19b68",
   "metadata": {},
   "source": [
    "# Evaluation Metrics for Regression"
   ]
  },
  {
   "cell_type": "code",
   "execution_count": 84,
   "id": "e52a3b27",
   "metadata": {},
   "outputs": [],
   "source": [
    "from sklearn import metrics"
   ]
  },
  {
   "cell_type": "code",
   "execution_count": 85,
   "id": "3a816118",
   "metadata": {},
   "outputs": [
    {
     "data": {
      "text/plain": [
       "5.025870994950084"
      ]
     },
     "execution_count": 85,
     "metadata": {},
     "output_type": "execute_result"
    }
   ],
   "source": [
    "# MSE\n",
    "\n",
    "# ridge mse\n",
    "metrics.mean_squared_error(y_test,y_test_pred)"
   ]
  },
  {
   "cell_type": "code",
   "execution_count": 86,
   "id": "222f550f",
   "metadata": {},
   "outputs": [
    {
     "data": {
      "text/plain": [
       "4.6275083118272065"
      ]
     },
     "execution_count": 86,
     "metadata": {},
     "output_type": "execute_result"
    }
   ],
   "source": [
    "# lasso mse\n",
    "metrics.mean_squared_error(y_test,y_test_pred1)"
   ]
  },
  {
   "cell_type": "code",
   "execution_count": 87,
   "id": "a5d5663d",
   "metadata": {},
   "outputs": [
    {
     "data": {
      "text/plain": [
       "2.2418454440371405"
      ]
     },
     "execution_count": 87,
     "metadata": {},
     "output_type": "execute_result"
    }
   ],
   "source": [
    "# RMSE\n",
    "\n",
    "# ridge rmse\n",
    "np.sqrt(metrics.mean_squared_error(y_test,y_test_pred))"
   ]
  },
  {
   "cell_type": "code",
   "execution_count": 88,
   "id": "5d00286b",
   "metadata": {},
   "outputs": [
    {
     "data": {
      "text/plain": [
       "2.1511644083675256"
      ]
     },
     "execution_count": 88,
     "metadata": {},
     "output_type": "execute_result"
    }
   ],
   "source": [
    "# lasso rmse\n",
    "np.sqrt(metrics.mean_squared_error(y_test,y_test_pred1))"
   ]
  },
  {
   "cell_type": "code",
   "execution_count": 89,
   "id": "bcb6eded",
   "metadata": {},
   "outputs": [
    {
     "data": {
      "text/plain": [
       "0.09589037938867517"
      ]
     },
     "execution_count": 89,
     "metadata": {},
     "output_type": "execute_result"
    }
   ],
   "source": [
    "# ridge training acc.\n",
    "\n",
    "metrics.r2_score(y_train,y_train_pred)"
   ]
  },
  {
   "cell_type": "code",
   "execution_count": 90,
   "id": "d38aa038",
   "metadata": {},
   "outputs": [
    {
     "data": {
      "text/plain": [
       "-0.08854261656428841"
      ]
     },
     "execution_count": 90,
     "metadata": {},
     "output_type": "execute_result"
    }
   ],
   "source": [
    "# testing acc. of ridge\n",
    "\n",
    "metrics.r2_score(y_test,y_test_pred)"
   ]
  },
  {
   "cell_type": "code",
   "execution_count": 91,
   "id": "d8e0424a",
   "metadata": {},
   "outputs": [
    {
     "data": {
      "text/plain": [
       "0.0"
      ]
     },
     "execution_count": 91,
     "metadata": {},
     "output_type": "execute_result"
    }
   ],
   "source": [
    "# lasso training acc.\n",
    "\n",
    "metrics.r2_score(y_train,y_train_pred1)"
   ]
  },
  {
   "cell_type": "code",
   "execution_count": 92,
   "id": "4c865278",
   "metadata": {},
   "outputs": [
    {
     "data": {
      "text/plain": [
       "-0.0022620976524705405"
      ]
     },
     "execution_count": 92,
     "metadata": {},
     "output_type": "execute_result"
    }
   ],
   "source": [
    "# testing acc. of ridge\n",
    "\n",
    "metrics.r2_score(y_test,y_test_pred1)"
   ]
  }
 ],
 "metadata": {
  "kernelspec": {
   "display_name": "Python 3 (ipykernel)",
   "language": "python",
   "name": "python3"
  },
  "language_info": {
   "codemirror_mode": {
    "name": "ipython",
    "version": 3
   },
   "file_extension": ".py",
   "mimetype": "text/x-python",
   "name": "python",
   "nbconvert_exporter": "python",
   "pygments_lexer": "ipython3",
   "version": "3.9.12"
  }
 },
 "nbformat": 4,
 "nbformat_minor": 5
}
