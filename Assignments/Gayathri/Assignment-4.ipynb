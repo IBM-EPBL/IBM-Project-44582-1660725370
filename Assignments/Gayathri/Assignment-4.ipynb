{
 "cells": [
  {
   "cell_type": "markdown",
   "id": "45ac11d6",
   "metadata": {},
   "source": [
    "## Loading the Dataset"
   ]
  },
  {
   "cell_type": "code",
   "execution_count": 4,
   "id": "0937a893",
   "metadata": {},
   "outputs": [],
   "source": [
    "import pandas as pd"
   ]
  },
  {
   "cell_type": "code",
   "execution_count": 106,
   "id": "c8467f01",
   "metadata": {},
   "outputs": [],
   "source": [
    "df = pd.read_csv(\"Mall_Customers.csv\")"
   ]
  },
  {
   "cell_type": "code",
   "execution_count": 107,
   "id": "9f49e76d",
   "metadata": {},
   "outputs": [
    {
     "data": {
      "text/html": [
       "<div>\n",
       "<style scoped>\n",
       "    .dataframe tbody tr th:only-of-type {\n",
       "        vertical-align: middle;\n",
       "    }\n",
       "\n",
       "    .dataframe tbody tr th {\n",
       "        vertical-align: top;\n",
       "    }\n",
       "\n",
       "    .dataframe thead th {\n",
       "        text-align: right;\n",
       "    }\n",
       "</style>\n",
       "<table border=\"1\" class=\"dataframe\">\n",
       "  <thead>\n",
       "    <tr style=\"text-align: right;\">\n",
       "      <th></th>\n",
       "      <th>CustomerID</th>\n",
       "      <th>Gender</th>\n",
       "      <th>Age</th>\n",
       "      <th>Annual Income (k$)</th>\n",
       "      <th>Spending Score (1-100)</th>\n",
       "    </tr>\n",
       "  </thead>\n",
       "  <tbody>\n",
       "    <tr>\n",
       "      <th>0</th>\n",
       "      <td>1</td>\n",
       "      <td>Male</td>\n",
       "      <td>19</td>\n",
       "      <td>15</td>\n",
       "      <td>39</td>\n",
       "    </tr>\n",
       "    <tr>\n",
       "      <th>1</th>\n",
       "      <td>2</td>\n",
       "      <td>Male</td>\n",
       "      <td>21</td>\n",
       "      <td>15</td>\n",
       "      <td>81</td>\n",
       "    </tr>\n",
       "    <tr>\n",
       "      <th>2</th>\n",
       "      <td>3</td>\n",
       "      <td>Female</td>\n",
       "      <td>20</td>\n",
       "      <td>16</td>\n",
       "      <td>6</td>\n",
       "    </tr>\n",
       "    <tr>\n",
       "      <th>3</th>\n",
       "      <td>4</td>\n",
       "      <td>Female</td>\n",
       "      <td>23</td>\n",
       "      <td>16</td>\n",
       "      <td>77</td>\n",
       "    </tr>\n",
       "    <tr>\n",
       "      <th>4</th>\n",
       "      <td>5</td>\n",
       "      <td>Female</td>\n",
       "      <td>31</td>\n",
       "      <td>17</td>\n",
       "      <td>40</td>\n",
       "    </tr>\n",
       "    <tr>\n",
       "      <th>...</th>\n",
       "      <td>...</td>\n",
       "      <td>...</td>\n",
       "      <td>...</td>\n",
       "      <td>...</td>\n",
       "      <td>...</td>\n",
       "    </tr>\n",
       "    <tr>\n",
       "      <th>195</th>\n",
       "      <td>196</td>\n",
       "      <td>Female</td>\n",
       "      <td>35</td>\n",
       "      <td>120</td>\n",
       "      <td>79</td>\n",
       "    </tr>\n",
       "    <tr>\n",
       "      <th>196</th>\n",
       "      <td>197</td>\n",
       "      <td>Female</td>\n",
       "      <td>45</td>\n",
       "      <td>126</td>\n",
       "      <td>28</td>\n",
       "    </tr>\n",
       "    <tr>\n",
       "      <th>197</th>\n",
       "      <td>198</td>\n",
       "      <td>Male</td>\n",
       "      <td>32</td>\n",
       "      <td>126</td>\n",
       "      <td>74</td>\n",
       "    </tr>\n",
       "    <tr>\n",
       "      <th>198</th>\n",
       "      <td>199</td>\n",
       "      <td>Male</td>\n",
       "      <td>32</td>\n",
       "      <td>137</td>\n",
       "      <td>18</td>\n",
       "    </tr>\n",
       "    <tr>\n",
       "      <th>199</th>\n",
       "      <td>200</td>\n",
       "      <td>Male</td>\n",
       "      <td>30</td>\n",
       "      <td>137</td>\n",
       "      <td>83</td>\n",
       "    </tr>\n",
       "  </tbody>\n",
       "</table>\n",
       "<p>200 rows × 5 columns</p>\n",
       "</div>"
      ],
      "text/plain": [
       "     CustomerID  Gender  Age  Annual Income (k$)  Spending Score (1-100)\n",
       "0             1    Male   19                  15                      39\n",
       "1             2    Male   21                  15                      81\n",
       "2             3  Female   20                  16                       6\n",
       "3             4  Female   23                  16                      77\n",
       "4             5  Female   31                  17                      40\n",
       "..          ...     ...  ...                 ...                     ...\n",
       "195         196  Female   35                 120                      79\n",
       "196         197  Female   45                 126                      28\n",
       "197         198    Male   32                 126                      74\n",
       "198         199    Male   32                 137                      18\n",
       "199         200    Male   30                 137                      83\n",
       "\n",
       "[200 rows x 5 columns]"
      ]
     },
     "execution_count": 107,
     "metadata": {},
     "output_type": "execute_result"
    }
   ],
   "source": [
    "df"
   ]
  },
  {
   "cell_type": "markdown",
   "id": "80fbadbb",
   "metadata": {},
   "source": [
    "## Visualizations"
   ]
  },
  {
   "cell_type": "markdown",
   "id": "a89a4afe",
   "metadata": {},
   "source": [
    "## Univariate Analysis"
   ]
  },
  {
   "cell_type": "code",
   "execution_count": 7,
   "id": "52b4ae69",
   "metadata": {},
   "outputs": [],
   "source": [
    "import matplotlib.pyplot as plt\n",
    "from matplotlib import rcParams"
   ]
  },
  {
   "cell_type": "code",
   "execution_count": 8,
   "id": "6223ae5c",
   "metadata": {},
   "outputs": [],
   "source": [
    "import seaborn as sns"
   ]
  },
  {
   "cell_type": "markdown",
   "id": "c384ec8d",
   "metadata": {},
   "source": [
    "### Line Plot"
   ]
  },
  {
   "cell_type": "code",
   "execution_count": 9,
   "id": "84a27966",
   "metadata": {},
   "outputs": [],
   "source": [
    "df1=df.head(100)"
   ]
  },
  {
   "cell_type": "code",
   "execution_count": 10,
   "id": "837cd5ce",
   "metadata": {},
   "outputs": [
    {
     "data": {
      "text/html": [
       "<div>\n",
       "<style scoped>\n",
       "    .dataframe tbody tr th:only-of-type {\n",
       "        vertical-align: middle;\n",
       "    }\n",
       "\n",
       "    .dataframe tbody tr th {\n",
       "        vertical-align: top;\n",
       "    }\n",
       "\n",
       "    .dataframe thead th {\n",
       "        text-align: right;\n",
       "    }\n",
       "</style>\n",
       "<table border=\"1\" class=\"dataframe\">\n",
       "  <thead>\n",
       "    <tr style=\"text-align: right;\">\n",
       "      <th></th>\n",
       "      <th>CustomerID</th>\n",
       "      <th>Gender</th>\n",
       "      <th>Age</th>\n",
       "      <th>Annual Income (k$)</th>\n",
       "      <th>Spending Score (1-100)</th>\n",
       "    </tr>\n",
       "  </thead>\n",
       "  <tbody>\n",
       "    <tr>\n",
       "      <th>0</th>\n",
       "      <td>1</td>\n",
       "      <td>Male</td>\n",
       "      <td>19</td>\n",
       "      <td>15</td>\n",
       "      <td>39</td>\n",
       "    </tr>\n",
       "    <tr>\n",
       "      <th>1</th>\n",
       "      <td>2</td>\n",
       "      <td>Male</td>\n",
       "      <td>21</td>\n",
       "      <td>15</td>\n",
       "      <td>81</td>\n",
       "    </tr>\n",
       "    <tr>\n",
       "      <th>2</th>\n",
       "      <td>3</td>\n",
       "      <td>Female</td>\n",
       "      <td>20</td>\n",
       "      <td>16</td>\n",
       "      <td>6</td>\n",
       "    </tr>\n",
       "    <tr>\n",
       "      <th>3</th>\n",
       "      <td>4</td>\n",
       "      <td>Female</td>\n",
       "      <td>23</td>\n",
       "      <td>16</td>\n",
       "      <td>77</td>\n",
       "    </tr>\n",
       "    <tr>\n",
       "      <th>4</th>\n",
       "      <td>5</td>\n",
       "      <td>Female</td>\n",
       "      <td>31</td>\n",
       "      <td>17</td>\n",
       "      <td>40</td>\n",
       "    </tr>\n",
       "    <tr>\n",
       "      <th>...</th>\n",
       "      <td>...</td>\n",
       "      <td>...</td>\n",
       "      <td>...</td>\n",
       "      <td>...</td>\n",
       "      <td>...</td>\n",
       "    </tr>\n",
       "    <tr>\n",
       "      <th>95</th>\n",
       "      <td>96</td>\n",
       "      <td>Male</td>\n",
       "      <td>24</td>\n",
       "      <td>60</td>\n",
       "      <td>52</td>\n",
       "    </tr>\n",
       "    <tr>\n",
       "      <th>96</th>\n",
       "      <td>97</td>\n",
       "      <td>Female</td>\n",
       "      <td>47</td>\n",
       "      <td>60</td>\n",
       "      <td>47</td>\n",
       "    </tr>\n",
       "    <tr>\n",
       "      <th>97</th>\n",
       "      <td>98</td>\n",
       "      <td>Female</td>\n",
       "      <td>27</td>\n",
       "      <td>60</td>\n",
       "      <td>50</td>\n",
       "    </tr>\n",
       "    <tr>\n",
       "      <th>98</th>\n",
       "      <td>99</td>\n",
       "      <td>Male</td>\n",
       "      <td>48</td>\n",
       "      <td>61</td>\n",
       "      <td>42</td>\n",
       "    </tr>\n",
       "    <tr>\n",
       "      <th>99</th>\n",
       "      <td>100</td>\n",
       "      <td>Male</td>\n",
       "      <td>20</td>\n",
       "      <td>61</td>\n",
       "      <td>49</td>\n",
       "    </tr>\n",
       "  </tbody>\n",
       "</table>\n",
       "<p>100 rows × 5 columns</p>\n",
       "</div>"
      ],
      "text/plain": [
       "    CustomerID  Gender  Age  Annual Income (k$)  Spending Score (1-100)\n",
       "0            1    Male   19                  15                      39\n",
       "1            2    Male   21                  15                      81\n",
       "2            3  Female   20                  16                       6\n",
       "3            4  Female   23                  16                      77\n",
       "4            5  Female   31                  17                      40\n",
       "..         ...     ...  ...                 ...                     ...\n",
       "95          96    Male   24                  60                      52\n",
       "96          97  Female   47                  60                      47\n",
       "97          98  Female   27                  60                      50\n",
       "98          99    Male   48                  61                      42\n",
       "99         100    Male   20                  61                      49\n",
       "\n",
       "[100 rows x 5 columns]"
      ]
     },
     "execution_count": 10,
     "metadata": {},
     "output_type": "execute_result"
    }
   ],
   "source": [
    "df1"
   ]
  },
  {
   "cell_type": "code",
   "execution_count": 11,
   "id": "fc35fb5c",
   "metadata": {},
   "outputs": [
    {
     "data": {
      "text/plain": [
       "<AxesSubplot:>"
      ]
     },
     "execution_count": 11,
     "metadata": {},
     "output_type": "execute_result"
    },
    {
     "data": {
      "image/png": "[encoded data removed]",
      "text/plain": [
       "<Figure size 432x288 with 1 Axes>"
      ]
     },
     "metadata": {
      "needs_background": "light"
     },
     "output_type": "display_data"
    }
   ],
   "source": [
    "df1.Age.plot()"
   ]
  },
  {
   "cell_type": "markdown",
   "id": "a0f2241d",
   "metadata": {},
   "source": [
    "### Dist Plot"
   ]
  },
  {
   "cell_type": "code",
   "execution_count": 12,
   "id": "be3f3b0b",
   "metadata": {},
   "outputs": [
    {
     "name": "stderr",
     "output_type": "stream",
     "text": [
      "C:\\ProgramData\\Anaconda3\\lib\\site-packages\\seaborn\\distributions.py:2619: FutureWarning: `distplot` is a deprecated function and will be removed in a future version. Please adapt your code to use either `displot` (a figure-level function with similar flexibility) or `histplot` (an axes-level function for histograms).\n",
      "  warnings.warn(msg, FutureWarning)\n"
     ]
    },
    {
     "data": {
      "text/plain": [
       "<AxesSubplot:xlabel='Annual Income (k$)', ylabel='Density'>"
      ]
     },
     "execution_count": 12,
     "metadata": {},
     "output_type": "execute_result"
    },
    {
     "data": {
      "image/png": "[encoded data removed]",
      "text/plain": [
       "<Figure size 432x288 with 1 Axes>"
      ]
     },
     "metadata": {
      "needs_background": "light"
     },
     "output_type": "display_data"
    }
   ],
   "source": [
    "sns.distplot(df.iloc[:,3])"
   ]
  },
  {
   "cell_type": "markdown",
   "id": "b203384e",
   "metadata": {},
   "source": [
    "### Pie Chart"
   ]
  },
  {
   "cell_type": "code",
   "execution_count": 13,
   "id": "be13488b",
   "metadata": {},
   "outputs": [
    {
     "data": {
      "image/png": "[encoded data removed]",
      "text/plain": [
       "<Figure size 432x288 with 1 Axes>"
      ]
     },
     "metadata": {},
     "output_type": "display_data"
    }
   ],
   "source": [
    "plt.pie(df1.Gender.value_counts(),[0.1,0],colors=['red','blue'],labels=['M','F'],autopct=\"%1.1f%%\")\n",
    "plt.title('Gender')\n",
    "plt.show()"
   ]
  },
  {
   "cell_type": "markdown",
   "id": "4707187c",
   "metadata": {},
   "source": [
    "### Histogram"
   ]
  },
  {
   "cell_type": "code",
   "execution_count": 14,
   "id": "8c0bd83e",
   "metadata": {},
   "outputs": [
    {
     "data": {
      "text/plain": [
       "(array([12., 10.,  6.,  8.,  4., 12., 12., 10., 12., 14.]),\n",
       " array([15. , 19.6, 24.2, 28.8, 33.4, 38. , 42.6, 47.2, 51.8, 56.4, 61. ]),\n",
       " <BarContainer object of 10 artists>)"
      ]
     },
     "execution_count": 14,
     "metadata": {},
     "output_type": "execute_result"
    },
    {
     "data": {
      "image/png": "[encoded data removed]",
      "text/plain": [
       "<Figure size 432x288 with 1 Axes>"
      ]
     },
     "metadata": {
      "needs_background": "light"
     },
     "output_type": "display_data"
    }
   ],
   "source": [
    "plt.hist(df1.iloc[:,3])"
   ]
  },
  {
   "cell_type": "markdown",
   "id": "61953a08",
   "metadata": {},
   "source": [
    "## Bivariate Analysis"
   ]
  },
  {
   "cell_type": "markdown",
   "id": "94346087",
   "metadata": {},
   "source": [
    "### Bar Graph"
   ]
  },
  {
   "cell_type": "code",
   "execution_count": 15,
   "id": "7d810029",
   "metadata": {},
   "outputs": [
    {
     "name": "stderr",
     "output_type": "stream",
     "text": [
      "C:\\ProgramData\\Anaconda3\\lib\\site-packages\\seaborn\\_decorators.py:36: FutureWarning: Pass the following variables as keyword args: x, y. From version 0.12, the only valid positional argument will be `data`, and passing other arguments without an explicit keyword will result in an error or misinterpretation.\n",
      "  warnings.warn(\n"
     ]
    },
    {
     "data": {
      "text/plain": [
       "<AxesSubplot:xlabel='Age', ylabel='Annual Income (k$)'>"
      ]
     },
     "execution_count": 15,
     "metadata": {},
     "output_type": "execute_result"
    },
    {
     "data": {
      "image/png": "[encoded data removed]",
      "text/plain": [
       "<Figure size 1080x504 with 1 Axes>"
      ]
     },
     "metadata": {
      "needs_background": "light"
     },
     "output_type": "display_data"
    }
   ],
   "source": [
    "plt.figure(figsize=(15,7))\n",
    "sns.barplot(df1.Age,df1.iloc[:,3])"
   ]
  },
  {
   "cell_type": "markdown",
   "id": "5a5a8871",
   "metadata": {},
   "source": [
    "### Scatter plot"
   ]
  },
  {
   "cell_type": "code",
   "execution_count": 16,
   "id": "d5b68bd0",
   "metadata": {},
   "outputs": [
    {
     "name": "stderr",
     "output_type": "stream",
     "text": [
      "C:\\ProgramData\\Anaconda3\\lib\\site-packages\\seaborn\\_decorators.py:36: FutureWarning: Pass the following variables as keyword args: x, y. From version 0.12, the only valid positional argument will be `data`, and passing other arguments without an explicit keyword will result in an error or misinterpretation.\n",
      "  warnings.warn(\n"
     ]
    },
    {
     "data": {
      "text/plain": [
       "<AxesSubplot:xlabel='Age', ylabel='Annual Income (k$)'>"
      ]
     },
     "execution_count": 16,
     "metadata": {},
     "output_type": "execute_result"
    },
    {
     "data": {
      "image/png": "[encoded data removed]",
      "text/plain": [
       "<Figure size 432x288 with 1 Axes>"
      ]
     },
     "metadata": {
      "needs_background": "light"
     },
     "output_type": "display_data"
    }
   ],
   "source": [
    "sns.scatterplot(df1.Age,df1.iloc[:,3])"
   ]
  },
  {
   "cell_type": "markdown",
   "id": "e2add66e",
   "metadata": {},
   "source": [
    "### Box plot"
   ]
  },
  {
   "cell_type": "code",
   "execution_count": 17,
   "id": "4f0f6abb",
   "metadata": {},
   "outputs": [
    {
     "name": "stderr",
     "output_type": "stream",
     "text": [
      "C:\\ProgramData\\Anaconda3\\lib\\site-packages\\seaborn\\_decorators.py:36: FutureWarning: Pass the following variables as keyword args: x, y. From version 0.12, the only valid positional argument will be `data`, and passing other arguments without an explicit keyword will result in an error or misinterpretation.\n",
      "  warnings.warn(\n"
     ]
    },
    {
     "data": {
      "text/plain": [
       "<AxesSubplot:xlabel='Age', ylabel='Annual Income (k$)'>"
      ]
     },
     "execution_count": 17,
     "metadata": {},
     "output_type": "execute_result"
    },
    {
     "data": {
      "image/png": "[encoded data removed]",
      "text/plain": [
       "<Figure size 1080x504 with 1 Axes>"
      ]
     },
     "metadata": {
      "needs_background": "light"
     },
     "output_type": "display_data"
    }
   ],
   "source": [
    "plt.figure(figsize=(15,7))\n",
    "sns.boxplot(df1.Age,df1.iloc[:,3])"
   ]
  },
  {
   "cell_type": "markdown",
   "id": "2d6ef192",
   "metadata": {},
   "source": [
    "## Multivariate Analysis"
   ]
  },
  {
   "cell_type": "markdown",
   "id": "6c6f5c70",
   "metadata": {},
   "source": [
    "### Pair plot"
   ]
  },
  {
   "cell_type": "code",
   "execution_count": 18,
   "id": "bb3d1198",
   "metadata": {},
   "outputs": [
    {
     "data": {
      "text/plain": [
       "<seaborn.axisgrid.PairGrid at 0x1b94d24a2b0>"
      ]
     },
     "execution_count": 18,
     "metadata": {},
     "output_type": "execute_result"
    },
    {
     "data": {
      "image/png": "[encoded data removed]",
      "text/plain": [
       "<Figure size 720x720 with 20 Axes>"
      ]
     },
     "metadata": {
      "needs_background": "light"
     },
     "output_type": "display_data"
    }
   ],
   "source": [
    "sns.pairplot(df1)"
   ]
  },
  {
   "cell_type": "markdown",
   "id": "8172cf74",
   "metadata": {},
   "source": [
    "## Descriptive Statics"
   ]
  },
  {
   "cell_type": "code",
   "execution_count": 19,
   "id": "7cedb87a",
   "metadata": {},
   "outputs": [],
   "source": [
    "import numpy as np"
   ]
  },
  {
   "cell_type": "code",
   "execution_count": 20,
   "id": "391dbfc3",
   "metadata": {},
   "outputs": [
    {
     "data": {
      "text/html": [
       "<div>\n",
       "<style scoped>\n",
       "    .dataframe tbody tr th:only-of-type {\n",
       "        vertical-align: middle;\n",
       "    }\n",
       "\n",
       "    .dataframe tbody tr th {\n",
       "        vertical-align: top;\n",
       "    }\n",
       "\n",
       "    .dataframe thead th {\n",
       "        text-align: right;\n",
       "    }\n",
       "</style>\n",
       "<table border=\"1\" class=\"dataframe\">\n",
       "  <thead>\n",
       "    <tr style=\"text-align: right;\">\n",
       "      <th></th>\n",
       "      <th>CustomerID</th>\n",
       "      <th>Gender</th>\n",
       "      <th>Age</th>\n",
       "      <th>Annual Income (k$)</th>\n",
       "      <th>Spending Score (1-100)</th>\n",
       "    </tr>\n",
       "  </thead>\n",
       "  <tbody>\n",
       "    <tr>\n",
       "      <th>0</th>\n",
       "      <td>1</td>\n",
       "      <td>Male</td>\n",
       "      <td>19</td>\n",
       "      <td>15</td>\n",
       "      <td>39</td>\n",
       "    </tr>\n",
       "    <tr>\n",
       "      <th>1</th>\n",
       "      <td>2</td>\n",
       "      <td>Male</td>\n",
       "      <td>21</td>\n",
       "      <td>15</td>\n",
       "      <td>81</td>\n",
       "    </tr>\n",
       "    <tr>\n",
       "      <th>2</th>\n",
       "      <td>3</td>\n",
       "      <td>Female</td>\n",
       "      <td>20</td>\n",
       "      <td>16</td>\n",
       "      <td>6</td>\n",
       "    </tr>\n",
       "    <tr>\n",
       "      <th>3</th>\n",
       "      <td>4</td>\n",
       "      <td>Female</td>\n",
       "      <td>23</td>\n",
       "      <td>16</td>\n",
       "      <td>77</td>\n",
       "    </tr>\n",
       "    <tr>\n",
       "      <th>4</th>\n",
       "      <td>5</td>\n",
       "      <td>Female</td>\n",
       "      <td>31</td>\n",
       "      <td>17</td>\n",
       "      <td>40</td>\n",
       "    </tr>\n",
       "  </tbody>\n",
       "</table>\n",
       "</div>"
      ],
      "text/plain": [
       "   CustomerID  Gender  Age  Annual Income (k$)  Spending Score (1-100)\n",
       "0           1    Male   19                  15                      39\n",
       "1           2    Male   21                  15                      81\n",
       "2           3  Female   20                  16                       6\n",
       "3           4  Female   23                  16                      77\n",
       "4           5  Female   31                  17                      40"
      ]
     },
     "execution_count": 20,
     "metadata": {},
     "output_type": "execute_result"
    }
   ],
   "source": [
    "df.head()"
   ]
  },
  {
   "cell_type": "code",
   "execution_count": 21,
   "id": "3534fee8",
   "metadata": {},
   "outputs": [
    {
     "data": {
      "text/plain": [
       "(200, 5)"
      ]
     },
     "execution_count": 21,
     "metadata": {},
     "output_type": "execute_result"
    }
   ],
   "source": [
    "df.shape"
   ]
  },
  {
   "cell_type": "code",
   "execution_count": 22,
   "id": "7beec2f3",
   "metadata": {},
   "outputs": [
    {
     "name": "stdout",
     "output_type": "stream",
     "text": [
      "<class 'pandas.core.frame.DataFrame'>\n",
      "RangeIndex: 200 entries, 0 to 199\n",
      "Data columns (total 5 columns):\n",
      " #   Column                  Non-Null Count  Dtype \n",
      "---  ------                  --------------  ----- \n",
      " 0   CustomerID              200 non-null    int64 \n",
      " 1   Gender                  200 non-null    object\n",
      " 2   Age                     200 non-null    int64 \n",
      " 3   Annual Income (k$)      200 non-null    int64 \n",
      " 4   Spending Score (1-100)  200 non-null    int64 \n",
      "dtypes: int64(4), object(1)\n",
      "memory usage: 7.9+ KB\n"
     ]
    }
   ],
   "source": [
    "df.info()"
   ]
  },
  {
   "cell_type": "code",
   "execution_count": 23,
   "id": "1c1d39ef",
   "metadata": {},
   "outputs": [
    {
     "data": {
      "text/plain": [
       "CustomerID                False\n",
       "Gender                    False\n",
       "Age                       False\n",
       "Annual Income (k$)        False\n",
       "Spending Score (1-100)    False\n",
       "dtype: bool"
      ]
     },
     "execution_count": 23,
     "metadata": {},
     "output_type": "execute_result"
    }
   ],
   "source": [
    "df.isnull().any()"
   ]
  },
  {
   "cell_type": "code",
   "execution_count": 24,
   "id": "1c42df23",
   "metadata": {},
   "outputs": [
    {
     "data": {
      "text/plain": [
       "Female    112\n",
       "Male       88\n",
       "Name: Gender, dtype: int64"
      ]
     },
     "execution_count": 24,
     "metadata": {},
     "output_type": "execute_result"
    }
   ],
   "source": [
    "df.Gender.value_counts()"
   ]
  },
  {
   "cell_type": "code",
   "execution_count": 25,
   "id": "fca54dff",
   "metadata": {},
   "outputs": [
    {
     "data": {
      "text/html": [
       "<div>\n",
       "<style scoped>\n",
       "    .dataframe tbody tr th:only-of-type {\n",
       "        vertical-align: middle;\n",
       "    }\n",
       "\n",
       "    .dataframe tbody tr th {\n",
       "        vertical-align: top;\n",
       "    }\n",
       "\n",
       "    .dataframe thead th {\n",
       "        text-align: right;\n",
       "    }\n",
       "</style>\n",
       "<table border=\"1\" class=\"dataframe\">\n",
       "  <thead>\n",
       "    <tr style=\"text-align: right;\">\n",
       "      <th></th>\n",
       "      <th>CustomerID</th>\n",
       "      <th>Age</th>\n",
       "      <th>Annual Income (k$)</th>\n",
       "      <th>Spending Score (1-100)</th>\n",
       "    </tr>\n",
       "  </thead>\n",
       "  <tbody>\n",
       "    <tr>\n",
       "      <th>count</th>\n",
       "      <td>200.000000</td>\n",
       "      <td>200.000000</td>\n",
       "      <td>200.000000</td>\n",
       "      <td>200.000000</td>\n",
       "    </tr>\n",
       "    <tr>\n",
       "      <th>mean</th>\n",
       "      <td>100.500000</td>\n",
       "      <td>38.850000</td>\n",
       "      <td>60.560000</td>\n",
       "      <td>50.200000</td>\n",
       "    </tr>\n",
       "    <tr>\n",
       "      <th>std</th>\n",
       "      <td>57.879185</td>\n",
       "      <td>13.969007</td>\n",
       "      <td>26.264721</td>\n",
       "      <td>25.823522</td>\n",
       "    </tr>\n",
       "    <tr>\n",
       "      <th>min</th>\n",
       "      <td>1.000000</td>\n",
       "      <td>18.000000</td>\n",
       "      <td>15.000000</td>\n",
       "      <td>1.000000</td>\n",
       "    </tr>\n",
       "    <tr>\n",
       "      <th>25%</th>\n",
       "      <td>50.750000</td>\n",
       "      <td>28.750000</td>\n",
       "      <td>41.500000</td>\n",
       "      <td>34.750000</td>\n",
       "    </tr>\n",
       "    <tr>\n",
       "      <th>50%</th>\n",
       "      <td>100.500000</td>\n",
       "      <td>36.000000</td>\n",
       "      <td>61.500000</td>\n",
       "      <td>50.000000</td>\n",
       "    </tr>\n",
       "    <tr>\n",
       "      <th>75%</th>\n",
       "      <td>150.250000</td>\n",
       "      <td>49.000000</td>\n",
       "      <td>78.000000</td>\n",
       "      <td>73.000000</td>\n",
       "    </tr>\n",
       "    <tr>\n",
       "      <th>max</th>\n",
       "      <td>200.000000</td>\n",
       "      <td>70.000000</td>\n",
       "      <td>137.000000</td>\n",
       "      <td>99.000000</td>\n",
       "    </tr>\n",
       "  </tbody>\n",
       "</table>\n",
       "</div>"
      ],
      "text/plain": [
       "       CustomerID         Age  Annual Income (k$)  Spending Score (1-100)\n",
       "count  200.000000  200.000000          200.000000              200.000000\n",
       "mean   100.500000   38.850000           60.560000               50.200000\n",
       "std     57.879185   13.969007           26.264721               25.823522\n",
       "min      1.000000   18.000000           15.000000                1.000000\n",
       "25%     50.750000   28.750000           41.500000               34.750000\n",
       "50%    100.500000   36.000000           61.500000               50.000000\n",
       "75%    150.250000   49.000000           78.000000               73.000000\n",
       "max    200.000000   70.000000          137.000000               99.000000"
      ]
     },
     "execution_count": 25,
     "metadata": {},
     "output_type": "execute_result"
    }
   ],
   "source": [
    "df.describe()"
   ]
  },
  {
   "cell_type": "markdown",
   "id": "f450bc65",
   "metadata": {},
   "source": [
    "## Handling missing values"
   ]
  },
  {
   "cell_type": "code",
   "execution_count": 26,
   "id": "7ec0520c",
   "metadata": {},
   "outputs": [],
   "source": [
    "# for numerical column use mean or median for null value replacement\n",
    "# for categorical columns use mode for null value replacement"
   ]
  },
  {
   "cell_type": "code",
   "execution_count": 27,
   "id": "6e05b62b",
   "metadata": {},
   "outputs": [],
   "source": [
    "# incase the one of the column contains null values then you can go for this code for the replacement of the null value.\n",
    "\n",
    "# df['Age'].fillna(df['Age'].median(),inplace=True)\n",
    "#       or\n",
    "# df['Age'].fillna(df['Age'].mean(),inplace=True)"
   ]
  },
  {
   "cell_type": "markdown",
   "id": "f6c75a1f",
   "metadata": {},
   "source": [
    "## Finding and replacing the outliers"
   ]
  },
  {
   "cell_type": "markdown",
   "id": "9acb1223",
   "metadata": {},
   "source": [
    "### Outlier detection"
   ]
  },
  {
   "cell_type": "code",
   "execution_count": 28,
   "id": "2285a12d",
   "metadata": {},
   "outputs": [
    {
     "name": "stderr",
     "output_type": "stream",
     "text": [
      "C:\\ProgramData\\Anaconda3\\lib\\site-packages\\seaborn\\_decorators.py:36: FutureWarning: Pass the following variable as a keyword arg: x. From version 0.12, the only valid positional argument will be `data`, and passing other arguments without an explicit keyword will result in an error or misinterpretation.\n",
      "  warnings.warn(\n"
     ]
    },
    {
     "data": {
      "text/plain": [
       "<AxesSubplot:xlabel='Annual Income (k$)'>"
      ]
     },
     "execution_count": 28,
     "metadata": {},
     "output_type": "execute_result"
    },
    {
     "data": {
      "image/png": "[encoded data removed]",
      "text/plain": [
       "<Figure size 432x288 with 1 Axes>"
      ]
     },
     "metadata": {
      "needs_background": "light"
     },
     "output_type": "display_data"
    }
   ],
   "source": [
    "sns.boxplot(df.iloc[:,3])"
   ]
  },
  {
   "cell_type": "markdown",
   "id": "84ec70f0",
   "metadata": {},
   "source": [
    "### Outlier removal-IQR method"
   ]
  },
  {
   "cell_type": "code",
   "execution_count": 29,
   "id": "c6ccd0bf",
   "metadata": {},
   "outputs": [],
   "source": [
    "Q1 = df.iloc[:,3].quantile(0.25)\n",
    "Q3 = df.iloc[:,3].quantile(0.75)"
   ]
  },
  {
   "cell_type": "code",
   "execution_count": 30,
   "id": "2fce41e0",
   "metadata": {},
   "outputs": [],
   "source": [
    "IQR = Q3-Q1"
   ]
  },
  {
   "cell_type": "code",
   "execution_count": 31,
   "id": "a6d6be7e",
   "metadata": {},
   "outputs": [],
   "source": [
    "upper_limit = Q3 + 1.5*IQR\n",
    "lower_limit = Q1 - 1.5*IQR"
   ]
  },
  {
   "cell_type": "code",
   "execution_count": 32,
   "id": "a8d1ae92",
   "metadata": {},
   "outputs": [
    {
     "data": {
      "text/plain": [
       "132.75"
      ]
     },
     "execution_count": 32,
     "metadata": {},
     "output_type": "execute_result"
    }
   ],
   "source": [
    "upper_limit"
   ]
  },
  {
   "cell_type": "code",
   "execution_count": 33,
   "id": "322d8df8",
   "metadata": {},
   "outputs": [
    {
     "data": {
      "text/plain": [
       "-13.25"
      ]
     },
     "execution_count": 33,
     "metadata": {},
     "output_type": "execute_result"
    }
   ],
   "source": [
    "lower_limit"
   ]
  },
  {
   "cell_type": "code",
   "execution_count": 34,
   "id": "f230f40b",
   "metadata": {},
   "outputs": [],
   "source": [
    "df = df[df.iloc[:,3]<upper_limit]"
   ]
  },
  {
   "cell_type": "code",
   "execution_count": 35,
   "id": "769956f7",
   "metadata": {},
   "outputs": [
    {
     "name": "stderr",
     "output_type": "stream",
     "text": [
      "C:\\ProgramData\\Anaconda3\\lib\\site-packages\\seaborn\\_decorators.py:36: FutureWarning: Pass the following variable as a keyword arg: x. From version 0.12, the only valid positional argument will be `data`, and passing other arguments without an explicit keyword will result in an error or misinterpretation.\n",
      "  warnings.warn(\n"
     ]
    },
    {
     "data": {
      "text/plain": [
       "<AxesSubplot:xlabel='Annual Income (k$)'>"
      ]
     },
     "execution_count": 35,
     "metadata": {},
     "output_type": "execute_result"
    },
    {
     "data": {
      "image/png": "[encoded data removed]",
      "text/plain": [
       "<Figure size 432x288 with 1 Axes>"
      ]
     },
     "metadata": {
      "needs_background": "light"
     },
     "output_type": "display_data"
    }
   ],
   "source": [
    "sns.boxplot(df.iloc[:,3])"
   ]
  },
  {
   "cell_type": "code",
   "execution_count": 36,
   "id": "658cb513",
   "metadata": {},
   "outputs": [
    {
     "data": {
      "text/plain": [
       "(198, 5)"
      ]
     },
     "execution_count": 36,
     "metadata": {},
     "output_type": "execute_result"
    }
   ],
   "source": [
    "df.shape"
   ]
  },
  {
   "cell_type": "markdown",
   "id": "2b533273",
   "metadata": {},
   "source": [
    "### Replacing the outliers using median"
   ]
  },
  {
   "cell_type": "code",
   "execution_count": 85,
   "id": "963cc49c",
   "metadata": {},
   "outputs": [
    {
     "name": "stderr",
     "output_type": "stream",
     "text": [
      "C:\\ProgramData\\Anaconda3\\lib\\site-packages\\seaborn\\_decorators.py:36: FutureWarning: Pass the following variable as a keyword arg: x. From version 0.12, the only valid positional argument will be `data`, and passing other arguments without an explicit keyword will result in an error or misinterpretation.\n",
      "  warnings.warn(\n"
     ]
    },
    {
     "data": {
      "text/plain": [
       "<AxesSubplot:xlabel='Annual Income (k$)'>"
      ]
     },
     "execution_count": 85,
     "metadata": {},
     "output_type": "execute_result"
    },
    {
     "data": {
      "image/png": "[encoded data removed]",
      "text/plain": [
       "<Figure size 432x288 with 1 Axes>"
      ]
     },
     "metadata": {
      "needs_background": "light"
     },
     "output_type": "display_data"
    }
   ],
   "source": [
    "sns.boxplot(df.iloc[:,3])"
   ]
  },
  {
   "cell_type": "code",
   "execution_count": 38,
   "id": "df9bc761",
   "metadata": {},
   "outputs": [
    {
     "name": "stderr",
     "output_type": "stream",
     "text": [
      "C:\\Users\\Gayathri & Gokul\\AppData\\Local\\Temp\\ipykernel_64872\\530051474.py:1: FutureWarning: Dropping of nuisance columns in DataFrame reductions (with 'numeric_only=None') is deprecated; in a future version this will raise TypeError.  Select only valid columns before calling the reduction.\n",
      "  df.median()\n"
     ]
    },
    {
     "data": {
      "text/plain": [
       "CustomerID                99.5\n",
       "Age                       36.0\n",
       "Annual Income (k$)        61.0\n",
       "Spending Score (1-100)    50.0\n",
       "dtype: float64"
      ]
     },
     "execution_count": 38,
     "metadata": {},
     "output_type": "execute_result"
    }
   ],
   "source": [
    "df.median()"
   ]
  },
  {
   "cell_type": "code",
   "execution_count": 39,
   "id": "350374b3",
   "metadata": {},
   "outputs": [],
   "source": [
    "Q1 = df.iloc[:,3].quantile(0.25)\n",
    "Q3 = df.iloc[:,3].quantile(0.75)"
   ]
  },
  {
   "cell_type": "code",
   "execution_count": 40,
   "id": "6127885b",
   "metadata": {},
   "outputs": [],
   "source": [
    "IQR = Q3-Q1"
   ]
  },
  {
   "cell_type": "code",
   "execution_count": 41,
   "id": "b26856a9",
   "metadata": {},
   "outputs": [],
   "source": [
    "upper_limit = Q3 + 1.5*IQR\n",
    "lower_limit = Q1 - 1.5*IQR"
   ]
  },
  {
   "cell_type": "code",
   "execution_count": 42,
   "id": "53b16f09",
   "metadata": {},
   "outputs": [
    {
     "name": "stderr",
     "output_type": "stream",
     "text": [
      "C:\\Users\\Gayathri & Gokul\\AppData\\Local\\Temp\\ipykernel_64872\\2249374255.py:1: SettingWithCopyWarning: \n",
      "A value is trying to be set on a copy of a slice from a DataFrame.\n",
      "Try using .loc[row_indexer,col_indexer] = value instead\n",
      "\n",
      "See the caveats in the documentation: https://pandas.pydata.org/pandas-docs/stable/user_guide/indexing.html#returning-a-view-versus-a-copy\n",
      "  df.iloc[:,3]= np.where(df.iloc[:,3]>upper_limit,1,df.iloc[:,3])\n"
     ]
    }
   ],
   "source": [
    "df.iloc[:,3]= np.where(df.iloc[:,3]>upper_limit,1,df.iloc[:,3])"
   ]
  },
  {
   "cell_type": "code",
   "execution_count": 43,
   "id": "fa162288",
   "metadata": {},
   "outputs": [
    {
     "name": "stderr",
     "output_type": "stream",
     "text": [
      "C:\\ProgramData\\Anaconda3\\lib\\site-packages\\seaborn\\_decorators.py:36: FutureWarning: Pass the following variable as a keyword arg: x. From version 0.12, the only valid positional argument will be `data`, and passing other arguments without an explicit keyword will result in an error or misinterpretation.\n",
      "  warnings.warn(\n"
     ]
    },
    {
     "data": {
      "text/plain": [
       "<AxesSubplot:xlabel='Annual Income (k$)'>"
      ]
     },
     "execution_count": 43,
     "metadata": {},
     "output_type": "execute_result"
    },
    {
     "data": {
      "image/png": "[encoded data removed]",
      "text/plain": [
       "<Figure size 432x288 with 1 Axes>"
      ]
     },
     "metadata": {
      "needs_background": "light"
     },
     "output_type": "display_data"
    }
   ],
   "source": [
    "sns.boxplot(df.iloc[:,3])"
   ]
  },
  {
   "cell_type": "code",
   "execution_count": 44,
   "id": "d3352060",
   "metadata": {},
   "outputs": [
    {
     "data": {
      "text/plain": [
       "(198, 5)"
      ]
     },
     "execution_count": 44,
     "metadata": {},
     "output_type": "execute_result"
    }
   ],
   "source": [
    "df.shape"
   ]
  },
  {
   "cell_type": "markdown",
   "id": "ea4406ea",
   "metadata": {},
   "source": [
    "### Outlier removal-Percentile method"
   ]
  },
  {
   "cell_type": "code",
   "execution_count": 86,
   "id": "c0f57386",
   "metadata": {},
   "outputs": [
    {
     "name": "stderr",
     "output_type": "stream",
     "text": [
      "C:\\ProgramData\\Anaconda3\\lib\\site-packages\\seaborn\\_decorators.py:36: FutureWarning: Pass the following variable as a keyword arg: x. From version 0.12, the only valid positional argument will be `data`, and passing other arguments without an explicit keyword will result in an error or misinterpretation.\n",
      "  warnings.warn(\n"
     ]
    },
    {
     "data": {
      "text/plain": [
       "<AxesSubplot:xlabel='Annual Income (k$)'>"
      ]
     },
     "execution_count": 86,
     "metadata": {},
     "output_type": "execute_result"
    },
    {
     "data": {
      "image/png": "[encoded data removed]",
      "text/plain": [
       "<Figure size 432x288 with 1 Axes>"
      ]
     },
     "metadata": {
      "needs_background": "light"
     },
     "output_type": "display_data"
    }
   ],
   "source": [
    "sns.boxplot(df.iloc[:,3])"
   ]
  },
  {
   "cell_type": "code",
   "execution_count": 46,
   "id": "f4c56067",
   "metadata": {},
   "outputs": [
    {
     "data": {
      "text/plain": [
       "89.50000000000006"
      ]
     },
     "execution_count": 46,
     "metadata": {},
     "output_type": "execute_result"
    }
   ],
   "source": [
    "p99 = df.iloc[:,3].quantile(0.90)\n",
    "p99"
   ]
  },
  {
   "cell_type": "code",
   "execution_count": 47,
   "id": "f9b08edb",
   "metadata": {},
   "outputs": [],
   "source": [
    "df = df[df.iloc[:,3]<=p99]"
   ]
  },
  {
   "cell_type": "code",
   "execution_count": 48,
   "id": "9797a778",
   "metadata": {},
   "outputs": [
    {
     "name": "stderr",
     "output_type": "stream",
     "text": [
      "C:\\ProgramData\\Anaconda3\\lib\\site-packages\\seaborn\\_decorators.py:36: FutureWarning: Pass the following variable as a keyword arg: x. From version 0.12, the only valid positional argument will be `data`, and passing other arguments without an explicit keyword will result in an error or misinterpretation.\n",
      "  warnings.warn(\n"
     ]
    },
    {
     "data": {
      "text/plain": [
       "<AxesSubplot:xlabel='Annual Income (k$)'>"
      ]
     },
     "execution_count": 48,
     "metadata": {},
     "output_type": "execute_result"
    },
    {
     "data": {
      "image/png": "[encoded data removed]",
      "text/plain": [
       "<Figure size 432x288 with 1 Axes>"
      ]
     },
     "metadata": {
      "needs_background": "light"
     },
     "output_type": "display_data"
    }
   ],
   "source": [
    "sns.boxplot(df.iloc[:,3])"
   ]
  },
  {
   "cell_type": "markdown",
   "id": "69f3d5b3",
   "metadata": {},
   "source": [
    "## Check for categorical columns and perform encoding"
   ]
  },
  {
   "cell_type": "markdown",
   "id": "f638990e",
   "metadata": {},
   "source": [
    "### Categorical columns"
   ]
  },
  {
   "cell_type": "code",
   "execution_count": 49,
   "id": "ae158ea1",
   "metadata": {},
   "outputs": [
    {
     "name": "stdout",
     "output_type": "stream",
     "text": [
      "<class 'pandas.core.frame.DataFrame'>\n",
      "Int64Index: 178 entries, 0 to 177\n",
      "Data columns (total 5 columns):\n",
      " #   Column                  Non-Null Count  Dtype \n",
      "---  ------                  --------------  ----- \n",
      " 0   CustomerID              178 non-null    int64 \n",
      " 1   Gender                  178 non-null    object\n",
      " 2   Age                     178 non-null    int64 \n",
      " 3   Annual Income (k$)      178 non-null    int64 \n",
      " 4   Spending Score (1-100)  178 non-null    int64 \n",
      "dtypes: int64(4), object(1)\n",
      "memory usage: 8.3+ KB\n"
     ]
    }
   ],
   "source": [
    "df.info()"
   ]
  },
  {
   "cell_type": "markdown",
   "id": "06ac7ef0",
   "metadata": {},
   "source": [
    "### Label Encoding"
   ]
  },
  {
   "cell_type": "code",
   "execution_count": 110,
   "id": "5d6de660",
   "metadata": {},
   "outputs": [],
   "source": [
    "from sklearn.preprocessing import LabelEncoder"
   ]
  },
  {
   "cell_type": "code",
   "execution_count": 111,
   "id": "b4c68a2c",
   "metadata": {},
   "outputs": [],
   "source": [
    "le = LabelEncoder()"
   ]
  },
  {
   "cell_type": "code",
   "execution_count": 112,
   "id": "5f77ea22",
   "metadata": {},
   "outputs": [],
   "source": [
    "df.Gender = le.fit_transform(df.Gender)\n"
   ]
  },
  {
   "cell_type": "code",
   "execution_count": 113,
   "id": "451aecb3",
   "metadata": {},
   "outputs": [
    {
     "data": {
      "text/html": [
       "<div>\n",
       "<style scoped>\n",
       "    .dataframe tbody tr th:only-of-type {\n",
       "        vertical-align: middle;\n",
       "    }\n",
       "\n",
       "    .dataframe tbody tr th {\n",
       "        vertical-align: top;\n",
       "    }\n",
       "\n",
       "    .dataframe thead th {\n",
       "        text-align: right;\n",
       "    }\n",
       "</style>\n",
       "<table border=\"1\" class=\"dataframe\">\n",
       "  <thead>\n",
       "    <tr style=\"text-align: right;\">\n",
       "      <th></th>\n",
       "      <th>CustomerID</th>\n",
       "      <th>Gender</th>\n",
       "      <th>Age</th>\n",
       "      <th>Annual Income (k$)</th>\n",
       "      <th>Spending Score (1-100)</th>\n",
       "    </tr>\n",
       "  </thead>\n",
       "  <tbody>\n",
       "    <tr>\n",
       "      <th>0</th>\n",
       "      <td>1</td>\n",
       "      <td>1</td>\n",
       "      <td>19</td>\n",
       "      <td>15</td>\n",
       "      <td>39</td>\n",
       "    </tr>\n",
       "    <tr>\n",
       "      <th>1</th>\n",
       "      <td>2</td>\n",
       "      <td>1</td>\n",
       "      <td>21</td>\n",
       "      <td>15</td>\n",
       "      <td>81</td>\n",
       "    </tr>\n",
       "    <tr>\n",
       "      <th>2</th>\n",
       "      <td>3</td>\n",
       "      <td>0</td>\n",
       "      <td>20</td>\n",
       "      <td>16</td>\n",
       "      <td>6</td>\n",
       "    </tr>\n",
       "    <tr>\n",
       "      <th>3</th>\n",
       "      <td>4</td>\n",
       "      <td>0</td>\n",
       "      <td>23</td>\n",
       "      <td>16</td>\n",
       "      <td>77</td>\n",
       "    </tr>\n",
       "    <tr>\n",
       "      <th>4</th>\n",
       "      <td>5</td>\n",
       "      <td>0</td>\n",
       "      <td>31</td>\n",
       "      <td>17</td>\n",
       "      <td>40</td>\n",
       "    </tr>\n",
       "  </tbody>\n",
       "</table>\n",
       "</div>"
      ],
      "text/plain": [
       "   CustomerID  Gender  Age  Annual Income (k$)  Spending Score (1-100)\n",
       "0           1       1   19                  15                      39\n",
       "1           2       1   21                  15                      81\n",
       "2           3       0   20                  16                       6\n",
       "3           4       0   23                  16                      77\n",
       "4           5       0   31                  17                      40"
      ]
     },
     "execution_count": 113,
     "metadata": {},
     "output_type": "execute_result"
    }
   ],
   "source": [
    "df.head()"
   ]
  },
  {
   "cell_type": "markdown",
   "id": "a67da286",
   "metadata": {},
   "source": [
    "### One hot encoding"
   ]
  },
  {
   "cell_type": "code",
   "execution_count": 54,
   "id": "d0d2e0c4",
   "metadata": {},
   "outputs": [
    {
     "data": {
      "text/html": [
       "<div>\n",
       "<style scoped>\n",
       "    .dataframe tbody tr th:only-of-type {\n",
       "        vertical-align: middle;\n",
       "    }\n",
       "\n",
       "    .dataframe tbody tr th {\n",
       "        vertical-align: top;\n",
       "    }\n",
       "\n",
       "    .dataframe thead th {\n",
       "        text-align: right;\n",
       "    }\n",
       "</style>\n",
       "<table border=\"1\" class=\"dataframe\">\n",
       "  <thead>\n",
       "    <tr style=\"text-align: right;\">\n",
       "      <th></th>\n",
       "      <th>CustomerID</th>\n",
       "      <th>Age</th>\n",
       "      <th>Annual Income (k$)</th>\n",
       "      <th>Spending Score (1-100)</th>\n",
       "      <th>Gender_0</th>\n",
       "      <th>Gender_1</th>\n",
       "    </tr>\n",
       "  </thead>\n",
       "  <tbody>\n",
       "    <tr>\n",
       "      <th>0</th>\n",
       "      <td>1</td>\n",
       "      <td>19</td>\n",
       "      <td>15</td>\n",
       "      <td>39</td>\n",
       "      <td>0</td>\n",
       "      <td>1</td>\n",
       "    </tr>\n",
       "    <tr>\n",
       "      <th>1</th>\n",
       "      <td>2</td>\n",
       "      <td>21</td>\n",
       "      <td>15</td>\n",
       "      <td>81</td>\n",
       "      <td>0</td>\n",
       "      <td>1</td>\n",
       "    </tr>\n",
       "    <tr>\n",
       "      <th>2</th>\n",
       "      <td>3</td>\n",
       "      <td>20</td>\n",
       "      <td>16</td>\n",
       "      <td>6</td>\n",
       "      <td>1</td>\n",
       "      <td>0</td>\n",
       "    </tr>\n",
       "    <tr>\n",
       "      <th>3</th>\n",
       "      <td>4</td>\n",
       "      <td>23</td>\n",
       "      <td>16</td>\n",
       "      <td>77</td>\n",
       "      <td>1</td>\n",
       "      <td>0</td>\n",
       "    </tr>\n",
       "    <tr>\n",
       "      <th>4</th>\n",
       "      <td>5</td>\n",
       "      <td>31</td>\n",
       "      <td>17</td>\n",
       "      <td>40</td>\n",
       "      <td>1</td>\n",
       "      <td>0</td>\n",
       "    </tr>\n",
       "  </tbody>\n",
       "</table>\n",
       "</div>"
      ],
      "text/plain": [
       "   CustomerID  Age  Annual Income (k$)  Spending Score (1-100)  Gender_0  \\\n",
       "0           1   19                  15                      39         0   \n",
       "1           2   21                  15                      81         0   \n",
       "2           3   20                  16                       6         1   \n",
       "3           4   23                  16                      77         1   \n",
       "4           5   31                  17                      40         1   \n",
       "\n",
       "   Gender_1  \n",
       "0         1  \n",
       "1         1  \n",
       "2         0  \n",
       "3         0  \n",
       "4         0  "
      ]
     },
     "execution_count": 54,
     "metadata": {},
     "output_type": "execute_result"
    }
   ],
   "source": [
    "df_main = pd.get_dummies(df,columns=['Gender'])\n",
    "df_main.head()\n"
   ]
  },
  {
   "cell_type": "code",
   "execution_count": 55,
   "id": "7f6e607a",
   "metadata": {},
   "outputs": [
    {
     "data": {
      "text/html": [
       "<div>\n",
       "<style scoped>\n",
       "    .dataframe tbody tr th:only-of-type {\n",
       "        vertical-align: middle;\n",
       "    }\n",
       "\n",
       "    .dataframe tbody tr th {\n",
       "        vertical-align: top;\n",
       "    }\n",
       "\n",
       "    .dataframe thead th {\n",
       "        text-align: right;\n",
       "    }\n",
       "</style>\n",
       "<table border=\"1\" class=\"dataframe\">\n",
       "  <thead>\n",
       "    <tr style=\"text-align: right;\">\n",
       "      <th></th>\n",
       "      <th>CustomerID</th>\n",
       "      <th>Age</th>\n",
       "      <th>Annual Income (k$)</th>\n",
       "      <th>Spending Score (1-100)</th>\n",
       "      <th>Gender_0</th>\n",
       "      <th>Gender_1</th>\n",
       "    </tr>\n",
       "  </thead>\n",
       "  <tbody>\n",
       "    <tr>\n",
       "      <th>count</th>\n",
       "      <td>178.000000</td>\n",
       "      <td>178.000000</td>\n",
       "      <td>178.000000</td>\n",
       "      <td>178.000000</td>\n",
       "      <td>178.000000</td>\n",
       "      <td>178.000000</td>\n",
       "    </tr>\n",
       "    <tr>\n",
       "      <th>mean</th>\n",
       "      <td>89.500000</td>\n",
       "      <td>39.011236</td>\n",
       "      <td>54.674157</td>\n",
       "      <td>49.977528</td>\n",
       "      <td>0.556180</td>\n",
       "      <td>0.443820</td>\n",
       "    </tr>\n",
       "    <tr>\n",
       "      <th>std</th>\n",
       "      <td>51.528309</td>\n",
       "      <td>14.529918</td>\n",
       "      <td>20.897801</td>\n",
       "      <td>24.949430</td>\n",
       "      <td>0.498235</td>\n",
       "      <td>0.498235</td>\n",
       "    </tr>\n",
       "    <tr>\n",
       "      <th>min</th>\n",
       "      <td>1.000000</td>\n",
       "      <td>18.000000</td>\n",
       "      <td>15.000000</td>\n",
       "      <td>1.000000</td>\n",
       "      <td>0.000000</td>\n",
       "      <td>0.000000</td>\n",
       "    </tr>\n",
       "    <tr>\n",
       "      <th>25%</th>\n",
       "      <td>45.250000</td>\n",
       "      <td>27.000000</td>\n",
       "      <td>39.000000</td>\n",
       "      <td>35.250000</td>\n",
       "      <td>0.000000</td>\n",
       "      <td>0.000000</td>\n",
       "    </tr>\n",
       "    <tr>\n",
       "      <th>50%</th>\n",
       "      <td>89.500000</td>\n",
       "      <td>36.000000</td>\n",
       "      <td>58.000000</td>\n",
       "      <td>50.000000</td>\n",
       "      <td>1.000000</td>\n",
       "      <td>0.000000</td>\n",
       "    </tr>\n",
       "    <tr>\n",
       "      <th>75%</th>\n",
       "      <td>133.750000</td>\n",
       "      <td>49.000000</td>\n",
       "      <td>72.000000</td>\n",
       "      <td>70.500000</td>\n",
       "      <td>1.000000</td>\n",
       "      <td>1.000000</td>\n",
       "    </tr>\n",
       "    <tr>\n",
       "      <th>max</th>\n",
       "      <td>178.000000</td>\n",
       "      <td>70.000000</td>\n",
       "      <td>88.000000</td>\n",
       "      <td>99.000000</td>\n",
       "      <td>1.000000</td>\n",
       "      <td>1.000000</td>\n",
       "    </tr>\n",
       "  </tbody>\n",
       "</table>\n",
       "</div>"
      ],
      "text/plain": [
       "       CustomerID         Age  Annual Income (k$)  Spending Score (1-100)  \\\n",
       "count  178.000000  178.000000          178.000000              178.000000   \n",
       "mean    89.500000   39.011236           54.674157               49.977528   \n",
       "std     51.528309   14.529918           20.897801               24.949430   \n",
       "min      1.000000   18.000000           15.000000                1.000000   \n",
       "25%     45.250000   27.000000           39.000000               35.250000   \n",
       "50%     89.500000   36.000000           58.000000               50.000000   \n",
       "75%    133.750000   49.000000           72.000000               70.500000   \n",
       "max    178.000000   70.000000           88.000000               99.000000   \n",
       "\n",
       "         Gender_0    Gender_1  \n",
       "count  178.000000  178.000000  \n",
       "mean     0.556180    0.443820  \n",
       "std      0.498235    0.498235  \n",
       "min      0.000000    0.000000  \n",
       "25%      0.000000    0.000000  \n",
       "50%      1.000000    0.000000  \n",
       "75%      1.000000    1.000000  \n",
       "max      1.000000    1.000000  "
      ]
     },
     "execution_count": 55,
     "metadata": {},
     "output_type": "execute_result"
    }
   ],
   "source": [
    "df_main.describe()"
   ]
  },
  {
   "cell_type": "code",
   "execution_count": 56,
   "id": "e7440372",
   "metadata": {},
   "outputs": [
    {
     "data": {
      "text/html": [
       "<div>\n",
       "<style scoped>\n",
       "    .dataframe tbody tr th:only-of-type {\n",
       "        vertical-align: middle;\n",
       "    }\n",
       "\n",
       "    .dataframe tbody tr th {\n",
       "        vertical-align: top;\n",
       "    }\n",
       "\n",
       "    .dataframe thead th {\n",
       "        text-align: right;\n",
       "    }\n",
       "</style>\n",
       "<table border=\"1\" class=\"dataframe\">\n",
       "  <thead>\n",
       "    <tr style=\"text-align: right;\">\n",
       "      <th></th>\n",
       "      <th>CustomerID</th>\n",
       "      <th>Age</th>\n",
       "      <th>Annual Income (k$)</th>\n",
       "      <th>Spending Score (1-100)</th>\n",
       "      <th>Gender_0</th>\n",
       "      <th>Gender_1</th>\n",
       "    </tr>\n",
       "  </thead>\n",
       "  <tbody>\n",
       "    <tr>\n",
       "      <th>CustomerID</th>\n",
       "      <td>1.000000</td>\n",
       "      <td>-0.008557</td>\n",
       "      <td>0.992809</td>\n",
       "      <td>0.000751</td>\n",
       "      <td>-0.087255</td>\n",
       "      <td>0.087255</td>\n",
       "    </tr>\n",
       "    <tr>\n",
       "      <th>Age</th>\n",
       "      <td>-0.008557</td>\n",
       "      <td>1.000000</td>\n",
       "      <td>0.020554</td>\n",
       "      <td>-0.312055</td>\n",
       "      <td>-0.075008</td>\n",
       "      <td>0.075008</td>\n",
       "    </tr>\n",
       "    <tr>\n",
       "      <th>Annual Income (k$)</th>\n",
       "      <td>0.992809</td>\n",
       "      <td>0.020554</td>\n",
       "      <td>1.000000</td>\n",
       "      <td>-0.002691</td>\n",
       "      <td>-0.086678</td>\n",
       "      <td>0.086678</td>\n",
       "    </tr>\n",
       "    <tr>\n",
       "      <th>Spending Score (1-100)</th>\n",
       "      <td>0.000751</td>\n",
       "      <td>-0.312055</td>\n",
       "      <td>-0.002691</td>\n",
       "      <td>1.000000</td>\n",
       "      <td>0.066459</td>\n",
       "      <td>-0.066459</td>\n",
       "    </tr>\n",
       "    <tr>\n",
       "      <th>Gender_0</th>\n",
       "      <td>-0.087255</td>\n",
       "      <td>-0.075008</td>\n",
       "      <td>-0.086678</td>\n",
       "      <td>0.066459</td>\n",
       "      <td>1.000000</td>\n",
       "      <td>-1.000000</td>\n",
       "    </tr>\n",
       "    <tr>\n",
       "      <th>Gender_1</th>\n",
       "      <td>0.087255</td>\n",
       "      <td>0.075008</td>\n",
       "      <td>0.086678</td>\n",
       "      <td>-0.066459</td>\n",
       "      <td>-1.000000</td>\n",
       "      <td>1.000000</td>\n",
       "    </tr>\n",
       "  </tbody>\n",
       "</table>\n",
       "</div>"
      ],
      "text/plain": [
       "                        CustomerID       Age  Annual Income (k$)  \\\n",
       "CustomerID                1.000000 -0.008557            0.992809   \n",
       "Age                      -0.008557  1.000000            0.020554   \n",
       "Annual Income (k$)        0.992809  0.020554            1.000000   \n",
       "Spending Score (1-100)    0.000751 -0.312055           -0.002691   \n",
       "Gender_0                 -0.087255 -0.075008           -0.086678   \n",
       "Gender_1                  0.087255  0.075008            0.086678   \n",
       "\n",
       "                        Spending Score (1-100)  Gender_0  Gender_1  \n",
       "CustomerID                            0.000751 -0.087255  0.087255  \n",
       "Age                                  -0.312055 -0.075008  0.075008  \n",
       "Annual Income (k$)                   -0.002691 -0.086678  0.086678  \n",
       "Spending Score (1-100)                1.000000  0.066459 -0.066459  \n",
       "Gender_0                              0.066459  1.000000 -1.000000  \n",
       "Gender_1                             -0.066459 -1.000000  1.000000  "
      ]
     },
     "execution_count": 56,
     "metadata": {},
     "output_type": "execute_result"
    }
   ],
   "source": [
    "df_main.corr()"
   ]
  },
  {
   "cell_type": "code",
   "execution_count": 57,
   "id": "db663149",
   "metadata": {},
   "outputs": [
    {
     "data": {
      "text/plain": [
       "<AxesSubplot:>"
      ]
     },
     "execution_count": 57,
     "metadata": {},
     "output_type": "execute_result"
    },
    {
     "data": {
      "image/png": "[encoded data removed]",
      "text/plain": [
       "<Figure size 576x576 with 2 Axes>"
      ]
     },
     "metadata": {
      "needs_background": "light"
     },
     "output_type": "display_data"
    }
   ],
   "source": [
    "plt.figure(figsize=(8,8))\n",
    "sns.heatmap(df_main.corr(),annot=True)\n"
   ]
  },
  {
   "cell_type": "markdown",
   "id": "547fc02f",
   "metadata": {},
   "source": [
    "## Scaling the data"
   ]
  },
  {
   "cell_type": "code",
   "execution_count": 114,
   "id": "b1d5f997",
   "metadata": {},
   "outputs": [
    {
     "data": {
      "text/plain": [
       "array([[0.        , 1.        , 0.01923077, 0.        , 0.3877551 ],\n",
       "       [0.00502513, 1.        , 0.05769231, 0.        , 0.81632653],\n",
       "       [0.01005025, 0.        , 0.03846154, 0.00819672, 0.05102041],\n",
       "       [0.01507538, 0.        , 0.09615385, 0.00819672, 0.7755102 ],\n",
       "       [0.0201005 , 0.        , 0.25      , 0.01639344, 0.39795918]])"
      ]
     },
     "execution_count": 114,
     "metadata": {},
     "output_type": "execute_result"
    }
   ],
   "source": [
    "from sklearn.preprocessing import MinMaxScaler\n",
    "scaler = MinMaxScaler()\n",
    "data_scaled = scaler.fit_transform(df)\n",
    "data_scaled[0:5]"
   ]
  },
  {
   "cell_type": "markdown",
   "id": "aa5834df",
   "metadata": {},
   "source": [
    "## Clustering Algorithms"
   ]
  },
  {
   "cell_type": "code",
   "execution_count": 130,
   "id": "16e99837",
   "metadata": {},
   "outputs": [],
   "source": [
    "from sklearn import cluster\n"
   ]
  },
  {
   "cell_type": "code",
   "execution_count": 132,
   "id": "a22f7ada",
   "metadata": {},
   "outputs": [
    {
     "data": {
      "text/plain": [
       "array([6, 6, 5, 5, 5, 5, 1, 5, 0, 5, 0, 5, 1, 5, 6, 6, 5, 6, 0, 5, 6, 6,\n",
       "       1, 6, 1, 6, 1, 6, 1, 5, 0, 5, 0, 6, 1, 5, 1, 5, 1, 5, 1, 6, 0, 5,\n",
       "       1, 5, 1, 5, 5, 5, 1, 6, 5, 0, 1, 0, 1, 0, 5, 0, 0, 6, 1, 1, 0, 6,\n",
       "       1, 1, 6, 5, 0, 1, 1, 1, 0, 6, 1, 0, 5, 1, 0, 6, 0, 1, 5, 0, 1, 5,\n",
       "       5, 1, 1, 6, 0, 1, 5, 6, 1, 5, 0, 6, 5, 1, 0, 6, 0, 5, 1, 0, 0, 0,\n",
       "       0, 5, 1, 6, 5, 5, 1, 1, 1, 1, 2, 7, 4, 2, 7, 4, 3, 2, 3, 2, 3, 2,\n",
       "       7, 4, 3, 4, 7, 2, 3, 4, 7, 2, 7, 4, 3, 2, 3, 4, 7, 2, 3, 2, 7, 4,\n",
       "       7, 4, 3, 4, 3, 4, 7, 4, 3, 4, 3, 4, 3, 4, 7, 2, 3, 2, 3, 2, 7, 4,\n",
       "       3, 2, 3, 2, 7, 4, 3, 4, 7, 2, 7, 2, 7, 4, 7, 4, 3, 4, 7, 4, 7, 2,\n",
       "       3, 2])"
      ]
     },
     "execution_count": 132,
     "metadata": {},
     "output_type": "execute_result"
    }
   ],
   "source": [
    "from sklearn.cluster import KMeans\n",
    "km = KMeans()\n",
    "res = km.fit_predict(data_scaled)\n",
    "res"
   ]
  },
  {
   "cell_type": "code",
   "execution_count": 127,
   "id": "a437bea0",
   "metadata": {},
   "outputs": [
    {
     "data": {
      "text/html": [
       "<div>\n",
       "<style scoped>\n",
       "    .dataframe tbody tr th:only-of-type {\n",
       "        vertical-align: middle;\n",
       "    }\n",
       "\n",
       "    .dataframe tbody tr th {\n",
       "        vertical-align: top;\n",
       "    }\n",
       "\n",
       "    .dataframe thead th {\n",
       "        text-align: right;\n",
       "    }\n",
       "</style>\n",
       "<table border=\"1\" class=\"dataframe\">\n",
       "  <thead>\n",
       "    <tr style=\"text-align: right;\">\n",
       "      <th></th>\n",
       "      <th>CustomerID</th>\n",
       "      <th>Gender</th>\n",
       "      <th>Age</th>\n",
       "      <th>Annual Income (k$)</th>\n",
       "      <th>Spending Score (1-100)</th>\n",
       "    </tr>\n",
       "  </thead>\n",
       "  <tbody>\n",
       "    <tr>\n",
       "      <th>0</th>\n",
       "      <td>0.000000</td>\n",
       "      <td>1.0</td>\n",
       "      <td>0.019231</td>\n",
       "      <td>0.000000</td>\n",
       "      <td>0.387755</td>\n",
       "    </tr>\n",
       "    <tr>\n",
       "      <th>1</th>\n",
       "      <td>0.005025</td>\n",
       "      <td>1.0</td>\n",
       "      <td>0.057692</td>\n",
       "      <td>0.000000</td>\n",
       "      <td>0.816327</td>\n",
       "    </tr>\n",
       "    <tr>\n",
       "      <th>2</th>\n",
       "      <td>0.010050</td>\n",
       "      <td>0.0</td>\n",
       "      <td>0.038462</td>\n",
       "      <td>0.008197</td>\n",
       "      <td>0.051020</td>\n",
       "    </tr>\n",
       "    <tr>\n",
       "      <th>3</th>\n",
       "      <td>0.015075</td>\n",
       "      <td>0.0</td>\n",
       "      <td>0.096154</td>\n",
       "      <td>0.008197</td>\n",
       "      <td>0.775510</td>\n",
       "    </tr>\n",
       "    <tr>\n",
       "      <th>4</th>\n",
       "      <td>0.020101</td>\n",
       "      <td>0.0</td>\n",
       "      <td>0.250000</td>\n",
       "      <td>0.016393</td>\n",
       "      <td>0.397959</td>\n",
       "    </tr>\n",
       "  </tbody>\n",
       "</table>\n",
       "</div>"
      ],
      "text/plain": [
       "   CustomerID  Gender       Age  Annual Income (k$)  Spending Score (1-100)\n",
       "0    0.000000     1.0  0.019231            0.000000                0.387755\n",
       "1    0.005025     1.0  0.057692            0.000000                0.816327\n",
       "2    0.010050     0.0  0.038462            0.008197                0.051020\n",
       "3    0.015075     0.0  0.096154            0.008197                0.775510\n",
       "4    0.020101     0.0  0.250000            0.016393                0.397959"
      ]
     },
     "execution_count": 127,
     "metadata": {},
     "output_type": "execute_result"
    }
   ],
   "source": [
    "data = pd.DataFrame(data_scaled, columns = df.columns)\n",
    "data.head()"
   ]
  },
  {
   "cell_type": "code",
   "execution_count": 134,
   "id": "4f15891e",
   "metadata": {},
   "outputs": [
    {
     "data": {
      "text/html": [
       "<div>\n",
       "<style scoped>\n",
       "    .dataframe tbody tr th:only-of-type {\n",
       "        vertical-align: middle;\n",
       "    }\n",
       "\n",
       "    .dataframe tbody tr th {\n",
       "        vertical-align: top;\n",
       "    }\n",
       "\n",
       "    .dataframe thead th {\n",
       "        text-align: right;\n",
       "    }\n",
       "</style>\n",
       "<table border=\"1\" class=\"dataframe\">\n",
       "  <thead>\n",
       "    <tr style=\"text-align: right;\">\n",
       "      <th></th>\n",
       "      <th>CustomerID</th>\n",
       "      <th>Gender</th>\n",
       "      <th>Age</th>\n",
       "      <th>Annual Income (k$)</th>\n",
       "      <th>Spending Score (1-100)</th>\n",
       "      <th>kclus</th>\n",
       "    </tr>\n",
       "  </thead>\n",
       "  <tbody>\n",
       "    <tr>\n",
       "      <th>0</th>\n",
       "      <td>0.000000</td>\n",
       "      <td>1.0</td>\n",
       "      <td>0.019231</td>\n",
       "      <td>0.000000</td>\n",
       "      <td>0.387755</td>\n",
       "      <td>6</td>\n",
       "    </tr>\n",
       "    <tr>\n",
       "      <th>1</th>\n",
       "      <td>0.005025</td>\n",
       "      <td>1.0</td>\n",
       "      <td>0.057692</td>\n",
       "      <td>0.000000</td>\n",
       "      <td>0.816327</td>\n",
       "      <td>6</td>\n",
       "    </tr>\n",
       "    <tr>\n",
       "      <th>2</th>\n",
       "      <td>0.010050</td>\n",
       "      <td>0.0</td>\n",
       "      <td>0.038462</td>\n",
       "      <td>0.008197</td>\n",
       "      <td>0.051020</td>\n",
       "      <td>5</td>\n",
       "    </tr>\n",
       "    <tr>\n",
       "      <th>3</th>\n",
       "      <td>0.015075</td>\n",
       "      <td>0.0</td>\n",
       "      <td>0.096154</td>\n",
       "      <td>0.008197</td>\n",
       "      <td>0.775510</td>\n",
       "      <td>5</td>\n",
       "    </tr>\n",
       "    <tr>\n",
       "      <th>4</th>\n",
       "      <td>0.020101</td>\n",
       "      <td>0.0</td>\n",
       "      <td>0.250000</td>\n",
       "      <td>0.016393</td>\n",
       "      <td>0.397959</td>\n",
       "      <td>5</td>\n",
       "    </tr>\n",
       "  </tbody>\n",
       "</table>\n",
       "</div>"
      ],
      "text/plain": [
       "   CustomerID  Gender       Age  Annual Income (k$)  Spending Score (1-100)  \\\n",
       "0    0.000000     1.0  0.019231            0.000000                0.387755   \n",
       "1    0.005025     1.0  0.057692            0.000000                0.816327   \n",
       "2    0.010050     0.0  0.038462            0.008197                0.051020   \n",
       "3    0.015075     0.0  0.096154            0.008197                0.775510   \n",
       "4    0.020101     0.0  0.250000            0.016393                0.397959   \n",
       "\n",
       "   kclus  \n",
       "0      6  \n",
       "1      6  \n",
       "2      5  \n",
       "3      5  \n",
       "4      5  "
      ]
     },
     "execution_count": 134,
     "metadata": {},
     "output_type": "execute_result"
    }
   ],
   "source": [
    "data['kclus']  = pd.Series(res)\n",
    "data.head()"
   ]
  },
  {
   "cell_type": "code",
   "execution_count": 136,
   "id": "9c7ea9e6",
   "metadata": {},
   "outputs": [
    {
     "data": {
      "text/plain": [
       "array([6, 5, 1, 0, 2, 7, 4, 3])"
      ]
     },
     "execution_count": 136,
     "metadata": {},
     "output_type": "execute_result"
    }
   ],
   "source": [
    "data['kclus'].unique()"
   ]
  },
  {
   "cell_type": "code",
   "execution_count": 137,
   "id": "b4b1c1f6",
   "metadata": {},
   "outputs": [
    {
     "data": {
      "text/plain": [
       "1    37\n",
       "5    34\n",
       "0    26\n",
       "6    23\n",
       "4    22\n",
       "3    20\n",
       "2    19\n",
       "7    19\n",
       "Name: kclus, dtype: int64"
      ]
     },
     "execution_count": 137,
     "metadata": {},
     "output_type": "execute_result"
    }
   ],
   "source": [
    "data['kclus'].value_counts()"
   ]
  },
  {
   "cell_type": "code",
   "execution_count": 141,
   "id": "595619e1",
   "metadata": {},
   "outputs": [
    {
     "data": {
      "image/png": "[encoded data removed]",
      "text/plain": [
       "<Figure size 1080x576 with 1 Axes>"
      ]
     },
     "metadata": {
      "needs_background": "light"
     },
     "output_type": "display_data"
    }
   ],
   "source": [
    "import matplotlib.pyplot as plt\n",
    "\n",
    "fig,ax = plt.subplots(figsize=(15,8))\n",
    "sns.scatterplot(x=data['Annual Income (k$)'],\n",
    "                y=data['Spending Score (1-100)'],\n",
    "                hue=data['kclus'],\n",
    "                palette='PuBuGn')\n",
    "plt.show()"
   ]
  },
  {
   "cell_type": "code",
   "execution_count": 144,
   "id": "32068b74",
   "metadata": {},
   "outputs": [
    {
     "data": {
      "text/html": [
       "<div>\n",
       "<style scoped>\n",
       "    .dataframe tbody tr th:only-of-type {\n",
       "        vertical-align: middle;\n",
       "    }\n",
       "\n",
       "    .dataframe tbody tr th {\n",
       "        vertical-align: top;\n",
       "    }\n",
       "\n",
       "    .dataframe thead th {\n",
       "        text-align: right;\n",
       "    }\n",
       "</style>\n",
       "<table border=\"1\" class=\"dataframe\">\n",
       "  <thead>\n",
       "    <tr style=\"text-align: right;\">\n",
       "      <th></th>\n",
       "      <th>CustomerID</th>\n",
       "      <th>Gender</th>\n",
       "      <th>Age</th>\n",
       "      <th>Annual Income (k$)</th>\n",
       "      <th>Spending Score (1-100)</th>\n",
       "    </tr>\n",
       "  </thead>\n",
       "  <tbody>\n",
       "    <tr>\n",
       "      <th>0</th>\n",
       "      <td>0.000000</td>\n",
       "      <td>1.0</td>\n",
       "      <td>0.019231</td>\n",
       "      <td>0.000000</td>\n",
       "      <td>0.387755</td>\n",
       "    </tr>\n",
       "    <tr>\n",
       "      <th>1</th>\n",
       "      <td>0.005025</td>\n",
       "      <td>1.0</td>\n",
       "      <td>0.057692</td>\n",
       "      <td>0.000000</td>\n",
       "      <td>0.816327</td>\n",
       "    </tr>\n",
       "    <tr>\n",
       "      <th>2</th>\n",
       "      <td>0.010050</td>\n",
       "      <td>0.0</td>\n",
       "      <td>0.038462</td>\n",
       "      <td>0.008197</td>\n",
       "      <td>0.051020</td>\n",
       "    </tr>\n",
       "    <tr>\n",
       "      <th>3</th>\n",
       "      <td>0.015075</td>\n",
       "      <td>0.0</td>\n",
       "      <td>0.096154</td>\n",
       "      <td>0.008197</td>\n",
       "      <td>0.775510</td>\n",
       "    </tr>\n",
       "    <tr>\n",
       "      <th>4</th>\n",
       "      <td>0.020101</td>\n",
       "      <td>0.0</td>\n",
       "      <td>0.250000</td>\n",
       "      <td>0.016393</td>\n",
       "      <td>0.397959</td>\n",
       "    </tr>\n",
       "  </tbody>\n",
       "</table>\n",
       "</div>"
      ],
      "text/plain": [
       "   CustomerID  Gender       Age  Annual Income (k$)  Spending Score (1-100)\n",
       "0    0.000000     1.0  0.019231            0.000000                0.387755\n",
       "1    0.005025     1.0  0.057692            0.000000                0.816327\n",
       "2    0.010050     0.0  0.038462            0.008197                0.051020\n",
       "3    0.015075     0.0  0.096154            0.008197                0.775510\n",
       "4    0.020101     0.0  0.250000            0.016393                0.397959"
      ]
     },
     "execution_count": 144,
     "metadata": {},
     "output_type": "execute_result"
    }
   ],
   "source": [
    "ind = data.iloc[:,0:5]\n",
    "ind.head()"
   ]
  },
  {
   "cell_type": "code",
   "execution_count": 146,
   "id": "709a3019",
   "metadata": {},
   "outputs": [
    {
     "data": {
      "text/html": [
       "<div>\n",
       "<style scoped>\n",
       "    .dataframe tbody tr th:only-of-type {\n",
       "        vertical-align: middle;\n",
       "    }\n",
       "\n",
       "    .dataframe tbody tr th {\n",
       "        vertical-align: top;\n",
       "    }\n",
       "\n",
       "    .dataframe thead th {\n",
       "        text-align: right;\n",
       "    }\n",
       "</style>\n",
       "<table border=\"1\" class=\"dataframe\">\n",
       "  <thead>\n",
       "    <tr style=\"text-align: right;\">\n",
       "      <th></th>\n",
       "      <th>kclus</th>\n",
       "    </tr>\n",
       "  </thead>\n",
       "  <tbody>\n",
       "    <tr>\n",
       "      <th>0</th>\n",
       "      <td>6</td>\n",
       "    </tr>\n",
       "    <tr>\n",
       "      <th>1</th>\n",
       "      <td>6</td>\n",
       "    </tr>\n",
       "    <tr>\n",
       "      <th>2</th>\n",
       "      <td>5</td>\n",
       "    </tr>\n",
       "    <tr>\n",
       "      <th>3</th>\n",
       "      <td>5</td>\n",
       "    </tr>\n",
       "    <tr>\n",
       "      <th>4</th>\n",
       "      <td>5</td>\n",
       "    </tr>\n",
       "  </tbody>\n",
       "</table>\n",
       "</div>"
      ],
      "text/plain": [
       "   kclus\n",
       "0      6\n",
       "1      6\n",
       "2      5\n",
       "3      5\n",
       "4      5"
      ]
     },
     "execution_count": 146,
     "metadata": {},
     "output_type": "execute_result"
    }
   ],
   "source": [
    "dep = data.iloc[:,5:]\n",
    "dep.head()"
   ]
  },
  {
   "cell_type": "markdown",
   "id": "6af4914c",
   "metadata": {},
   "source": [
    "## Independent and dependent variable splits"
   ]
  },
  {
   "cell_type": "markdown",
   "id": "2f364cdc",
   "metadata": {},
   "source": [
    "### Independent variables"
   ]
  },
  {
   "cell_type": "code",
   "execution_count": 158,
   "id": "0763346d",
   "metadata": {},
   "outputs": [
    {
     "data": {
      "text/html": [
       "<div>\n",
       "<style scoped>\n",
       "    .dataframe tbody tr th:only-of-type {\n",
       "        vertical-align: middle;\n",
       "    }\n",
       "\n",
       "    .dataframe tbody tr th {\n",
       "        vertical-align: top;\n",
       "    }\n",
       "\n",
       "    .dataframe thead th {\n",
       "        text-align: right;\n",
       "    }\n",
       "</style>\n",
       "<table border=\"1\" class=\"dataframe\">\n",
       "  <thead>\n",
       "    <tr style=\"text-align: right;\">\n",
       "      <th></th>\n",
       "      <th>CustomerID</th>\n",
       "      <th>Gender</th>\n",
       "      <th>Age</th>\n",
       "      <th>Annual Income (k$)</th>\n",
       "      <th>Spending Score (1-100)</th>\n",
       "    </tr>\n",
       "  </thead>\n",
       "  <tbody>\n",
       "    <tr>\n",
       "      <th>0</th>\n",
       "      <td>0.000000</td>\n",
       "      <td>1.0</td>\n",
       "      <td>0.019231</td>\n",
       "      <td>0.000000</td>\n",
       "      <td>0.387755</td>\n",
       "    </tr>\n",
       "    <tr>\n",
       "      <th>1</th>\n",
       "      <td>0.005025</td>\n",
       "      <td>1.0</td>\n",
       "      <td>0.057692</td>\n",
       "      <td>0.000000</td>\n",
       "      <td>0.816327</td>\n",
       "    </tr>\n",
       "    <tr>\n",
       "      <th>2</th>\n",
       "      <td>0.010050</td>\n",
       "      <td>0.0</td>\n",
       "      <td>0.038462</td>\n",
       "      <td>0.008197</td>\n",
       "      <td>0.051020</td>\n",
       "    </tr>\n",
       "    <tr>\n",
       "      <th>3</th>\n",
       "      <td>0.015075</td>\n",
       "      <td>0.0</td>\n",
       "      <td>0.096154</td>\n",
       "      <td>0.008197</td>\n",
       "      <td>0.775510</td>\n",
       "    </tr>\n",
       "    <tr>\n",
       "      <th>4</th>\n",
       "      <td>0.020101</td>\n",
       "      <td>0.0</td>\n",
       "      <td>0.250000</td>\n",
       "      <td>0.016393</td>\n",
       "      <td>0.397959</td>\n",
       "    </tr>\n",
       "  </tbody>\n",
       "</table>\n",
       "</div>"
      ],
      "text/plain": [
       "   CustomerID  Gender       Age  Annual Income (k$)  Spending Score (1-100)\n",
       "0    0.000000     1.0  0.019231            0.000000                0.387755\n",
       "1    0.005025     1.0  0.057692            0.000000                0.816327\n",
       "2    0.010050     0.0  0.038462            0.008197                0.051020\n",
       "3    0.015075     0.0  0.096154            0.008197                0.775510\n",
       "4    0.020101     0.0  0.250000            0.016393                0.397959"
      ]
     },
     "execution_count": 158,
     "metadata": {},
     "output_type": "execute_result"
    }
   ],
   "source": [
    "X= data.iloc[:,:-1]\n",
    "X.head()"
   ]
  },
  {
   "cell_type": "markdown",
   "id": "77be3222",
   "metadata": {},
   "source": [
    "### Dependent variables"
   ]
  },
  {
   "cell_type": "code",
   "execution_count": 159,
   "id": "156e6190",
   "metadata": {},
   "outputs": [
    {
     "data": {
      "text/plain": [
       "0      6\n",
       "1      6\n",
       "2      5\n",
       "3      5\n",
       "4      5\n",
       "      ..\n",
       "195    4\n",
       "196    7\n",
       "197    2\n",
       "198    3\n",
       "199    2\n",
       "Name: kclus, Length: 200, dtype: int32"
      ]
     },
     "execution_count": 159,
     "metadata": {},
     "output_type": "execute_result"
    }
   ],
   "source": [
    "y = data.kclus\n",
    "y"
   ]
  },
  {
   "cell_type": "code",
   "execution_count": 161,
   "id": "3ca5a4c0",
   "metadata": {},
   "outputs": [
    {
     "data": {
      "text/html": [
       "<div>\n",
       "<style scoped>\n",
       "    .dataframe tbody tr th:only-of-type {\n",
       "        vertical-align: middle;\n",
       "    }\n",
       "\n",
       "    .dataframe tbody tr th {\n",
       "        vertical-align: top;\n",
       "    }\n",
       "\n",
       "    .dataframe thead th {\n",
       "        text-align: right;\n",
       "    }\n",
       "</style>\n",
       "<table border=\"1\" class=\"dataframe\">\n",
       "  <thead>\n",
       "    <tr style=\"text-align: right;\">\n",
       "      <th></th>\n",
       "      <th>CustomerID</th>\n",
       "      <th>Gender</th>\n",
       "      <th>Age</th>\n",
       "      <th>Annual Income (k$)</th>\n",
       "      <th>Spending Score (1-100)</th>\n",
       "    </tr>\n",
       "  </thead>\n",
       "  <tbody>\n",
       "    <tr>\n",
       "      <th>0</th>\n",
       "      <td>0.000000</td>\n",
       "      <td>1.0</td>\n",
       "      <td>0.019231</td>\n",
       "      <td>0.000000</td>\n",
       "      <td>0.387755</td>\n",
       "    </tr>\n",
       "    <tr>\n",
       "      <th>1</th>\n",
       "      <td>0.005025</td>\n",
       "      <td>1.0</td>\n",
       "      <td>0.057692</td>\n",
       "      <td>0.000000</td>\n",
       "      <td>0.816327</td>\n",
       "    </tr>\n",
       "    <tr>\n",
       "      <th>2</th>\n",
       "      <td>0.010050</td>\n",
       "      <td>0.0</td>\n",
       "      <td>0.038462</td>\n",
       "      <td>0.008197</td>\n",
       "      <td>0.051020</td>\n",
       "    </tr>\n",
       "    <tr>\n",
       "      <th>3</th>\n",
       "      <td>0.015075</td>\n",
       "      <td>0.0</td>\n",
       "      <td>0.096154</td>\n",
       "      <td>0.008197</td>\n",
       "      <td>0.775510</td>\n",
       "    </tr>\n",
       "    <tr>\n",
       "      <th>4</th>\n",
       "      <td>0.020101</td>\n",
       "      <td>0.0</td>\n",
       "      <td>0.250000</td>\n",
       "      <td>0.016393</td>\n",
       "      <td>0.397959</td>\n",
       "    </tr>\n",
       "  </tbody>\n",
       "</table>\n",
       "</div>"
      ],
      "text/plain": [
       "   CustomerID  Gender       Age  Annual Income (k$)  Spending Score (1-100)\n",
       "0    0.000000     1.0  0.019231            0.000000                0.387755\n",
       "1    0.005025     1.0  0.057692            0.000000                0.816327\n",
       "2    0.010050     0.0  0.038462            0.008197                0.051020\n",
       "3    0.015075     0.0  0.096154            0.008197                0.775510\n",
       "4    0.020101     0.0  0.250000            0.016393                0.397959"
      ]
     },
     "execution_count": 161,
     "metadata": {},
     "output_type": "execute_result"
    }
   ],
   "source": [
    "X.head()"
   ]
  },
  {
   "cell_type": "markdown",
   "id": "b481c6a9",
   "metadata": {},
   "source": [
    "## Scaling the independent variables"
   ]
  },
  {
   "cell_type": "code",
   "execution_count": 162,
   "id": "d9245b62",
   "metadata": {},
   "outputs": [],
   "source": [
    "from sklearn.preprocessing import scale"
   ]
  },
  {
   "cell_type": "code",
   "execution_count": 163,
   "id": "af8f4171",
   "metadata": {},
   "outputs": [
    {
     "data": {
      "text/html": [
       "<div>\n",
       "<style scoped>\n",
       "    .dataframe tbody tr th:only-of-type {\n",
       "        vertical-align: middle;\n",
       "    }\n",
       "\n",
       "    .dataframe tbody tr th {\n",
       "        vertical-align: top;\n",
       "    }\n",
       "\n",
       "    .dataframe thead th {\n",
       "        text-align: right;\n",
       "    }\n",
       "</style>\n",
       "<table border=\"1\" class=\"dataframe\">\n",
       "  <thead>\n",
       "    <tr style=\"text-align: right;\">\n",
       "      <th></th>\n",
       "      <th>CustomerID</th>\n",
       "      <th>Gender</th>\n",
       "      <th>Age</th>\n",
       "      <th>Annual Income (k$)</th>\n",
       "      <th>Spending Score (1-100)</th>\n",
       "    </tr>\n",
       "  </thead>\n",
       "  <tbody>\n",
       "    <tr>\n",
       "      <th>0</th>\n",
       "      <td>-1.723412</td>\n",
       "      <td>1.128152</td>\n",
       "      <td>-1.424569</td>\n",
       "      <td>-1.738999</td>\n",
       "      <td>-0.434801</td>\n",
       "    </tr>\n",
       "    <tr>\n",
       "      <th>1</th>\n",
       "      <td>-1.706091</td>\n",
       "      <td>1.128152</td>\n",
       "      <td>-1.281035</td>\n",
       "      <td>-1.738999</td>\n",
       "      <td>1.195704</td>\n",
       "    </tr>\n",
       "    <tr>\n",
       "      <th>2</th>\n",
       "      <td>-1.688771</td>\n",
       "      <td>-0.886405</td>\n",
       "      <td>-1.352802</td>\n",
       "      <td>-1.700830</td>\n",
       "      <td>-1.715913</td>\n",
       "    </tr>\n",
       "    <tr>\n",
       "      <th>3</th>\n",
       "      <td>-1.671450</td>\n",
       "      <td>-0.886405</td>\n",
       "      <td>-1.137502</td>\n",
       "      <td>-1.700830</td>\n",
       "      <td>1.040418</td>\n",
       "    </tr>\n",
       "    <tr>\n",
       "      <th>4</th>\n",
       "      <td>-1.654129</td>\n",
       "      <td>-0.886405</td>\n",
       "      <td>-0.563369</td>\n",
       "      <td>-1.662660</td>\n",
       "      <td>-0.395980</td>\n",
       "    </tr>\n",
       "  </tbody>\n",
       "</table>\n",
       "</div>"
      ],
      "text/plain": [
       "   CustomerID    Gender       Age  Annual Income (k$)  Spending Score (1-100)\n",
       "0   -1.723412  1.128152 -1.424569           -1.738999               -0.434801\n",
       "1   -1.706091  1.128152 -1.281035           -1.738999                1.195704\n",
       "2   -1.688771 -0.886405 -1.352802           -1.700830               -1.715913\n",
       "3   -1.671450 -0.886405 -1.137502           -1.700830                1.040418\n",
       "4   -1.654129 -0.886405 -0.563369           -1.662660               -0.395980"
      ]
     },
     "execution_count": 163,
     "metadata": {},
     "output_type": "execute_result"
    }
   ],
   "source": [
    "X_scaled = pd.DataFrame(scale(X),columns=X.columns)\n",
    "X_scaled.head()"
   ]
  },
  {
   "cell_type": "markdown",
   "id": "1d626989",
   "metadata": {},
   "source": [
    "## Spliting the data for training and testing"
   ]
  },
  {
   "cell_type": "code",
   "execution_count": 164,
   "id": "1c79b0f9",
   "metadata": {},
   "outputs": [],
   "source": [
    "from sklearn.model_selection import train_test_split\n",
    "X_train,X_test,y_train,y_test =train_test_split(X_scaled,y, test_size=0.3,random_state=0)"
   ]
  },
  {
   "cell_type": "code",
   "execution_count": 165,
   "id": "a56a2f47",
   "metadata": {},
   "outputs": [
    {
     "data": {
      "text/html": [
       "<div>\n",
       "<style scoped>\n",
       "    .dataframe tbody tr th:only-of-type {\n",
       "        vertical-align: middle;\n",
       "    }\n",
       "\n",
       "    .dataframe tbody tr th {\n",
       "        vertical-align: top;\n",
       "    }\n",
       "\n",
       "    .dataframe thead th {\n",
       "        text-align: right;\n",
       "    }\n",
       "</style>\n",
       "<table border=\"1\" class=\"dataframe\">\n",
       "  <thead>\n",
       "    <tr style=\"text-align: right;\">\n",
       "      <th></th>\n",
       "      <th>CustomerID</th>\n",
       "      <th>Gender</th>\n",
       "      <th>Age</th>\n",
       "      <th>Annual Income (k$)</th>\n",
       "      <th>Spending Score (1-100)</th>\n",
       "    </tr>\n",
       "  </thead>\n",
       "  <tbody>\n",
       "    <tr>\n",
       "      <th>131</th>\n",
       "      <td>0.545603</td>\n",
       "      <td>1.128152</td>\n",
       "      <td>0.010765</td>\n",
       "      <td>0.398489</td>\n",
       "      <td>0.962775</td>\n",
       "    </tr>\n",
       "    <tr>\n",
       "      <th>96</th>\n",
       "      <td>-0.060623</td>\n",
       "      <td>-0.886405</td>\n",
       "      <td>0.584899</td>\n",
       "      <td>-0.021375</td>\n",
       "      <td>-0.124229</td>\n",
       "    </tr>\n",
       "    <tr>\n",
       "      <th>181</th>\n",
       "      <td>1.411639</td>\n",
       "      <td>-0.886405</td>\n",
       "      <td>-0.491602</td>\n",
       "      <td>1.390894</td>\n",
       "      <td>1.389812</td>\n",
       "    </tr>\n",
       "    <tr>\n",
       "      <th>19</th>\n",
       "      <td>-1.394318</td>\n",
       "      <td>-0.886405</td>\n",
       "      <td>-0.276302</td>\n",
       "      <td>-1.433644</td>\n",
       "      <td>1.855671</td>\n",
       "    </tr>\n",
       "    <tr>\n",
       "      <th>153</th>\n",
       "      <td>0.926659</td>\n",
       "      <td>-0.886405</td>\n",
       "      <td>-0.061002</td>\n",
       "      <td>0.665675</td>\n",
       "      <td>1.001596</td>\n",
       "    </tr>\n",
       "    <tr>\n",
       "      <th>...</th>\n",
       "      <td>...</td>\n",
       "      <td>...</td>\n",
       "      <td>...</td>\n",
       "      <td>...</td>\n",
       "      <td>...</td>\n",
       "    </tr>\n",
       "    <tr>\n",
       "      <th>67</th>\n",
       "      <td>-0.562924</td>\n",
       "      <td>-0.886405</td>\n",
       "      <td>2.091999</td>\n",
       "      <td>-0.479408</td>\n",
       "      <td>-0.085407</td>\n",
       "    </tr>\n",
       "    <tr>\n",
       "      <th>192</th>\n",
       "      <td>1.602167</td>\n",
       "      <td>1.128152</td>\n",
       "      <td>-0.419835</td>\n",
       "      <td>2.001605</td>\n",
       "      <td>-1.638270</td>\n",
       "    </tr>\n",
       "    <tr>\n",
       "      <th>117</th>\n",
       "      <td>0.303113</td>\n",
       "      <td>-0.886405</td>\n",
       "      <td>0.728432</td>\n",
       "      <td>0.169472</td>\n",
       "      <td>0.341630</td>\n",
       "    </tr>\n",
       "    <tr>\n",
       "      <th>47</th>\n",
       "      <td>-0.909338</td>\n",
       "      <td>-0.886405</td>\n",
       "      <td>-0.850435</td>\n",
       "      <td>-0.784763</td>\n",
       "      <td>-0.124229</td>\n",
       "    </tr>\n",
       "    <tr>\n",
       "      <th>172</th>\n",
       "      <td>1.255753</td>\n",
       "      <td>1.128152</td>\n",
       "      <td>-0.204535</td>\n",
       "      <td>1.009200</td>\n",
       "      <td>-1.560627</td>\n",
       "    </tr>\n",
       "  </tbody>\n",
       "</table>\n",
       "<p>140 rows × 5 columns</p>\n",
       "</div>"
      ],
      "text/plain": [
       "     CustomerID    Gender       Age  Annual Income (k$)  \\\n",
       "131    0.545603  1.128152  0.010765            0.398489   \n",
       "96    -0.060623 -0.886405  0.584899           -0.021375   \n",
       "181    1.411639 -0.886405 -0.491602            1.390894   \n",
       "19    -1.394318 -0.886405 -0.276302           -1.433644   \n",
       "153    0.926659 -0.886405 -0.061002            0.665675   \n",
       "..          ...       ...       ...                 ...   \n",
       "67    -0.562924 -0.886405  2.091999           -0.479408   \n",
       "192    1.602167  1.128152 -0.419835            2.001605   \n",
       "117    0.303113 -0.886405  0.728432            0.169472   \n",
       "47    -0.909338 -0.886405 -0.850435           -0.784763   \n",
       "172    1.255753  1.128152 -0.204535            1.009200   \n",
       "\n",
       "     Spending Score (1-100)  \n",
       "131                0.962775  \n",
       "96                -0.124229  \n",
       "181                1.389812  \n",
       "19                 1.855671  \n",
       "153                1.001596  \n",
       "..                      ...  \n",
       "67                -0.085407  \n",
       "192               -1.638270  \n",
       "117                0.341630  \n",
       "47                -0.124229  \n",
       "172               -1.560627  \n",
       "\n",
       "[140 rows x 5 columns]"
      ]
     },
     "execution_count": 165,
     "metadata": {},
     "output_type": "execute_result"
    }
   ],
   "source": [
    "X_train"
   ]
  },
  {
   "cell_type": "code",
   "execution_count": 166,
   "id": "34997114",
   "metadata": {},
   "outputs": [
    {
     "data": {
      "text/plain": [
       "131    2\n",
       "96     1\n",
       "181    4\n",
       "19     5\n",
       "153    4\n",
       "      ..\n",
       "67     1\n",
       "192    3\n",
       "117    1\n",
       "47     5\n",
       "172    3\n",
       "Name: kclus, Length: 140, dtype: int32"
      ]
     },
     "execution_count": 166,
     "metadata": {},
     "output_type": "execute_result"
    }
   ],
   "source": [
    "y_train"
   ]
  },
  {
   "cell_type": "code",
   "execution_count": 167,
   "id": "c7992c86",
   "metadata": {},
   "outputs": [
    {
     "data": {
      "text/plain": [
       "(140, 5)"
      ]
     },
     "execution_count": 167,
     "metadata": {},
     "output_type": "execute_result"
    }
   ],
   "source": [
    "X_train.shape"
   ]
  },
  {
   "cell_type": "code",
   "execution_count": 168,
   "id": "0dedf36f",
   "metadata": {},
   "outputs": [
    {
     "data": {
      "text/plain": [
       "(140,)"
      ]
     },
     "execution_count": 168,
     "metadata": {},
     "output_type": "execute_result"
    }
   ],
   "source": [
    "y_train.shape"
   ]
  },
  {
   "cell_type": "code",
   "execution_count": 169,
   "id": "57d9fc74",
   "metadata": {},
   "outputs": [
    {
     "data": {
      "text/html": [
       "<div>\n",
       "<style scoped>\n",
       "    .dataframe tbody tr th:only-of-type {\n",
       "        vertical-align: middle;\n",
       "    }\n",
       "\n",
       "    .dataframe tbody tr th {\n",
       "        vertical-align: top;\n",
       "    }\n",
       "\n",
       "    .dataframe thead th {\n",
       "        text-align: right;\n",
       "    }\n",
       "</style>\n",
       "<table border=\"1\" class=\"dataframe\">\n",
       "  <thead>\n",
       "    <tr style=\"text-align: right;\">\n",
       "      <th></th>\n",
       "      <th>CustomerID</th>\n",
       "      <th>Gender</th>\n",
       "      <th>Age</th>\n",
       "      <th>Annual Income (k$)</th>\n",
       "      <th>Spending Score (1-100)</th>\n",
       "    </tr>\n",
       "  </thead>\n",
       "  <tbody>\n",
       "    <tr>\n",
       "      <th>18</th>\n",
       "      <td>-1.411639</td>\n",
       "      <td>1.128152</td>\n",
       "      <td>0.943732</td>\n",
       "      <td>-1.433644</td>\n",
       "      <td>-0.823017</td>\n",
       "    </tr>\n",
       "    <tr>\n",
       "      <th>170</th>\n",
       "      <td>1.221111</td>\n",
       "      <td>1.128152</td>\n",
       "      <td>0.082532</td>\n",
       "      <td>1.009200</td>\n",
       "      <td>-1.444162</td>\n",
       "    </tr>\n",
       "    <tr>\n",
       "      <th>107</th>\n",
       "      <td>0.129905</td>\n",
       "      <td>1.128152</td>\n",
       "      <td>1.087265</td>\n",
       "      <td>0.093133</td>\n",
       "      <td>-0.163051</td>\n",
       "    </tr>\n",
       "    <tr>\n",
       "      <th>98</th>\n",
       "      <td>-0.025981</td>\n",
       "      <td>1.128152</td>\n",
       "      <td>0.656665</td>\n",
       "      <td>0.016795</td>\n",
       "      <td>-0.318337</td>\n",
       "    </tr>\n",
       "    <tr>\n",
       "      <th>177</th>\n",
       "      <td>1.342356</td>\n",
       "      <td>1.128152</td>\n",
       "      <td>-0.850435</td>\n",
       "      <td>1.047369</td>\n",
       "      <td>0.729845</td>\n",
       "    </tr>\n",
       "    <tr>\n",
       "      <th>182</th>\n",
       "      <td>1.428960</td>\n",
       "      <td>1.128152</td>\n",
       "      <td>0.513132</td>\n",
       "      <td>1.429063</td>\n",
       "      <td>-1.366519</td>\n",
       "    </tr>\n",
       "    <tr>\n",
       "      <th>5</th>\n",
       "      <td>-1.636808</td>\n",
       "      <td>-0.886405</td>\n",
       "      <td>-1.209269</td>\n",
       "      <td>-1.662660</td>\n",
       "      <td>1.001596</td>\n",
       "    </tr>\n",
       "    <tr>\n",
       "      <th>146</th>\n",
       "      <td>0.805414</td>\n",
       "      <td>1.128152</td>\n",
       "      <td>0.656665</td>\n",
       "      <td>0.627505</td>\n",
       "      <td>-0.551266</td>\n",
       "    </tr>\n",
       "    <tr>\n",
       "      <th>12</th>\n",
       "      <td>-1.515563</td>\n",
       "      <td>-0.886405</td>\n",
       "      <td>1.374332</td>\n",
       "      <td>-1.548152</td>\n",
       "      <td>-1.366519</td>\n",
       "    </tr>\n",
       "    <tr>\n",
       "      <th>152</th>\n",
       "      <td>0.909338</td>\n",
       "      <td>-0.886405</td>\n",
       "      <td>0.369598</td>\n",
       "      <td>0.665675</td>\n",
       "      <td>-1.172411</td>\n",
       "    </tr>\n",
       "    <tr>\n",
       "      <th>61</th>\n",
       "      <td>-0.666848</td>\n",
       "      <td>1.128152</td>\n",
       "      <td>-1.424569</td>\n",
       "      <td>-0.555747</td>\n",
       "      <td>0.186343</td>\n",
       "    </tr>\n",
       "    <tr>\n",
       "      <th>125</th>\n",
       "      <td>0.441678</td>\n",
       "      <td>-0.886405</td>\n",
       "      <td>-0.563369</td>\n",
       "      <td>0.360319</td>\n",
       "      <td>1.040418</td>\n",
       "    </tr>\n",
       "    <tr>\n",
       "      <th>180</th>\n",
       "      <td>1.394318</td>\n",
       "      <td>-0.886405</td>\n",
       "      <td>-0.132768</td>\n",
       "      <td>1.390894</td>\n",
       "      <td>-0.706552</td>\n",
       "    </tr>\n",
       "    <tr>\n",
       "      <th>154</th>\n",
       "      <td>0.943979</td>\n",
       "      <td>-0.886405</td>\n",
       "      <td>0.584899</td>\n",
       "      <td>0.665675</td>\n",
       "      <td>-1.327697</td>\n",
       "    </tr>\n",
       "    <tr>\n",
       "      <th>80</th>\n",
       "      <td>-0.337754</td>\n",
       "      <td>1.128152</td>\n",
       "      <td>1.302565</td>\n",
       "      <td>-0.250391</td>\n",
       "      <td>0.031057</td>\n",
       "    </tr>\n",
       "    <tr>\n",
       "      <th>7</th>\n",
       "      <td>-1.602167</td>\n",
       "      <td>-0.886405</td>\n",
       "      <td>-1.137502</td>\n",
       "      <td>-1.624491</td>\n",
       "      <td>1.700384</td>\n",
       "    </tr>\n",
       "    <tr>\n",
       "      <th>33</th>\n",
       "      <td>-1.151828</td>\n",
       "      <td>1.128152</td>\n",
       "      <td>-1.496335</td>\n",
       "      <td>-1.051949</td>\n",
       "      <td>1.622741</td>\n",
       "    </tr>\n",
       "    <tr>\n",
       "      <th>130</th>\n",
       "      <td>0.528282</td>\n",
       "      <td>1.128152</td>\n",
       "      <td>0.584899</td>\n",
       "      <td>0.398489</td>\n",
       "      <td>-1.599448</td>\n",
       "    </tr>\n",
       "    <tr>\n",
       "      <th>37</th>\n",
       "      <td>-1.082545</td>\n",
       "      <td>-0.886405</td>\n",
       "      <td>-0.635135</td>\n",
       "      <td>-1.013780</td>\n",
       "      <td>0.885132</td>\n",
       "    </tr>\n",
       "    <tr>\n",
       "      <th>74</th>\n",
       "      <td>-0.441678</td>\n",
       "      <td>1.128152</td>\n",
       "      <td>1.446099</td>\n",
       "      <td>-0.250391</td>\n",
       "      <td>-0.124229</td>\n",
       "    </tr>\n",
       "    <tr>\n",
       "      <th>183</th>\n",
       "      <td>1.446281</td>\n",
       "      <td>-0.886405</td>\n",
       "      <td>-0.706902</td>\n",
       "      <td>1.429063</td>\n",
       "      <td>1.467455</td>\n",
       "    </tr>\n",
       "    <tr>\n",
       "      <th>145</th>\n",
       "      <td>0.788093</td>\n",
       "      <td>1.128152</td>\n",
       "      <td>-0.778669</td>\n",
       "      <td>0.627505</td>\n",
       "      <td>1.816849</td>\n",
       "    </tr>\n",
       "    <tr>\n",
       "      <th>45</th>\n",
       "      <td>-0.943979</td>\n",
       "      <td>-0.886405</td>\n",
       "      <td>-1.065735</td>\n",
       "      <td>-0.822933</td>\n",
       "      <td>0.574559</td>\n",
       "    </tr>\n",
       "    <tr>\n",
       "      <th>159</th>\n",
       "      <td>1.030583</td>\n",
       "      <td>-0.886405</td>\n",
       "      <td>-0.635135</td>\n",
       "      <td>0.665675</td>\n",
       "      <td>0.885132</td>\n",
       "    </tr>\n",
       "    <tr>\n",
       "      <th>60</th>\n",
       "      <td>-0.684169</td>\n",
       "      <td>1.128152</td>\n",
       "      <td>2.235532</td>\n",
       "      <td>-0.555747</td>\n",
       "      <td>0.225165</td>\n",
       "    </tr>\n",
       "    <tr>\n",
       "      <th>123</th>\n",
       "      <td>0.407037</td>\n",
       "      <td>1.128152</td>\n",
       "      <td>0.010765</td>\n",
       "      <td>0.322150</td>\n",
       "      <td>1.583920</td>\n",
       "    </tr>\n",
       "    <tr>\n",
       "      <th>179</th>\n",
       "      <td>1.376998</td>\n",
       "      <td>1.128152</td>\n",
       "      <td>-0.276302</td>\n",
       "      <td>1.238216</td>\n",
       "      <td>1.545098</td>\n",
       "    </tr>\n",
       "    <tr>\n",
       "      <th>185</th>\n",
       "      <td>1.480922</td>\n",
       "      <td>1.128152</td>\n",
       "      <td>-0.635135</td>\n",
       "      <td>1.467233</td>\n",
       "      <td>1.816849</td>\n",
       "    </tr>\n",
       "    <tr>\n",
       "      <th>122</th>\n",
       "      <td>0.389716</td>\n",
       "      <td>-0.886405</td>\n",
       "      <td>0.082532</td>\n",
       "      <td>0.322150</td>\n",
       "      <td>0.302808</td>\n",
       "    </tr>\n",
       "    <tr>\n",
       "      <th>44</th>\n",
       "      <td>-0.961300</td>\n",
       "      <td>-0.886405</td>\n",
       "      <td>0.728432</td>\n",
       "      <td>-0.822933</td>\n",
       "      <td>-0.861839</td>\n",
       "    </tr>\n",
       "    <tr>\n",
       "      <th>16</th>\n",
       "      <td>-1.446281</td>\n",
       "      <td>-0.886405</td>\n",
       "      <td>-0.276302</td>\n",
       "      <td>-1.509983</td>\n",
       "      <td>-0.590088</td>\n",
       "    </tr>\n",
       "    <tr>\n",
       "      <th>55</th>\n",
       "      <td>-0.770772</td>\n",
       "      <td>1.128152</td>\n",
       "      <td>0.584899</td>\n",
       "      <td>-0.670255</td>\n",
       "      <td>-0.357158</td>\n",
       "    </tr>\n",
       "    <tr>\n",
       "      <th>150</th>\n",
       "      <td>0.874697</td>\n",
       "      <td>1.128152</td>\n",
       "      <td>0.297832</td>\n",
       "      <td>0.665675</td>\n",
       "      <td>-1.288876</td>\n",
       "    </tr>\n",
       "    <tr>\n",
       "      <th>111</th>\n",
       "      <td>0.199188</td>\n",
       "      <td>-0.886405</td>\n",
       "      <td>-1.424569</td>\n",
       "      <td>0.093133</td>\n",
       "      <td>0.147522</td>\n",
       "    </tr>\n",
       "    <tr>\n",
       "      <th>22</th>\n",
       "      <td>-1.342356</td>\n",
       "      <td>-0.886405</td>\n",
       "      <td>0.513132</td>\n",
       "      <td>-1.357305</td>\n",
       "      <td>-1.754735</td>\n",
       "    </tr>\n",
       "    <tr>\n",
       "      <th>189</th>\n",
       "      <td>1.550205</td>\n",
       "      <td>-0.886405</td>\n",
       "      <td>-0.204535</td>\n",
       "      <td>1.619911</td>\n",
       "      <td>1.350990</td>\n",
       "    </tr>\n",
       "    <tr>\n",
       "      <th>129</th>\n",
       "      <td>0.510961</td>\n",
       "      <td>1.128152</td>\n",
       "      <td>-0.061002</td>\n",
       "      <td>0.398489</td>\n",
       "      <td>0.962775</td>\n",
       "    </tr>\n",
       "    <tr>\n",
       "      <th>4</th>\n",
       "      <td>-1.654129</td>\n",
       "      <td>-0.886405</td>\n",
       "      <td>-0.563369</td>\n",
       "      <td>-1.662660</td>\n",
       "      <td>-0.395980</td>\n",
       "    </tr>\n",
       "    <tr>\n",
       "      <th>83</th>\n",
       "      <td>-0.285792</td>\n",
       "      <td>-0.886405</td>\n",
       "      <td>0.513132</td>\n",
       "      <td>-0.250391</td>\n",
       "      <td>-0.240694</td>\n",
       "    </tr>\n",
       "    <tr>\n",
       "      <th>106</th>\n",
       "      <td>0.112585</td>\n",
       "      <td>-0.886405</td>\n",
       "      <td>1.948466</td>\n",
       "      <td>0.093133</td>\n",
       "      <td>-0.007764</td>\n",
       "    </tr>\n",
       "    <tr>\n",
       "      <th>134</th>\n",
       "      <td>0.597565</td>\n",
       "      <td>1.128152</td>\n",
       "      <td>-1.352802</td>\n",
       "      <td>0.474828</td>\n",
       "      <td>-1.754735</td>\n",
       "    </tr>\n",
       "    <tr>\n",
       "      <th>66</th>\n",
       "      <td>-0.580244</td>\n",
       "      <td>-0.886405</td>\n",
       "      <td>0.297832</td>\n",
       "      <td>-0.479408</td>\n",
       "      <td>-0.007764</td>\n",
       "    </tr>\n",
       "    <tr>\n",
       "      <th>26</th>\n",
       "      <td>-1.273073</td>\n",
       "      <td>-0.886405</td>\n",
       "      <td>0.441365</td>\n",
       "      <td>-1.242797</td>\n",
       "      <td>-0.706552</td>\n",
       "    </tr>\n",
       "    <tr>\n",
       "      <th>113</th>\n",
       "      <td>0.233830</td>\n",
       "      <td>1.128152</td>\n",
       "      <td>-1.424569</td>\n",
       "      <td>0.131303</td>\n",
       "      <td>-0.163051</td>\n",
       "    </tr>\n",
       "    <tr>\n",
       "      <th>168</th>\n",
       "      <td>1.186470</td>\n",
       "      <td>-0.886405</td>\n",
       "      <td>-0.204535</td>\n",
       "      <td>1.009200</td>\n",
       "      <td>-0.900660</td>\n",
       "    </tr>\n",
       "    <tr>\n",
       "      <th>63</th>\n",
       "      <td>-0.632206</td>\n",
       "      <td>-0.886405</td>\n",
       "      <td>1.087265</td>\n",
       "      <td>-0.517577</td>\n",
       "      <td>0.341630</td>\n",
       "    </tr>\n",
       "    <tr>\n",
       "      <th>8</th>\n",
       "      <td>-1.584846</td>\n",
       "      <td>1.128152</td>\n",
       "      <td>1.804932</td>\n",
       "      <td>-1.586321</td>\n",
       "      <td>-1.832378</td>\n",
       "    </tr>\n",
       "    <tr>\n",
       "      <th>75</th>\n",
       "      <td>-0.424358</td>\n",
       "      <td>1.128152</td>\n",
       "      <td>-0.922202</td>\n",
       "      <td>-0.250391</td>\n",
       "      <td>0.147522</td>\n",
       "    </tr>\n",
       "    <tr>\n",
       "      <th>118</th>\n",
       "      <td>0.320433</td>\n",
       "      <td>-0.886405</td>\n",
       "      <td>0.871965</td>\n",
       "      <td>0.245811</td>\n",
       "      <td>-0.279515</td>\n",
       "    </tr>\n",
       "    <tr>\n",
       "      <th>143</th>\n",
       "      <td>0.753452</td>\n",
       "      <td>-0.886405</td>\n",
       "      <td>-0.491602</td>\n",
       "      <td>0.589336</td>\n",
       "      <td>1.428633</td>\n",
       "    </tr>\n",
       "    <tr>\n",
       "      <th>71</th>\n",
       "      <td>-0.493641</td>\n",
       "      <td>-0.886405</td>\n",
       "      <td>0.584899</td>\n",
       "      <td>-0.441239</td>\n",
       "      <td>-0.318337</td>\n",
       "    </tr>\n",
       "    <tr>\n",
       "      <th>124</th>\n",
       "      <td>0.424358</td>\n",
       "      <td>-0.886405</td>\n",
       "      <td>-1.137502</td>\n",
       "      <td>0.360319</td>\n",
       "      <td>-0.823017</td>\n",
       "    </tr>\n",
       "    <tr>\n",
       "      <th>184</th>\n",
       "      <td>1.463601</td>\n",
       "      <td>-0.886405</td>\n",
       "      <td>0.154298</td>\n",
       "      <td>1.467233</td>\n",
       "      <td>-0.434801</td>\n",
       "    </tr>\n",
       "    <tr>\n",
       "      <th>97</th>\n",
       "      <td>-0.043302</td>\n",
       "      <td>-0.886405</td>\n",
       "      <td>-0.850435</td>\n",
       "      <td>-0.021375</td>\n",
       "      <td>-0.007764</td>\n",
       "    </tr>\n",
       "    <tr>\n",
       "      <th>149</th>\n",
       "      <td>0.857376</td>\n",
       "      <td>1.128152</td>\n",
       "      <td>-0.348068</td>\n",
       "      <td>0.665675</td>\n",
       "      <td>1.545098</td>\n",
       "    </tr>\n",
       "    <tr>\n",
       "      <th>24</th>\n",
       "      <td>-1.307715</td>\n",
       "      <td>-0.886405</td>\n",
       "      <td>1.087265</td>\n",
       "      <td>-1.242797</td>\n",
       "      <td>-1.405340</td>\n",
       "    </tr>\n",
       "    <tr>\n",
       "      <th>30</th>\n",
       "      <td>-1.203790</td>\n",
       "      <td>1.128152</td>\n",
       "      <td>1.517865</td>\n",
       "      <td>-1.166458</td>\n",
       "      <td>-1.793556</td>\n",
       "    </tr>\n",
       "    <tr>\n",
       "      <th>160</th>\n",
       "      <td>1.047904</td>\n",
       "      <td>-0.886405</td>\n",
       "      <td>1.230799</td>\n",
       "      <td>0.703844</td>\n",
       "      <td>-0.590088</td>\n",
       "    </tr>\n",
       "    <tr>\n",
       "      <th>40</th>\n",
       "      <td>-1.030583</td>\n",
       "      <td>-0.886405</td>\n",
       "      <td>1.876699</td>\n",
       "      <td>-0.861102</td>\n",
       "      <td>-0.590088</td>\n",
       "    </tr>\n",
       "    <tr>\n",
       "      <th>56</th>\n",
       "      <td>-0.753452</td>\n",
       "      <td>-0.886405</td>\n",
       "      <td>0.871965</td>\n",
       "      <td>-0.632086</td>\n",
       "      <td>-0.007764</td>\n",
       "    </tr>\n",
       "  </tbody>\n",
       "</table>\n",
       "</div>"
      ],
      "text/plain": [
       "     CustomerID    Gender       Age  Annual Income (k$)  \\\n",
       "18    -1.411639  1.128152  0.943732           -1.433644   \n",
       "170    1.221111  1.128152  0.082532            1.009200   \n",
       "107    0.129905  1.128152  1.087265            0.093133   \n",
       "98    -0.025981  1.128152  0.656665            0.016795   \n",
       "177    1.342356  1.128152 -0.850435            1.047369   \n",
       "182    1.428960  1.128152  0.513132            1.429063   \n",
       "5     -1.636808 -0.886405 -1.209269           -1.662660   \n",
       "146    0.805414  1.128152  0.656665            0.627505   \n",
       "12    -1.515563 -0.886405  1.374332           -1.548152   \n",
       "152    0.909338 -0.886405  0.369598            0.665675   \n",
       "61    -0.666848  1.128152 -1.424569           -0.555747   \n",
       "125    0.441678 -0.886405 -0.563369            0.360319   \n",
       "180    1.394318 -0.886405 -0.132768            1.390894   \n",
       "154    0.943979 -0.886405  0.584899            0.665675   \n",
       "80    -0.337754  1.128152  1.302565           -0.250391   \n",
       "7     -1.602167 -0.886405 -1.137502           -1.624491   \n",
       "33    -1.151828  1.128152 -1.496335           -1.051949   \n",
       "130    0.528282  1.128152  0.584899            0.398489   \n",
       "37    -1.082545 -0.886405 -0.635135           -1.013780   \n",
       "74    -0.441678  1.128152  1.446099           -0.250391   \n",
       "183    1.446281 -0.886405 -0.706902            1.429063   \n",
       "145    0.788093  1.128152 -0.778669            0.627505   \n",
       "45    -0.943979 -0.886405 -1.065735           -0.822933   \n",
       "159    1.030583 -0.886405 -0.635135            0.665675   \n",
       "60    -0.684169  1.128152  2.235532           -0.555747   \n",
       "123    0.407037  1.128152  0.010765            0.322150   \n",
       "179    1.376998  1.128152 -0.276302            1.238216   \n",
       "185    1.480922  1.128152 -0.635135            1.467233   \n",
       "122    0.389716 -0.886405  0.082532            0.322150   \n",
       "44    -0.961300 -0.886405  0.728432           -0.822933   \n",
       "16    -1.446281 -0.886405 -0.276302           -1.509983   \n",
       "55    -0.770772  1.128152  0.584899           -0.670255   \n",
       "150    0.874697  1.128152  0.297832            0.665675   \n",
       "111    0.199188 -0.886405 -1.424569            0.093133   \n",
       "22    -1.342356 -0.886405  0.513132           -1.357305   \n",
       "189    1.550205 -0.886405 -0.204535            1.619911   \n",
       "129    0.510961  1.128152 -0.061002            0.398489   \n",
       "4     -1.654129 -0.886405 -0.563369           -1.662660   \n",
       "83    -0.285792 -0.886405  0.513132           -0.250391   \n",
       "106    0.112585 -0.886405  1.948466            0.093133   \n",
       "134    0.597565  1.128152 -1.352802            0.474828   \n",
       "66    -0.580244 -0.886405  0.297832           -0.479408   \n",
       "26    -1.273073 -0.886405  0.441365           -1.242797   \n",
       "113    0.233830  1.128152 -1.424569            0.131303   \n",
       "168    1.186470 -0.886405 -0.204535            1.009200   \n",
       "63    -0.632206 -0.886405  1.087265           -0.517577   \n",
       "8     -1.584846  1.128152  1.804932           -1.586321   \n",
       "75    -0.424358  1.128152 -0.922202           -0.250391   \n",
       "118    0.320433 -0.886405  0.871965            0.245811   \n",
       "143    0.753452 -0.886405 -0.491602            0.589336   \n",
       "71    -0.493641 -0.886405  0.584899           -0.441239   \n",
       "124    0.424358 -0.886405 -1.137502            0.360319   \n",
       "184    1.463601 -0.886405  0.154298            1.467233   \n",
       "97    -0.043302 -0.886405 -0.850435           -0.021375   \n",
       "149    0.857376  1.128152 -0.348068            0.665675   \n",
       "24    -1.307715 -0.886405  1.087265           -1.242797   \n",
       "30    -1.203790  1.128152  1.517865           -1.166458   \n",
       "160    1.047904 -0.886405  1.230799            0.703844   \n",
       "40    -1.030583 -0.886405  1.876699           -0.861102   \n",
       "56    -0.753452 -0.886405  0.871965           -0.632086   \n",
       "\n",
       "     Spending Score (1-100)  \n",
       "18                -0.823017  \n",
       "170               -1.444162  \n",
       "107               -0.163051  \n",
       "98                -0.318337  \n",
       "177                0.729845  \n",
       "182               -1.366519  \n",
       "5                  1.001596  \n",
       "146               -0.551266  \n",
       "12                -1.366519  \n",
       "152               -1.172411  \n",
       "61                 0.186343  \n",
       "125                1.040418  \n",
       "180               -0.706552  \n",
       "154               -1.327697  \n",
       "80                 0.031057  \n",
       "7                  1.700384  \n",
       "33                 1.622741  \n",
       "130               -1.599448  \n",
       "37                 0.885132  \n",
       "74                -0.124229  \n",
       "183                1.467455  \n",
       "145                1.816849  \n",
       "45                 0.574559  \n",
       "159                0.885132  \n",
       "60                 0.225165  \n",
       "123                1.583920  \n",
       "179                1.545098  \n",
       "185                1.816849  \n",
       "122                0.302808  \n",
       "44                -0.861839  \n",
       "16                -0.590088  \n",
       "55                -0.357158  \n",
       "150               -1.288876  \n",
       "111                0.147522  \n",
       "22                -1.754735  \n",
       "189                1.350990  \n",
       "129                0.962775  \n",
       "4                 -0.395980  \n",
       "83                -0.240694  \n",
       "106               -0.007764  \n",
       "134               -1.754735  \n",
       "66                -0.007764  \n",
       "26                -0.706552  \n",
       "113               -0.163051  \n",
       "168               -0.900660  \n",
       "63                 0.341630  \n",
       "8                 -1.832378  \n",
       "75                 0.147522  \n",
       "118               -0.279515  \n",
       "143                1.428633  \n",
       "71                -0.318337  \n",
       "124               -0.823017  \n",
       "184               -0.434801  \n",
       "97                -0.007764  \n",
       "149                1.545098  \n",
       "24                -1.405340  \n",
       "30                -1.793556  \n",
       "160               -0.590088  \n",
       "40                -0.590088  \n",
       "56                -0.007764  "
      ]
     },
     "execution_count": 169,
     "metadata": {},
     "output_type": "execute_result"
    }
   ],
   "source": [
    "X_test"
   ]
  },
  {
   "cell_type": "code",
   "execution_count": 170,
   "id": "62e04bd1",
   "metadata": {},
   "outputs": [
    {
     "data": {
      "text/plain": [
       "18     0\n",
       "170    3\n",
       "107    0\n",
       "98     0\n",
       "177    2\n",
       "182    3\n",
       "5      5\n",
       "146    3\n",
       "12     1\n",
       "152    7\n",
       "61     6\n",
       "125    4\n",
       "180    7\n",
       "154    7\n",
       "80     0\n",
       "7      5\n",
       "33     6\n",
       "130    3\n",
       "37     5\n",
       "74     0\n",
       "183    4\n",
       "145    2\n",
       "45     5\n",
       "159    4\n",
       "60     0\n",
       "123    2\n",
       "179    2\n",
       "185    2\n",
       "122    4\n",
       "44     1\n",
       "16     5\n",
       "55     0\n",
       "150    3\n",
       "111    5\n",
       "22     1\n",
       "189    4\n",
       "129    2\n",
       "4      5\n",
       "83     1\n",
       "106    1\n",
       "134    3\n",
       "66     1\n",
       "26     1\n",
       "113    6\n",
       "168    7\n",
       "63     1\n",
       "8      0\n",
       "75     6\n",
       "118    1\n",
       "143    4\n",
       "71     1\n",
       "124    7\n",
       "184    7\n",
       "97     5\n",
       "149    2\n",
       "24     1\n",
       "30     0\n",
       "160    7\n",
       "40     1\n",
       "56     1\n",
       "Name: kclus, dtype: int32"
      ]
     },
     "execution_count": 170,
     "metadata": {},
     "output_type": "execute_result"
    }
   ],
   "source": [
    "y_test"
   ]
  },
  {
   "cell_type": "code",
   "execution_count": 171,
   "id": "1d3e64d5",
   "metadata": {},
   "outputs": [
    {
     "data": {
      "text/plain": [
       "(60, 5)"
      ]
     },
     "execution_count": 171,
     "metadata": {},
     "output_type": "execute_result"
    }
   ],
   "source": [
    "X_test.shape"
   ]
  },
  {
   "cell_type": "code",
   "execution_count": 172,
   "id": "340298fd",
   "metadata": {},
   "outputs": [
    {
     "data": {
      "text/plain": [
       "(60,)"
      ]
     },
     "execution_count": 172,
     "metadata": {},
     "output_type": "execute_result"
    }
   ],
   "source": [
    "y_test.shape"
   ]
  },
  {
   "cell_type": "markdown",
   "id": "d4d3db01",
   "metadata": {},
   "source": [
    "## Building the model"
   ]
  },
  {
   "cell_type": "code",
   "execution_count": 173,
   "id": "12a5f434",
   "metadata": {},
   "outputs": [],
   "source": [
    "from sklearn.linear_model import Ridge\n",
    "from sklearn.linear_model import Lasso\n"
   ]
  },
  {
   "cell_type": "code",
   "execution_count": 174,
   "id": "e7870de5",
   "metadata": {},
   "outputs": [],
   "source": [
    "ridge = Ridge()\n",
    "lasso = Lasso()"
   ]
  },
  {
   "cell_type": "code",
   "execution_count": 175,
   "id": "a80e33db",
   "metadata": {},
   "outputs": [
    {
     "data": {
      "text/plain": [
       "Ridge()"
      ]
     },
     "execution_count": 175,
     "metadata": {},
     "output_type": "execute_result"
    }
   ],
   "source": [
    "ridge.fit(X_train,y_train)\n"
   ]
  },
  {
   "cell_type": "code",
   "execution_count": 176,
   "id": "76750af3",
   "metadata": {},
   "outputs": [
    {
     "data": {
      "text/plain": [
       "Lasso()"
      ]
     },
     "execution_count": 176,
     "metadata": {},
     "output_type": "execute_result"
    }
   ],
   "source": [
    "lasso.fit(X_train,y_train)\n"
   ]
  },
  {
   "cell_type": "markdown",
   "id": "3d5e0d44",
   "metadata": {},
   "source": [
    "## Training and Testing the model"
   ]
  },
  {
   "cell_type": "code",
   "execution_count": 177,
   "id": "96c4a30d",
   "metadata": {},
   "outputs": [
    {
     "data": {
      "text/plain": [
       "array([ 2.68173012,  2.90385668,  4.17029372,  3.39317205,  3.63554666,\n",
       "        1.95290371,  2.5227002 ,  4.18710142,  3.31148824,  1.90056584,\n",
       "        3.96322172,  0.57787364,  3.45722112,  2.69207192,  4.9584022 ,\n",
       "        2.58218442,  0.12590665,  3.42289532,  3.05536458,  3.21664923,\n",
       "        4.01435922,  2.38066571,  5.6035061 ,  3.89789373, -0.0263596 ,\n",
       "        0.6626591 ,  6.07297025,  1.39597306,  3.81418029,  3.45187398,\n",
       "        4.29668499,  0.24505397,  3.41217281,  1.37901108,  3.45612443,\n",
       "        1.42260263,  4.39562299,  2.73691697,  3.71485452,  3.95702657,\n",
       "        4.19833333,  4.39396093,  2.5299378 ,  4.96057959,  4.53509787,\n",
       "        0.18541103,  4.45076903,  0.29355217,  3.94628877,  3.839893  ,\n",
       "        4.4273489 ,  4.55088423,  4.7572871 ,  1.98843816,  4.79916746,\n",
       "        4.52192522,  3.32464547,  2.62702886,  4.38475506,  3.36708822,\n",
       "        4.1869019 ,  5.32107586,  1.79913298,  4.40120472,  5.50849106,\n",
       "        2.98785522,  4.88255923,  1.32739427,  2.20009375,  4.10211364,\n",
       "        4.50286219,  4.83620925,  5.49273087,  4.00391144,  4.63892605,\n",
       "        3.92526764,  3.87515692,  5.20651973,  3.51167467,  3.36680059,\n",
       "        2.52403913, -0.13828329,  5.09504107, -0.28551285,  4.9297163 ,\n",
       "        4.23428307,  4.15297749,  5.72866352,  2.00933772,  5.725782  ,\n",
       "        5.46637498,  2.88146754,  4.56160024,  4.19335391,  4.38140934,\n",
       "        0.58133856,  4.46742326,  1.35950968,  2.97658894,  3.706181  ,\n",
       "        5.98906042,  2.56856497,  5.19132916,  3.11898498,  2.31351041,\n",
       "        1.52889521,  1.86651159,  5.09843208,  3.64549196,  4.27213607,\n",
       "        4.8042524 ,  4.91971927,  0.04103121,  2.71508987,  5.86304102,\n",
       "        4.70515384,  3.45597694,  1.46178228,  2.77378177,  3.41850408,\n",
       "        3.87493801,  2.91292443,  4.0797428 ,  2.98228322,  4.74920991,\n",
       "        5.27293394,  4.86939598,  2.47910968,  4.08725367, -0.47293439,\n",
       "        5.41120893,  3.67893408,  3.95198905,  4.21896397,  4.22586067,\n",
       "        0.62216398,  4.1996648 ,  2.60518157,  4.90179786,  3.89262028])"
      ]
     },
     "execution_count": 177,
     "metadata": {},
     "output_type": "execute_result"
    }
   ],
   "source": [
    "y_train_pred = ridge.predict(X_train)\n",
    "y_train_pred"
   ]
  },
  {
   "cell_type": "code",
   "execution_count": 178,
   "id": "b74eb73b",
   "metadata": {},
   "outputs": [
    {
     "data": {
      "text/plain": [
       "array([ 1.65047529,  3.42716829,  1.40459166,  2.05856191,  4.12368772,\n",
       "        2.77127298,  5.00357621,  2.25084858,  1.9879814 ,  3.69401862,\n",
       "        4.86709316,  4.2846313 ,  4.30914915,  3.43586689,  0.96089456,\n",
       "        4.6791226 ,  4.46099903,  2.65370568,  4.25130395,  0.77686113,\n",
       "        4.46445606,  3.59469329,  4.99090894,  4.53707086, -0.51131859,\n",
       "        2.46116788,  3.00908775,  3.44586339,  3.56618253,  2.81652511,\n",
       "        4.16989377,  2.08596771,  3.02299386,  5.80653082,  3.39094057,\n",
       "        3.76758948,  2.77911493,  4.49905885,  3.02126494,  0.89506139,\n",
       "        5.54900414,  3.22203703,  3.1646028 ,  5.10351161,  4.47222096,\n",
       "        1.94671188,  0.68888202,  4.16372002,  2.58831896,  4.09996285,\n",
       "        2.91563468,  5.71604018,  3.8089355 ,  4.97340528,  3.06175416,\n",
       "        2.43339612,  1.13554568,  2.27342341,  1.03637752,  2.35916605])"
      ]
     },
     "execution_count": 178,
     "metadata": {},
     "output_type": "execute_result"
    }
   ],
   "source": [
    "y_test_pred = ridge.predict(X_test)\n",
    "y_test_pred\n"
   ]
  },
  {
   "cell_type": "code",
   "execution_count": 179,
   "id": "f4641362",
   "metadata": {},
   "outputs": [
    {
     "data": {
      "text/plain": [
       "array([3.41430412, 3.1604995 , 3.63638317, 3.54120643, 3.4460297 ,\n",
       "       3.12877392, 3.06532277, 3.66810874, 3.60465759, 2.90669488,\n",
       "       3.54120643, 2.49426237, 3.63638317, 3.09704835, 3.85846221,\n",
       "       3.06532277, 2.55771353, 3.47775528, 3.54120643, 3.63638317,\n",
       "       3.76328548, 3.06532277, 4.04881568, 3.54120643, 2.49426237,\n",
       "       2.52598795, 4.0170901 , 2.97014604, 3.25567623, 3.63638317,\n",
       "       3.66810874, 2.52598795, 3.1604995 , 2.74806699, 3.22395066,\n",
       "       2.77979257, 3.69983432, 3.28740181, 3.38257855, 3.4460297 ,\n",
       "       3.57293201, 3.63638317, 3.09704835, 4.04881568, 3.63638317,\n",
       "       2.5894391 , 3.89018779, 2.65289026, 3.60465759, 3.89018779,\n",
       "       3.63638317, 3.66810874, 3.7315599 , 3.12877392, 3.89018779,\n",
       "       3.7315599 , 3.66810874, 2.93842046, 3.7315599 , 3.54120643,\n",
       "       3.95363894, 3.92191337, 3.09704835, 3.66810874, 3.92191337,\n",
       "       3.22395066, 3.92191337, 2.65289026, 3.06532277, 3.63638317,\n",
       "       3.54120643, 4.04881568, 3.98536452, 3.4460297 , 3.79501106,\n",
       "       3.76328548, 3.47775528, 4.08054125, 3.69983432, 3.54120643,\n",
       "       3.06532277, 2.52598795, 3.98536452, 2.46253679, 4.08054125,\n",
       "       3.98536452, 3.79501106, 4.04881568, 3.12877392, 3.98536452,\n",
       "       3.85846221, 3.50948086, 4.0170901 , 3.50948086, 3.66810874,\n",
       "       2.77979257, 3.69983432, 2.77979257, 3.09704835, 3.38257855,\n",
       "       4.08054125, 3.41430412, 3.98536452, 3.31912739, 3.38257855,\n",
       "       2.81151815, 2.97014604, 3.76328548, 3.63638317, 3.63638317,\n",
       "       3.92191337, 4.0170901 , 2.52598795, 3.09704835, 4.04881568,\n",
       "       3.57293201, 3.4460297 , 2.74806699, 3.38257855, 3.7315599 ,\n",
       "       3.50948086, 3.4460297 , 3.35085297, 3.00187161, 3.57293201,\n",
       "       4.0170901 , 3.79501106, 2.84324372, 3.57293201, 2.43081121,\n",
       "       3.95363894, 3.31912739, 3.85846221, 3.69983432, 3.82673663,\n",
       "       2.49426237, 3.60465759, 3.09704835, 3.79501106, 3.50948086])"
      ]
     },
     "execution_count": 179,
     "metadata": {},
     "output_type": "execute_result"
    }
   ],
   "source": [
    "y_train_predl = lasso.predict(X_train)\n",
    "y_train_predl\n"
   ]
  },
  {
   "cell_type": "code",
   "execution_count": 180,
   "id": "29ef16e2",
   "metadata": {},
   "outputs": [
    {
     "data": {
      "text/plain": [
       "array([3.00187161, 3.38257855, 2.93842046, 3.12877392, 3.79501106,\n",
       "       3.19222508, 3.95363894, 3.12877392, 2.81151815, 3.25567623,\n",
       "       4.04881568, 3.66810874, 3.47775528, 3.1604995 , 2.84324372,\n",
       "       3.92191337, 4.08054125, 3.1604995 , 3.69983432, 2.77979257,\n",
       "       3.7315599 , 3.76328548, 3.89018779, 3.69983432, 2.43081121,\n",
       "       3.41430412, 3.54120643, 3.69983432, 3.38257855, 3.09704835,\n",
       "       3.54120643, 3.1604995 , 3.28740181, 4.04881568, 3.19222508,\n",
       "       3.50948086, 3.4460297 , 3.66810874, 3.19222508, 2.55771353,\n",
       "       4.0170901 , 3.28740181, 3.22395066, 4.04881568, 3.50948086,\n",
       "       2.93842046, 2.62116468, 3.82673663, 3.03359719, 3.63638317,\n",
       "       3.1604995 , 3.92191337, 3.35085297, 3.79501106, 3.57293201,\n",
       "       2.93842046, 2.74806699, 2.8749693 , 2.5894391 , 3.03359719])"
      ]
     },
     "execution_count": 180,
     "metadata": {},
     "output_type": "execute_result"
    }
   ],
   "source": [
    "y_test_predl = lasso.predict(X_test)\n",
    "y_test_predl\n"
   ]
  },
  {
   "cell_type": "markdown",
   "id": "c408284e",
   "metadata": {},
   "source": [
    "## Evaluation Metrics for Regression"
   ]
  },
  {
   "cell_type": "code",
   "execution_count": 181,
   "id": "6246abc4",
   "metadata": {},
   "outputs": [],
   "source": [
    "from sklearn import metrics"
   ]
  },
  {
   "cell_type": "code",
   "execution_count": 182,
   "id": "f234fdfe",
   "metadata": {},
   "outputs": [
    {
     "data": {
      "text/plain": [
       "2.556992760889911"
      ]
     },
     "execution_count": 182,
     "metadata": {},
     "output_type": "execute_result"
    }
   ],
   "source": [
    "# MSE\n",
    "\n",
    "# ridge mse\n",
    "metrics.mean_squared_error(y_test,y_test_pred)"
   ]
  },
  {
   "cell_type": "code",
   "execution_count": 183,
   "id": "aa172994",
   "metadata": {},
   "outputs": [
    {
     "data": {
      "text/plain": [
       "4.459836062056362"
      ]
     },
     "execution_count": 183,
     "metadata": {},
     "output_type": "execute_result"
    }
   ],
   "source": [
    "# lasso mse\n",
    "metrics.mean_squared_error(y_test,y_test_predl)"
   ]
  },
  {
   "cell_type": "code",
   "execution_count": 184,
   "id": "0f80cd16",
   "metadata": {},
   "outputs": [
    {
     "data": {
      "text/plain": [
       "1.5990599616305545"
      ]
     },
     "execution_count": 184,
     "metadata": {},
     "output_type": "execute_result"
    }
   ],
   "source": [
    "# RMSE\n",
    "\n",
    "#ridge rmse\n",
    "np.sqrt(metrics.mean_squared_error(y_test,y_test_pred))"
   ]
  },
  {
   "cell_type": "code",
   "execution_count": 185,
   "id": "a24640a9",
   "metadata": {},
   "outputs": [
    {
     "data": {
      "text/plain": [
       "2.111832394404528"
      ]
     },
     "execution_count": 185,
     "metadata": {},
     "output_type": "execute_result"
    }
   ],
   "source": [
    "# lasso rmse \n",
    "np.sqrt(metrics.mean_squared_error(y_test,y_test_predl))"
   ]
  },
  {
   "cell_type": "code",
   "execution_count": 186,
   "id": "2254c49d",
   "metadata": {},
   "outputs": [
    {
     "data": {
      "text/plain": [
       "0.45200538073648944"
      ]
     },
     "execution_count": 186,
     "metadata": {},
     "output_type": "execute_result"
    }
   ],
   "source": [
    "# ridge training acc.\n",
    "\n",
    "metrics.r2_score(y_train,y_train_pred)"
   ]
  },
  {
   "cell_type": "code",
   "execution_count": 187,
   "id": "3b171839",
   "metadata": {},
   "outputs": [
    {
     "data": {
      "text/plain": [
       "0.5292915760276296"
      ]
     },
     "execution_count": 187,
     "metadata": {},
     "output_type": "execute_result"
    }
   ],
   "source": [
    "# testing acc. of ridge\n",
    "\n",
    "metrics.r2_score(y_test,y_test_pred) "
   ]
  },
  {
   "cell_type": "code",
   "execution_count": 188,
   "id": "d178a3eb",
   "metadata": {},
   "outputs": [
    {
     "data": {
      "text/plain": [
       "0.21181437427038774"
      ]
     },
     "execution_count": 188,
     "metadata": {},
     "output_type": "execute_result"
    }
   ],
   "source": [
    "# lasso training  acc\n",
    "\n",
    "metrics.r2_score(y_train,y_train_predl)"
   ]
  },
  {
   "cell_type": "code",
   "execution_count": 189,
   "id": "590ad1e9",
   "metadata": {},
   "outputs": [
    {
     "data": {
      "text/plain": [
       "0.17900338395362558"
      ]
     },
     "execution_count": 189,
     "metadata": {},
     "output_type": "execute_result"
    }
   ],
   "source": [
    "# testing acc. of lasso\n",
    "\n",
    "metrics.r2_score(y_test,y_test_predl) "
   ]
  },
  {
   "cell_type": "code",
   "execution_count": null,
   "id": "f9442278",
   "metadata": {},
   "outputs": [],
   "source": []
  }
 ],
 "metadata": {
  "kernelspec": {
   "display_name": "Python 3 (ipykernel)",
   "language": "python",
   "name": "python3"
  },
  "language_info": {
   "codemirror_mode": {
    "name": "ipython",
    "version": 3
   },
   "file_extension": ".py",
   "mimetype": "text/x-python",
   "name": "python",
   "nbconvert_exporter": "python",
   "pygments_lexer": "ipython3",
   "version": "3.9.12"
  }
 },
 "nbformat": 4,
 "nbformat_minor": 5
}
